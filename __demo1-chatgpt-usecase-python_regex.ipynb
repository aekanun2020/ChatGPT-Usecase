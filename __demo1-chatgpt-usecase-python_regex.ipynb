{
 "cells": [
  {
   "cell_type": "raw",
   "id": "4fe74147",
   "metadata": {},
   "source": [
    "Here is a link for a text of log:\n",
    "\n",
    "54.36.149.41 - - [22/Jan/2019:03:56:14 +0330] \"GET /filter/27|13%20%D9%85%DA%AF%D8%A7%D9%BE%DB%8C%DA%A9%D8%B3%D9%84,27|%DA%A9%D9%85%D8%AA%D8%B1%20%D8%A7%D8%B2%205%20%D9%85%DA%AF%D8%A7%D9%BE%DB%8C%DA%A9%D8%B3%D9%84,p53 HTTP/1.1\" 200 30577 \"-\" \"Mozilla/5.0 (compatible; AhrefsBot/6.1; +http://ahrefs.com/robot/)\" \"-\"\n",
    "\n",
    "From the text, please provide Pyspark Script that is able to work as following:\n",
    "\n",
    "Use Spark's regular expression function for extracting feature columns and create a dataframe with ip, request, status, size, timestamp, user agent columns using Spark operation of \"withColumn()\"."
   ]
  },
  {
   "cell_type": "code",
   "execution_count": 1,
   "id": "c5590582",
   "metadata": {},
   "outputs": [
    {
     "name": "stderr",
     "output_type": "stream",
     "text": [
      "23/01/28 16:17:40 WARN NativeCodeLoader: Unable to load native-hadoop library for your platform... using builtin-java classes where applicable\n",
      "Using Spark's default log4j profile: org/apache/spark/log4j-defaults.properties\n",
      "Setting default log level to \"WARN\".\n",
      "To adjust logging level use sc.setLogLevel(newLevel). For SparkR, use setLogLevel(newLevel).\n"
     ]
    }
   ],
   "source": [
    "from pyspark.sql import SparkSession\n",
    "\n",
    "spark = SparkSession.\\\n",
    "        builder.\\\n",
    "        appName(\"จาก raw data สู่ Disk\").\\\n",
    "        master(\"spark://spark-master:7077\").\\\n",
    "        config(\"spark.executor.memory\", \"1000m\").\\\n",
    "        config(\"spark.executor.cores\", \"2\").\\\n",
    "        config(\"spark.cores.max\", \"6\").\\\n",
    "        getOrCreate()"
   ]
  },
  {
   "cell_type": "code",
   "execution_count": 2,
   "id": "9c27a6ed",
   "metadata": {},
   "outputs": [],
   "source": [
    "# Read the access log file\n",
    "log_df = spark.read.text(\"access.log\").withColumnRenamed('value','log_text')"
   ]
  },
  {
   "cell_type": "code",
   "execution_count": 3,
   "id": "1b76455c",
   "metadata": {},
   "outputs": [
    {
     "name": "stdout",
     "output_type": "stream",
     "text": [
      "10365152 access.log\n"
     ]
    }
   ],
   "source": [
    "! wc -l access.log"
   ]
  },
  {
   "cell_type": "code",
   "execution_count": 4,
   "id": "2ea61bbc",
   "metadata": {},
   "outputs": [
    {
     "name": "stderr",
     "output_type": "stream",
     "text": [
      "                                                                                \r"
     ]
    },
    {
     "data": {
      "text/plain": [
       "10365152"
      ]
     },
     "execution_count": 4,
     "metadata": {},
     "output_type": "execute_result"
    }
   ],
   "source": [
    "log_df.count()"
   ]
  },
  {
   "cell_type": "code",
   "execution_count": null,
   "id": "31223fa2",
   "metadata": {},
   "outputs": [],
   "source": []
  },
  {
   "cell_type": "code",
   "execution_count": 5,
   "id": "8fd12916",
   "metadata": {},
   "outputs": [],
   "source": [
    "### หลังจากบรรทัดนี้เป็นฝีมือ ChatGPT-3"
   ]
  },
  {
   "cell_type": "code",
   "execution_count": 6,
   "id": "49edf252",
   "metadata": {},
   "outputs": [],
   "source": [
    "from pyspark.sql.functions import regexp_extract"
   ]
  },
  {
   "cell_type": "code",
   "execution_count": 7,
   "id": "88fb78bf",
   "metadata": {},
   "outputs": [],
   "source": [
    "# Extract feature columns using regular expressions\n",
    "log_df = log_df.withColumn(\"ip\", regexp_extract(\"log_text\", r\"^([\\d.]+)\", 1))\n",
    "log_df = log_df.withColumn(\"request\", regexp_extract(\"log_text\", r\"\\\"(.*?)\\\"\", 1))\n",
    "log_df = log_df.withColumn(\"status\", regexp_extract(\"log_text\", r\"\\\"\\s+(\\d+)\", 1))\n",
    "log_df = log_df.withColumn(\"size\", regexp_extract(\"log_text\", r\"\\\"\\s+\\d+\\s+(\\d+)\", 1))\n",
    "log_df = log_df.withColumn(\"timestamp\", regexp_extract(\"log_text\", r\"\\[(.*?)\\]\", 1))\n",
    "log_df = log_df.withColumn(\"user_agent\", regexp_extract(\"log_text\", r\"\\\"(.*?)\\\"$\", 1))\n"
   ]
  },
  {
   "cell_type": "code",
   "execution_count": 8,
   "id": "c14dff70",
   "metadata": {},
   "outputs": [
    {
     "name": "stdout",
     "output_type": "stream",
     "text": [
      "+--------------------+-------------+--------------------+------+-----+--------------------+--------------------+\n",
      "|            log_text|           ip|             request|status| size|           timestamp|          user_agent|\n",
      "+--------------------+-------------+--------------------+------+-----+--------------------+--------------------+\n",
      "|54.36.149.41 - - ...| 54.36.149.41|GET /filter/27|13...|   200|30577|22/Jan/2019:03:56...|GET /filter/27|13...|\n",
      "|31.56.96.51 - - [...|  31.56.96.51|GET /image/60844/...|   200| 5667|22/Jan/2019:03:56...|GET /image/60844/...|\n",
      "|31.56.96.51 - - [...|  31.56.96.51|GET /image/61474/...|   200| 5379|22/Jan/2019:03:56...|GET /image/61474/...|\n",
      "|40.77.167.129 - -...|40.77.167.129|GET /image/14925/...|   200| 1696|22/Jan/2019:03:56...|GET /image/14925/...|\n",
      "|91.99.72.15 - - [...|  91.99.72.15|GET /product/3189...|   200|41483|22/Jan/2019:03:56...|GET /product/3189...|\n",
      "|40.77.167.129 - -...|40.77.167.129|GET /image/23488/...|   200| 2654|22/Jan/2019:03:56...|GET /image/23488/...|\n",
      "|40.77.167.129 - -...|40.77.167.129|GET /image/45437/...|   200| 3688|22/Jan/2019:03:56...|GET /image/45437/...|\n",
      "|40.77.167.129 - -...|40.77.167.129|GET /image/576/ar...|   200|14776|22/Jan/2019:03:56...|GET /image/576/ar...|\n",
      "|66.249.66.194 - -...|66.249.66.194|GET /filter/b41,b...|   200|34277|22/Jan/2019:03:56...|GET /filter/b41,b...|\n",
      "|40.77.167.129 - -...|40.77.167.129|GET /image/57710/...|   200| 1695|22/Jan/2019:03:56...|GET /image/57710/...|\n",
      "|207.46.13.136 - -...|207.46.13.136|GET /product/1021...|   200|39677|22/Jan/2019:03:56...|GET /product/1021...|\n",
      "|40.77.167.129 - -...|40.77.167.129|GET /image/578/ar...|   200| 9831|22/Jan/2019:03:56...|GET /image/578/ar...|\n",
      "|178.253.33.51 - -...|178.253.33.51|GET /m/product/32...|   200|20406|22/Jan/2019:03:56...|GET /m/product/32...|\n",
      "|40.77.167.129 - -...|40.77.167.129|GET /image/6229/p...|   200| 1796|22/Jan/2019:03:56...|GET /image/6229/p...|\n",
      "|91.99.72.15 - - [...|  91.99.72.15|GET /product/1007...|   200|41725|22/Jan/2019:03:56...|GET /product/1007...|\n",
      "|40.77.167.129 - -...|40.77.167.129|GET /image/6229/p...|   200| 2739|22/Jan/2019:03:56...|GET /image/6229/p...|\n",
      "|207.46.13.136 - -...|207.46.13.136|GET /product/1492...|   404|33617|22/Jan/2019:03:56...|GET /product/1492...|\n",
      "|40.77.167.129 - -...|40.77.167.129|GET /image/6248/p...|   200| 2788|22/Jan/2019:03:56...|GET /image/6248/p...|\n",
      "|40.77.167.129 - -...|40.77.167.129|GET /image/64815/...|   200| 3481|22/Jan/2019:03:56...|GET /image/64815/...|\n",
      "|66.249.66.194 - -...|66.249.66.194|GET /m/filter/b2,...|   200|19451|22/Jan/2019:03:56...|GET /m/filter/b2,...|\n",
      "+--------------------+-------------+--------------------+------+-----+--------------------+--------------------+\n",
      "only showing top 20 rows\n",
      "\n"
     ]
    }
   ],
   "source": [
    "log_df.show()"
   ]
  },
  {
   "cell_type": "code",
   "execution_count": null,
   "id": "5ea50fcd",
   "metadata": {},
   "outputs": [],
   "source": []
  }
 ],
 "metadata": {
  "kernelspec": {
   "display_name": "Python 3 (ipykernel)",
   "language": "python",
   "name": "python3"
  },
  "language_info": {
   "codemirror_mode": {
    "name": "ipython",
    "version": 3
   },
   "file_extension": ".py",
   "mimetype": "text/x-python",
   "name": "python",
   "nbconvert_exporter": "python",
   "pygments_lexer": "ipython3",
   "version": "3.9.2"
  }
 },
 "nbformat": 4,
 "nbformat_minor": 5
}
