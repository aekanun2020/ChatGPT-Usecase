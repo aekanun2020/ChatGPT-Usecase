{
 "cells": [
  {
   "cell_type": "raw",
   "id": "f97aa077",
   "metadata": {},
   "source": [
    "from pyspark.sql import SparkSession\n",
    "\n",
    "spark = SparkSession.\\\n",
    "        builder.\\\n",
    "        appName(\"จาก raw data สู่ Disk\").\\\n",
    "        master(\"spark://spark-master:7077\").config('spark.jars.packages', 'com.microsoft.azure:spark-mssql-connector:1.0.2').getOrCreate()"
   ]
  },
  {
   "cell_type": "code",
   "execution_count": 1,
   "id": "1ecdaa7c",
   "metadata": {},
   "outputs": [
    {
     "name": "stderr",
     "output_type": "stream",
     "text": [
      "Ivy Default Cache set to: /root/.ivy2/cache\n",
      "The jars for the packages stored in: /root/.ivy2/jars\n",
      ":: loading settings :: url = jar:file:/usr/local/lib/python3.9/dist-packages/pyspark/jars/ivy-2.4.0.jar!/org/apache/ivy/core/settings/ivysettings.xml\n",
      "com.microsoft.azure#spark-mssql-connector added as a dependency\n",
      ":: resolving dependencies :: org.apache.spark#spark-submit-parent-49012082-b132-49f0-a730-ba732c7e7847;1.0\n",
      "\tconfs: [default]\n",
      "\tfound com.microsoft.azure#spark-mssql-connector;1.0.2 in central\n",
      "\tfound com.microsoft.sqlserver#mssql-jdbc;8.4.1.jre8 in central\n",
      ":: resolution report :: resolve 109ms :: artifacts dl 2ms\n",
      "\t:: modules in use:\n",
      "\tcom.microsoft.azure#spark-mssql-connector;1.0.2 from central in [default]\n",
      "\tcom.microsoft.sqlserver#mssql-jdbc;8.4.1.jre8 from central in [default]\n",
      "\t---------------------------------------------------------------------\n",
      "\t|                  |            modules            ||   artifacts   |\n",
      "\t|       conf       | number| search|dwnlded|evicted|| number|dwnlded|\n",
      "\t---------------------------------------------------------------------\n",
      "\t|      default     |   2   |   0   |   0   |   0   ||   2   |   0   |\n",
      "\t---------------------------------------------------------------------\n",
      ":: retrieving :: org.apache.spark#spark-submit-parent-49012082-b132-49f0-a730-ba732c7e7847\n",
      "\tconfs: [default]\n",
      "\t0 artifacts copied, 2 already retrieved (0kB/3ms)\n",
      "23/02/02 14:42:10 WARN NativeCodeLoader: Unable to load native-hadoop library for your platform... using builtin-java classes where applicable\n",
      "Using Spark's default log4j profile: org/apache/spark/log4j-defaults.properties\n",
      "Setting default log level to \"WARN\".\n",
      "To adjust logging level use sc.setLogLevel(newLevel). For SparkR, use setLogLevel(newLevel).\n"
     ]
    }
   ],
   "source": [
    "from pyspark.sql import SparkSession\n",
    "\n",
    "spark = SparkSession.\\\n",
    "        builder.\\\n",
    "        appName(\"จาก raw data สู่ Disk\").\\\n",
    "        master(\"spark://spark-master:7077\").\\\n",
    "        config(\"spark.executor.memory\", \"3000m\").\\\n",
    "        config(\"spark.executor.cores\", \"2\").\\\n",
    "        config(\"spark.cores.max\", \"6\").\\\n",
    "        master(\"spark://spark-master:7077\").config('spark.jars.packages', 'com.microsoft.azure:spark-mssql-connector:1.0.2').\\\n",
    "        getOrCreate()"
   ]
  },
  {
   "cell_type": "code",
   "execution_count": 2,
   "id": "81447989",
   "metadata": {},
   "outputs": [],
   "source": [
    "# Read the access log file\n",
    "raw_df = spark.read.text(\"access.log\").withColumnRenamed('value','log_text').repartition(60)"
   ]
  },
  {
   "cell_type": "code",
   "execution_count": 3,
   "id": "b361ba91",
   "metadata": {},
   "outputs": [
    {
     "name": "stdout",
     "output_type": "stream",
     "text": [
      "10365152 access.log\n"
     ]
    }
   ],
   "source": [
    "! wc -l access.log"
   ]
  },
  {
   "cell_type": "code",
   "execution_count": 4,
   "id": "71c91aee",
   "metadata": {},
   "outputs": [
    {
     "name": "stderr",
     "output_type": "stream",
     "text": [
      "                                                                                \r"
     ]
    },
    {
     "data": {
      "text/plain": [
       "10365152"
      ]
     },
     "execution_count": 4,
     "metadata": {},
     "output_type": "execute_result"
    }
   ],
   "source": [
    "raw_df.count()"
   ]
  },
  {
   "cell_type": "code",
   "execution_count": 5,
   "id": "ea16d175",
   "metadata": {},
   "outputs": [
    {
     "data": {
      "text/plain": [
       "60"
      ]
     },
     "execution_count": 5,
     "metadata": {},
     "output_type": "execute_result"
    }
   ],
   "source": [
    "raw_df.rdd.getNumPartitions()"
   ]
  },
  {
   "cell_type": "code",
   "execution_count": 6,
   "id": "13a13f8b",
   "metadata": {},
   "outputs": [],
   "source": [
    "### หลังจากบรรทัดนี้เป็นฝีมือ ChatGPT-3"
   ]
  },
  {
   "cell_type": "code",
   "execution_count": 7,
   "id": "97d678d5",
   "metadata": {},
   "outputs": [],
   "source": [
    "from pyspark.sql.functions import regexp_extract,col,monotonically_increasing_id, when, udf, regexp_replace"
   ]
  },
  {
   "cell_type": "code",
   "execution_count": 8,
   "id": "257052c2",
   "metadata": {},
   "outputs": [],
   "source": [
    "# Extract feature columns using regular expressions\n",
    "log_df = raw_df.withColumn(\"ip\", regexp_extract(col(\"log_text\"), \"^([\\\\d.]+)\", 1)) \\\n",
    "    .withColumn(\"request_type\", regexp_extract(\"log_text\", r\"\\\"(.*?)\\\"\", 1)) \\\n",
    ".withColumn(\"status\", regexp_extract(\"log_text\", r\"\\\"\\s+(\\d+)\", 1))\\\n",
    ".withColumn(\"size\", regexp_extract(\"log_text\", r\"\\\"\\s+\\d+\\s+(\\d+)\", 1))\\\n",
    "    .withColumn(\"timestamp\", regexp_extract(col(\"log_text\"), r'\\[(.*?)\\+', 1)) \\\n",
    "    .withColumn(\"timezone\", regexp_extract(col(\"log_text\"), \"\\\\[.+?\\\\s(.+?)\\\\]\", 1))\\\n",
    ".withColumn(\"agent\", regexp_extract(col(\"log_text\"), r\"\\\"Mozilla\\/(.*?)\\\"\", 1))\\\n",
    ".withColumn(\"OS\", regexp_extract(col(\"log_text\"), \"(Windows|Linux|MacOS|iOS|Android)\", 1))\n"
   ]
  },
  {
   "cell_type": "raw",
   "id": "a87371a4",
   "metadata": {},
   "source": [
    "# Extract feature columns using regular expressions\n",
    "log_df = raw_df.withColumn(\"ip\", regexp_extract(col(\"log_text\"), \"^([\\\\d.]+)\", 1)) \\\n",
    "    .withColumn(\"request_type\", regexp_extract(\"log_text\", r\"\\\"(.*?)\\\"\", 1)) \\\n",
    ".withColumn(\"status\", regexp_extract(\"log_text\", r\"\\\"\\s+(\\d+)\", 1))\\\n",
    ".withColumn(\"size\", regexp_extract(\"log_text\", r\"\\\"\\s+\\d+\\s+(\\d+)\", 1))\\\n",
    "    .withColumn(\"timestamp\", regexp_extract(col(\"log_text\"), \"\\\\[(.+?)\\\\]\", 1)) \\\n",
    "    .withColumn(\"timezone\", regexp_extract(col(\"log_text\"), \"\\\\[.+?\\\\s(.+?)\\\\]\", 1))\\\n",
    ".withColumn(\"agent\", regexp_extract(col(\"log_text\"), r\"\\\"Mozilla\\/(.*?)\\\"\", 1))\\\n",
    ".withColumn(\"OS\", regexp_extract(col(\"log_text\"), \"(Windows|Linux|MacOS|iOS|Android)\", 1))\n"
   ]
  },
  {
   "cell_type": "raw",
   "id": "fc31d748",
   "metadata": {},
   "source": [
    "log_df.limit(10).toPandas().transpagente()"
   ]
  },
  {
   "cell_type": "code",
   "execution_count": 9,
   "id": "88501f5c",
   "metadata": {},
   "outputs": [
    {
     "name": "stdout",
     "output_type": "stream",
     "text": [
      "root\n",
      " |-- log_text: string (nullable = true)\n",
      " |-- ip: string (nullable = true)\n",
      " |-- request_type: string (nullable = true)\n",
      " |-- status: string (nullable = true)\n",
      " |-- size: string (nullable = true)\n",
      " |-- timestamp: string (nullable = true)\n",
      " |-- timezone: string (nullable = true)\n",
      " |-- agent: string (nullable = true)\n",
      " |-- OS: string (nullable = true)\n",
      "\n"
     ]
    }
   ],
   "source": [
    "log_df.printSchema()"
   ]
  },
  {
   "cell_type": "raw",
   "id": "103e6b6b",
   "metadata": {},
   "source": [
    "log_df.describe().toPandas().transpagente()"
   ]
  },
  {
   "cell_type": "code",
   "execution_count": 10,
   "id": "054f0de0",
   "metadata": {},
   "outputs": [],
   "source": [
    "from pyspark.sql.types import *"
   ]
  },
  {
   "cell_type": "markdown",
   "id": "4aacbec9",
   "metadata": {},
   "source": [
    "### สร้าง FACT"
   ]
  },
  {
   "cell_type": "code",
   "execution_count": 11,
   "id": "143a97ad",
   "metadata": {},
   "outputs": [],
   "source": [
    "# split dataframe into 2 dataframes\n",
    "fact_df = log_df.select(\"ip\", \"size\", \"status\",\"agent\",\"OS\",\"timestamp\")\\\n",
    "                .withColumn('size',col('size').cast(FloatType()))\\\n",
    "                .withColumn('status',col('status').cast(IntegerType())).dropna()"
   ]
  },
  {
   "cell_type": "markdown",
   "id": "0eac8060",
   "metadata": {},
   "source": [
    "### สร้าง DIM_STATUS"
   ]
  },
  {
   "cell_type": "code",
   "execution_count": 12,
   "id": "cbaa854a",
   "metadata": {},
   "outputs": [],
   "source": [
    "status_dim_df = log_df.select(\"status\").withColumn('status',col('status').cast(IntegerType())).dropna()"
   ]
  },
  {
   "cell_type": "code",
   "execution_count": 13,
   "id": "9855792e",
   "metadata": {},
   "outputs": [
    {
     "name": "stdout",
     "output_type": "stream",
     "text": [
      "root\n",
      " |-- ip: string (nullable = true)\n",
      " |-- size: float (nullable = true)\n",
      " |-- status: integer (nullable = true)\n",
      " |-- agent: string (nullable = true)\n",
      " |-- OS: string (nullable = true)\n",
      " |-- timestamp: string (nullable = true)\n",
      "\n"
     ]
    }
   ],
   "source": [
    "fact_df.printSchema()"
   ]
  },
  {
   "cell_type": "code",
   "execution_count": 14,
   "id": "0ac456ab",
   "metadata": {},
   "outputs": [
    {
     "name": "stdout",
     "output_type": "stream",
     "text": [
      "root\n",
      " |-- status: integer (nullable = true)\n",
      "\n"
     ]
    }
   ],
   "source": [
    "status_dim_df.printSchema()"
   ]
  },
  {
   "cell_type": "code",
   "execution_count": 15,
   "id": "525e3106",
   "metadata": {},
   "outputs": [
    {
     "name": "stderr",
     "output_type": "stream",
     "text": [
      "                                                                                \r"
     ]
    },
    {
     "data": {
      "text/plain": [
       "10365152"
      ]
     },
     "execution_count": 15,
     "metadata": {},
     "output_type": "execute_result"
    }
   ],
   "source": [
    "status_dim_df.count()"
   ]
  },
  {
   "cell_type": "code",
   "execution_count": 16,
   "id": "7c76437f",
   "metadata": {},
   "outputs": [
    {
     "name": "stderr",
     "output_type": "stream",
     "text": [
      "                                                                                \r"
     ]
    },
    {
     "data": {
      "text/plain": [
       "10365152"
      ]
     },
     "execution_count": 16,
     "metadata": {},
     "output_type": "execute_result"
    }
   ],
   "source": [
    "fact_df.count()"
   ]
  },
  {
   "cell_type": "code",
   "execution_count": 17,
   "id": "1cc72344",
   "metadata": {},
   "outputs": [
    {
     "name": "stderr",
     "output_type": "stream",
     "text": [
      "[Stage 10:======================================================> (58 + 2) / 60]\r"
     ]
    },
    {
     "name": "stdout",
     "output_type": "stream",
     "text": [
      "+-------+------------------+\n",
      "|summary|            status|\n",
      "+-------+------------------+\n",
      "|  count|          10365152|\n",
      "|   mean|210.14194890726156|\n",
      "| stddev|39.214242396992645|\n",
      "|    min|               200|\n",
      "|    max|               504|\n",
      "+-------+------------------+\n",
      "\n"
     ]
    },
    {
     "name": "stderr",
     "output_type": "stream",
     "text": [
      "                                                                                \r"
     ]
    }
   ],
   "source": [
    "status_dim_df.describe().show()"
   ]
  },
  {
   "cell_type": "code",
   "execution_count": 18,
   "id": "e198d227",
   "metadata": {},
   "outputs": [
    {
     "name": "stderr",
     "output_type": "stream",
     "text": [
      "[Stage 13:======================================================> (58 + 2) / 60]\r"
     ]
    },
    {
     "name": "stdout",
     "output_type": "stream",
     "text": [
      "+-------+-------------+------------------+------------------+------------------+--------+--------------------+\n",
      "|summary|           ip|              size|            status|             agent|      OS|           timestamp|\n",
      "+-------+-------------+------------------+------------------+------------------+--------+--------------------+\n",
      "|  count|     10365152|          10365152|          10365152|          10365152|10365152|            10365152|\n",
      "|   mean|         null|12433.109789996326|210.14194890726156| 5.008038585209003|    null|                null|\n",
      "| stddev|         null| 28126.54453953198| 39.21424239699265|0.0893329807768274|    null|                null|\n",
      "|    min|1.132.107.223|               0.0|               200|                  |        |22/Jan/2019:03:56...|\n",
      "|    max|99.99.188.195|         1249490.0|               504|               6.0|     iOS|26/Jan/2019:20:29...|\n",
      "+-------+-------------+------------------+------------------+------------------+--------+--------------------+\n",
      "\n"
     ]
    },
    {
     "name": "stderr",
     "output_type": "stream",
     "text": [
      "                                                                                \r"
     ]
    }
   ],
   "source": [
    "fact_df.describe().show()"
   ]
  },
  {
   "cell_type": "code",
   "execution_count": 19,
   "id": "8a6a4b63",
   "metadata": {},
   "outputs": [],
   "source": [
    "# add primary key and foreign key to the dataframes\n",
    "new_status_dim_df = status_dim_df.distinct().withColumn(\"status_id\", monotonically_increasing_id())\n",
    "\n",
    "# join dataframes on foreign key and primary key\n",
    "fact_status_df = fact_df.join(new_status_dim_df, fact_df.status == new_status_dim_df.status, \"inner\")\\\n",
    ".select(fact_df[\"*\"], new_status_dim_df[\"status_id\"])"
   ]
  },
  {
   "cell_type": "code",
   "execution_count": 20,
   "id": "2d85d83d",
   "metadata": {},
   "outputs": [
    {
     "name": "stderr",
     "output_type": "stream",
     "text": [
      "                                                                                \r"
     ]
    },
    {
     "data": {
      "text/plain": [
       "10365152"
      ]
     },
     "execution_count": 20,
     "metadata": {},
     "output_type": "execute_result"
    }
   ],
   "source": [
    "fact_status_df.count()"
   ]
  },
  {
   "cell_type": "code",
   "execution_count": 21,
   "id": "9f79e2ad",
   "metadata": {},
   "outputs": [
    {
     "name": "stderr",
     "output_type": "stream",
     "text": [
      "[Stage 45:=======================================================>(74 + 1) / 75]\r"
     ]
    },
    {
     "name": "stdout",
     "output_type": "stream",
     "text": [
      "+------+-------+\n",
      "|status|  count|\n",
      "+------+-------+\n",
      "|   206|      3|\n",
      "|   500|  14266|\n",
      "|   504|    103|\n",
      "|   502|    798|\n",
      "|   301|  67553|\n",
      "|   400|    586|\n",
      "|   403|   5634|\n",
      "|   404| 105011|\n",
      "|   408|    112|\n",
      "|   414|     17|\n",
      "|   200|9579825|\n",
      "|   304| 340228|\n",
      "|   499|  50852|\n",
      "|   302| 199835|\n",
      "|   405|      6|\n",
      "|   401|    323|\n",
      "+------+-------+\n",
      "\n"
     ]
    },
    {
     "name": "stderr",
     "output_type": "stream",
     "text": [
      "                                                                                \r"
     ]
    }
   ],
   "source": [
    "fact_status_df.groupBy('status').count().show()"
   ]
  },
  {
   "cell_type": "code",
   "execution_count": 22,
   "id": "96e8bab9",
   "metadata": {},
   "outputs": [
    {
     "name": "stderr",
     "output_type": "stream",
     "text": [
      "                                                                                \r"
     ]
    },
    {
     "name": "stdout",
     "output_type": "stream",
     "text": [
      "+------+-------------+\n",
      "|status|    status_id|\n",
      "+------+-------------+\n",
      "|   206| 369367187456|\n",
      "|   500| 463856467968|\n",
      "|   504| 635655159808|\n",
      "|   502| 730144440320|\n",
      "|   301| 867583393792|\n",
      "|   400| 996432412672|\n",
      "|   403|1030792151040|\n",
      "|   404|1073741824000|\n",
      "|   408|1168231104512|\n",
      "|   414|1314259992576|\n",
      "|   200|1331439861760|\n",
      "|   304|1374389534720|\n",
      "|   499|1477468749824|\n",
      "|   302|1563368095744|\n",
      "|   405|1571958030336|\n",
      "|   401|1709396983808|\n",
      "+------+-------------+\n",
      "\n"
     ]
    }
   ],
   "source": [
    "new_status_dim_df.show()"
   ]
  },
  {
   "cell_type": "code",
   "execution_count": 23,
   "id": "b38bac0c",
   "metadata": {},
   "outputs": [
    {
     "name": "stderr",
     "output_type": "stream",
     "text": [
      "                                                                                \r"
     ]
    },
    {
     "name": "stdout",
     "output_type": "stream",
     "text": [
      "+---------------+--------+------+--------------------+-------+--------------------+------------+\n",
      "|             ip|    size|status|               agent|     OS|           timestamp|   status_id|\n",
      "+---------------+--------+------+--------------------+-------+--------------------+------------+\n",
      "| 87.107.218.136|    64.0|   206|4.0 (compatible; ...|Windows|23/Jan/2019:19:09...|369367187456|\n",
      "| 87.107.218.136|    64.0|   206|4.0 (compatible; ...|Windows|23/Jan/2019:19:09...|369367187456|\n",
      "| 185.118.137.99|202772.0|   206|5.0 (Windows NT 6...|Windows|26/Jan/2019:15:11...|369367187456|\n",
      "|    5.217.85.37|    31.0|   500|5.0 (Windows NT 1...|Windows|22/Jan/2019:11:37...|463856467968|\n",
      "|  2.187.127.247|    31.0|   500|5.0 (Windows NT 6...|Windows|23/Jan/2019:23:24...|463856467968|\n",
      "|151.239.241.163| 35112.0|   500|5.0 (Windows NT 6...|Windows|26/Jan/2019:12:46...|463856467968|\n",
      "|151.239.241.163|  1086.0|   500|5.0 (Windows NT 6...|Windows|26/Jan/2019:11:43...|463856467968|\n",
      "|151.239.241.163| 35137.0|   500|5.0 (Windows NT 6...|Windows|26/Jan/2019:13:03...|463856467968|\n",
      "|151.239.241.163| 35111.0|   500|5.0 (Windows NT 6...|Windows|26/Jan/2019:12:46...|463856467968|\n",
      "|151.239.241.163| 35108.0|   500|5.0 (Windows NT 6...|Windows|26/Jan/2019:12:46...|463856467968|\n",
      "|151.239.241.163| 34686.0|   500|5.0 (Windows NT 6...|Windows|26/Jan/2019:13:03...|463856467968|\n",
      "|   46.224.44.43|    31.0|   500|5.0 (Windows NT 6...|Windows|26/Jan/2019:12:55...|463856467968|\n",
      "|  85.133.238.88|    31.0|   500|5.0 (Windows NT 1...|Windows|26/Jan/2019:12:57...|463856467968|\n",
      "|    91.99.47.57| 33631.0|   500|5.0 (Windows NT 1...|Windows|26/Jan/2019:13:45...|463856467968|\n",
      "|  77.104.102.11|     0.0|   500|5.0 (Windows NT 6...|Windows|26/Jan/2019:13:58...|463856467968|\n",
      "|    91.99.47.57| 35185.0|   500|5.0 (Windows NT 1...|Windows|26/Jan/2019:13:54...|463856467968|\n",
      "|151.239.241.163| 35108.0|   500|5.0 (Windows NT 6...|Windows|26/Jan/2019:13:45...|463856467968|\n",
      "| 46.209.158.174|    31.0|   500|5.0 (Windows NT 6...|Windows|26/Jan/2019:13:11...|463856467968|\n",
      "|151.239.241.163| 32998.0|   500|5.0 (Windows NT 1...|Windows|26/Jan/2019:13:25...|463856467968|\n",
      "|   65.49.68.183| 34988.0|   500|5.0 (Windows NT 1...|Windows|24/Jan/2019:15:19...|463856467968|\n",
      "+---------------+--------+------+--------------------+-------+--------------------+------------+\n",
      "only showing top 20 rows\n",
      "\n"
     ]
    }
   ],
   "source": [
    "fact_status_df.show()"
   ]
  },
  {
   "cell_type": "code",
   "execution_count": 24,
   "id": "77e2adc7",
   "metadata": {},
   "outputs": [
    {
     "name": "stderr",
     "output_type": "stream",
     "text": [
      "                                                                                \r"
     ]
    },
    {
     "data": {
      "text/plain": [
       "10365152"
      ]
     },
     "execution_count": 24,
     "metadata": {},
     "output_type": "execute_result"
    }
   ],
   "source": [
    "fact_status_df.count()"
   ]
  },
  {
   "cell_type": "code",
   "execution_count": 25,
   "id": "20268707",
   "metadata": {},
   "outputs": [],
   "source": [
    "##final_fact_status_df = fact_status_df.drop('status')\n",
    "final_fact_status_df = fact_status_df"
   ]
  },
  {
   "cell_type": "code",
   "execution_count": 26,
   "id": "86e2fa6f",
   "metadata": {},
   "outputs": [],
   "source": [
    "#result_join_df = final_fact_status_df.join(new_status_dim_df,on=[final_fact_status_df.status_id == new_status_dim_df.status_id])"
   ]
  },
  {
   "cell_type": "raw",
   "id": "284f5827",
   "metadata": {},
   "source": [
    "result_join_df.show()"
   ]
  },
  {
   "cell_type": "raw",
   "id": "5915dc52",
   "metadata": {},
   "source": [
    "result_join_df.describe().toPandas().transpagente()"
   ]
  },
  {
   "cell_type": "raw",
   "id": "943e8688",
   "metadata": {},
   "source": [
    "log_df"
   ]
  },
  {
   "cell_type": "markdown",
   "id": "02cf5dbe",
   "metadata": {},
   "source": [
    "### สร้าง DIM_AGENT"
   ]
  },
  {
   "cell_type": "code",
   "execution_count": 27,
   "id": "b3044398",
   "metadata": {},
   "outputs": [],
   "source": [
    "# split dataframe into agent Dim\n",
    "agent_dim_df = log_df.select(\"agent\",\"OS\")\\\n",
    ".withColumn('agent',col('agent').cast(StringType())).dropna()\\\n",
    ".withColumn('OS',col('OS').cast(StringType())).dropna()"
   ]
  },
  {
   "cell_type": "code",
   "execution_count": 28,
   "id": "af4a7a9d",
   "metadata": {},
   "outputs": [
    {
     "name": "stdout",
     "output_type": "stream",
     "text": [
      "root\n",
      " |-- agent: string (nullable = true)\n",
      " |-- OS: string (nullable = true)\n",
      "\n"
     ]
    }
   ],
   "source": [
    "agent_dim_df.printSchema()"
   ]
  },
  {
   "cell_type": "code",
   "execution_count": 29,
   "id": "c83b8be9",
   "metadata": {},
   "outputs": [
    {
     "name": "stderr",
     "output_type": "stream",
     "text": [
      "                                                                                \r"
     ]
    },
    {
     "data": {
      "text/plain": [
       "10365152"
      ]
     },
     "execution_count": 29,
     "metadata": {},
     "output_type": "execute_result"
    }
   ],
   "source": [
    "agent_dim_df.count()"
   ]
  },
  {
   "cell_type": "code",
   "execution_count": 30,
   "id": "6b40c6f6",
   "metadata": {},
   "outputs": [
    {
     "name": "stderr",
     "output_type": "stream",
     "text": [
      "[Stage 91:======================================================> (58 + 2) / 60]\r"
     ]
    },
    {
     "name": "stdout",
     "output_type": "stream",
     "text": [
      "+-------+-------------------+--------+\n",
      "|summary|              agent|      OS|\n",
      "+-------+-------------------+--------+\n",
      "|  count|           10365152|10365152|\n",
      "|   mean|  5.008038585209003|    null|\n",
      "| stddev|0.08933298077682744|    null|\n",
      "|    min|                   |        |\n",
      "|    max|                6.0|     iOS|\n",
      "+-------+-------------------+--------+\n",
      "\n"
     ]
    },
    {
     "name": "stderr",
     "output_type": "stream",
     "text": [
      "                                                                                \r"
     ]
    }
   ],
   "source": [
    "agent_dim_df.describe().show()"
   ]
  },
  {
   "cell_type": "code",
   "execution_count": 31,
   "id": "3dd96fd1",
   "metadata": {},
   "outputs": [],
   "source": [
    "# add primary key and foreign key to the dataframes\n",
    "new_agent_dim_df = agent_dim_df.distinct().withColumn(\"agent_id\", monotonically_increasing_id())\n",
    "\n",
    "# join dataframes on foreign key and primary key\n",
    "fact_status_agent_df = final_fact_status_df.join(new_agent_dim_df, final_fact_status_df.agent == new_agent_dim_df.agent, \"inner\")\\\n",
    ".select(final_fact_status_df[\"*\"], new_agent_dim_df[\"agent_id\"])"
   ]
  },
  {
   "cell_type": "code",
   "execution_count": 32,
   "id": "305dfd70",
   "metadata": {},
   "outputs": [
    {
     "name": "stderr",
     "output_type": "stream",
     "text": [
      "                                                                                \r"
     ]
    },
    {
     "data": {
      "text/plain": [
       "15397947"
      ]
     },
     "execution_count": 32,
     "metadata": {},
     "output_type": "execute_result"
    }
   ],
   "source": [
    "fact_status_agent_df.count()"
   ]
  },
  {
   "cell_type": "code",
   "execution_count": 33,
   "id": "ca597e8d",
   "metadata": {},
   "outputs": [
    {
     "name": "stderr",
     "output_type": "stream",
     "text": [
      "[Stage 109:=====================================================> (58 + 2) / 60]\r"
     ]
    },
    {
     "name": "stdout",
     "output_type": "stream",
     "text": [
      "+--------------------+-----+\n",
      "|               agent|count|\n",
      "+--------------------+-----+\n",
      "|5.0 (Android 4.2....|  122|\n",
      "|5.0 (Android 4.4....|   89|\n",
      "|5.0 (Android 4.4....|   12|\n",
      "|5.0 (Android 4.4....| 1287|\n",
      "|5.0 (Android 7.0;...|   27|\n",
      "|5.0 (BB10; Touch)...|    1|\n",
      "|5.0 (Linux; Andro...|  249|\n",
      "|5.0 (Linux; Andro...|    2|\n",
      "|5.0 (Linux; Andro...|   19|\n",
      "|5.0 (Linux; Andro...|   95|\n",
      "|5.0 (Linux; Andro...|    1|\n",
      "|5.0 (Linux; Andro...|   31|\n",
      "|5.0 (Linux; Andro...|   34|\n",
      "|5.0 (Linux; Andro...|    2|\n",
      "|5.0 (Linux; Andro...|    1|\n",
      "|5.0 (Linux; Andro...|   77|\n",
      "|5.0 (Linux; Andro...|    1|\n",
      "|5.0 (Linux; Andro...|   41|\n",
      "|5.0 (Linux; Andro...|   37|\n",
      "|5.0 (Linux; Andro...|   37|\n",
      "+--------------------+-----+\n",
      "only showing top 20 rows\n",
      "\n"
     ]
    },
    {
     "name": "stderr",
     "output_type": "stream",
     "text": [
      "                                                                                \r"
     ]
    }
   ],
   "source": [
    "fact_status_agent_df.groupBy('agent').count().show()"
   ]
  },
  {
   "cell_type": "code",
   "execution_count": 34,
   "id": "b010d331",
   "metadata": {},
   "outputs": [
    {
     "name": "stderr",
     "output_type": "stream",
     "text": [
      "[Stage 113:=====================================================> (58 + 2) / 60]\r"
     ]
    },
    {
     "name": "stdout",
     "output_type": "stream",
     "text": [
      "+--------------------+-------+--------+\n",
      "|               agent|     OS|agent_id|\n",
      "+--------------------+-------+--------+\n",
      "|5.0 (Linux; Andro...|  Linux|       0|\n",
      "|5.0 (Linux; Andro...|  Linux|       1|\n",
      "|5.0 (Linux; U; An...|  Linux|       2|\n",
      "|5.0 (Linux; Andro...|  Linux|       3|\n",
      "|5.0 (X11; Linux x...|  Linux|       4|\n",
      "|5.0 (Linux; U; An...|  Linux|       5|\n",
      "|5.0 (Linux; Andro...|  Linux|       6|\n",
      "|5.0 (Linux; Andro...|  Linux|       7|\n",
      "|5.0 (Linux; U; An...|  Linux|       8|\n",
      "|5.0 (Linux; Andro...|  Linux|       9|\n",
      "|5.0 (Windows NT 1...|Windows|      10|\n",
      "|5.0 (Linux; Andro...|  Linux|      11|\n",
      "|5.0 (Linux; Andro...|  Linux|      12|\n",
      "|5.0 (Linux; Andro...|  Linux|      13|\n",
      "|5.0 (Linux; Andro...|  Linux|      14|\n",
      "|5.0 (Linux; Andro...|  Linux|      15|\n",
      "|5.0 (Windows NT 6...|Windows|      16|\n",
      "|5.0 (Linux; Andro...|  Linux|      17|\n",
      "|5.0 (Linux; Andro...|  Linux|      18|\n",
      "|5.0 (Linux; Andro...|  Linux|      19|\n",
      "+--------------------+-------+--------+\n",
      "only showing top 20 rows\n",
      "\n"
     ]
    },
    {
     "name": "stderr",
     "output_type": "stream",
     "text": [
      "                                                                                \r"
     ]
    }
   ],
   "source": [
    "new_agent_dim_df.show()"
   ]
  },
  {
   "cell_type": "code",
   "execution_count": 35,
   "id": "02ec001c",
   "metadata": {},
   "outputs": [
    {
     "name": "stderr",
     "output_type": "stream",
     "text": [
      "[Stage 122:==========================================>          (161 + 6) / 200]\r"
     ]
    },
    {
     "name": "stdout",
     "output_type": "stream",
     "text": [
      "+-------------+-------+------+--------------------+-------+--------------------+-------------+------------+\n",
      "|           ip|   size|status|               agent|     OS|           timestamp|    status_id|    agent_id|\n",
      "+-------------+-------+------+--------------------+-------+--------------------+-------------+------------+\n",
      "|37.137.254.94|    0.0|   302|5.0 (Android 4.2....|Android|24/Jan/2019:16:57...|1563368095744|824633720845|\n",
      "|37.137.120.56| 4842.0|   200|5.0 (Android 4.2....|Android|23/Jan/2019:18:02...|1331439861760|824633720845|\n",
      "|37.137.120.56|17046.0|   200|5.0 (Android 4.2....|Android|23/Jan/2019:18:01...|1331439861760|824633720845|\n",
      "|37.137.120.56| 4859.0|   200|5.0 (Android 4.2....|Android|23/Jan/2019:18:02...|1331439861760|824633720845|\n",
      "|37.137.120.56| 4336.0|   200|5.0 (Android 4.2....|Android|23/Jan/2019:18:02...|1331439861760|824633720845|\n",
      "|37.137.120.56|16837.0|   200|5.0 (Android 4.2....|Android|23/Jan/2019:18:01...|1331439861760|824633720845|\n",
      "|37.137.120.56|17009.0|   200|5.0 (Android 4.2....|Android|23/Jan/2019:18:02...|1331439861760|824633720845|\n",
      "|37.137.254.94|62894.0|   200|5.0 (Android 4.2....|Android|24/Jan/2019:16:59...|1331439861760|824633720845|\n",
      "| 93.114.26.83|28536.0|   200|5.0 (Android 4.2....|Android|24/Jan/2019:10:48...|1331439861760|824633720845|\n",
      "|37.137.120.56|28536.0|   200|5.0 (Android 4.2....|Android|23/Jan/2019:18:02...|1331439861760|824633720845|\n",
      "|37.137.120.56| 5299.0|   200|5.0 (Android 4.2....|Android|23/Jan/2019:18:02...|1331439861760|824633720845|\n",
      "|37.137.120.56|28536.0|   200|5.0 (Android 4.2....|Android|23/Jan/2019:18:02...|1331439861760|824633720845|\n",
      "|37.137.120.56|22047.0|   200|5.0 (Android 4.2....|Android|23/Jan/2019:18:02...|1331439861760|824633720845|\n",
      "| 93.114.26.83|16801.0|   200|5.0 (Android 4.2....|Android|24/Jan/2019:10:48...|1331439861760|824633720845|\n",
      "| 93.114.26.83|  133.0|   200|5.0 (Android 4.2....|Android|24/Jan/2019:10:48...|1331439861760|824633720845|\n",
      "|37.137.120.56|65152.0|   200|5.0 (Android 4.2....|Android|23/Jan/2019:18:02...|1331439861760|824633720845|\n",
      "|37.137.120.56|16228.0|   200|5.0 (Android 4.2....|Android|23/Jan/2019:18:01...|1331439861760|824633720845|\n",
      "|37.137.120.56|17326.0|   200|5.0 (Android 4.2....|Android|23/Jan/2019:18:01...|1331439861760|824633720845|\n",
      "|37.137.120.56| 2287.0|   200|5.0 (Android 4.2....|Android|23/Jan/2019:18:02...|1331439861760|824633720845|\n",
      "|37.137.254.94|36455.0|   200|5.0 (Android 4.2....|Android|24/Jan/2019:16:57...|1331439861760|824633720845|\n",
      "+-------------+-------+------+--------------------+-------+--------------------+-------------+------------+\n",
      "only showing top 20 rows\n",
      "\n"
     ]
    },
    {
     "name": "stderr",
     "output_type": "stream",
     "text": [
      "                                                                                \r"
     ]
    }
   ],
   "source": [
    "fact_status_agent_df.show()"
   ]
  },
  {
   "cell_type": "code",
   "execution_count": 36,
   "id": "c68e1a9d",
   "metadata": {},
   "outputs": [
    {
     "name": "stderr",
     "output_type": "stream",
     "text": [
      "                                                                                \r"
     ]
    },
    {
     "data": {
      "text/plain": [
       "15397947"
      ]
     },
     "execution_count": 36,
     "metadata": {},
     "output_type": "execute_result"
    }
   ],
   "source": [
    "fact_status_agent_df.count()"
   ]
  },
  {
   "cell_type": "code",
   "execution_count": 37,
   "id": "2a7e01dd",
   "metadata": {},
   "outputs": [],
   "source": [
    "##final_fact_status_agent_df = fact_status_agent_df.drop('agent')\n",
    "final_fact_status_agent_df = fact_status_agent_df"
   ]
  },
  {
   "cell_type": "code",
   "execution_count": 38,
   "id": "ca3311d1",
   "metadata": {},
   "outputs": [
    {
     "data": {
      "text/plain": [
       "DataFrame[ip: string, size: float, status: int, agent: string, OS: string, timestamp: string, status_id: bigint, agent_id: bigint]"
      ]
     },
     "execution_count": 38,
     "metadata": {},
     "output_type": "execute_result"
    }
   ],
   "source": [
    "final_fact_status_agent_df"
   ]
  },
  {
   "cell_type": "code",
   "execution_count": null,
   "id": "afd73b42",
   "metadata": {},
   "outputs": [],
   "source": []
  },
  {
   "cell_type": "raw",
   "id": "9e0514d5",
   "metadata": {},
   "source": [
    "result_join_df = final_fact_status_agent_df.join(new_agent_dim_df,on=[final_fact_status_agent_df.agent_id == new_agent_dim_df.agent_id])\\\n",
    ".join(new_status_dim_df,on=[final_fact_status_agent_df.status_id == new_status_dim_df.status_id])"
   ]
  },
  {
   "cell_type": "code",
   "execution_count": 39,
   "id": "032b4dcb",
   "metadata": {},
   "outputs": [],
   "source": [
    "#result_join_df.show()"
   ]
  },
  {
   "cell_type": "code",
   "execution_count": 40,
   "id": "46ff879b",
   "metadata": {},
   "outputs": [],
   "source": [
    "#result_join_df.describe().toPandas().transpose()"
   ]
  },
  {
   "cell_type": "raw",
   "id": "75d230fe",
   "metadata": {},
   "source": [
    "result_join_df.groupBy('agent').count().orderBy('count',ascending=False).show(100, truncate=False)"
   ]
  },
  {
   "cell_type": "raw",
   "id": "4b786650",
   "metadata": {},
   "source": [
    "log_df.groupBy('agent').count().orderBy('count',ascending=False).show(100, truncate=False)"
   ]
  },
  {
   "cell_type": "raw",
   "id": "16cd63a0",
   "metadata": {},
   "source": [
    "agent_dim_df.groupBy('agent').count().orderBy('count',ascending=False).show(100, truncate=False)"
   ]
  },
  {
   "cell_type": "code",
   "execution_count": null,
   "id": "2e561891",
   "metadata": {},
   "outputs": [],
   "source": []
  },
  {
   "cell_type": "code",
   "execution_count": null,
   "id": "4bb25ccf",
   "metadata": {},
   "outputs": [],
   "source": []
  },
  {
   "cell_type": "code",
   "execution_count": null,
   "id": "d5081c94",
   "metadata": {},
   "outputs": [],
   "source": []
  },
  {
   "cell_type": "markdown",
   "id": "d780bd8a",
   "metadata": {},
   "source": [
    "### สร้าง DIM_TIME"
   ]
  },
  {
   "cell_type": "code",
   "execution_count": 41,
   "id": "fe201dda",
   "metadata": {},
   "outputs": [],
   "source": [
    "from pyspark.sql import functions as sparkf"
   ]
  },
  {
   "cell_type": "code",
   "execution_count": 42,
   "id": "75336760",
   "metadata": {},
   "outputs": [],
   "source": [
    "# split dataframe into agent Dim\n",
    "time_dim_df = log_df.select(\"timestamp\",\"timezone\")\\\n",
    ".withColumn(\"new_timestamp\",regexp_replace(regexp_replace(col('timestamp'),\"(.*)(:)(.*:.*:\\S*)\",'$1 $3'),\"/\",\"-\"))\\\n",
    ".withColumn(\"new_timestamp\",sparkf.to_timestamp(\"new_timestamp\",\"dd-MMM-yyyy HH:mm:ss \")).dropna()"
   ]
  },
  {
   "cell_type": "code",
   "execution_count": 43,
   "id": "ec7af037",
   "metadata": {},
   "outputs": [
    {
     "name": "stdout",
     "output_type": "stream",
     "text": [
      "root\n",
      " |-- timestamp: string (nullable = true)\n",
      " |-- timezone: string (nullable = true)\n",
      " |-- new_timestamp: timestamp (nullable = true)\n",
      "\n"
     ]
    }
   ],
   "source": [
    "time_dim_df.printSchema()"
   ]
  },
  {
   "cell_type": "code",
   "execution_count": 44,
   "id": "fafb45bc",
   "metadata": {},
   "outputs": [
    {
     "name": "stderr",
     "output_type": "stream",
     "text": [
      "                                                                                \r"
     ]
    },
    {
     "data": {
      "text/plain": [
       "[Row(timestamp='22/Jan/2019:13:40:56 ', timezone='+0330', new_timestamp=datetime.datetime(2019, 1, 22, 13, 40, 56))]"
      ]
     },
     "execution_count": 44,
     "metadata": {},
     "output_type": "execute_result"
    }
   ],
   "source": [
    "time_dim_df.select(\"timestamp\",\"timezone\",\"new_timestamp\").take(1)"
   ]
  },
  {
   "cell_type": "code",
   "execution_count": 45,
   "id": "4384c81b",
   "metadata": {},
   "outputs": [
    {
     "name": "stderr",
     "output_type": "stream",
     "text": [
      "                                                                                \r"
     ]
    },
    {
     "data": {
      "text/plain": [
       "10365152"
      ]
     },
     "execution_count": 45,
     "metadata": {},
     "output_type": "execute_result"
    }
   ],
   "source": [
    "time_dim_df.count()"
   ]
  },
  {
   "cell_type": "code",
   "execution_count": 46,
   "id": "e9304f2a",
   "metadata": {},
   "outputs": [
    {
     "data": {
      "text/plain": [
       "DataFrame[timestamp: string, timezone: string, new_timestamp: timestamp]"
      ]
     },
     "execution_count": 46,
     "metadata": {},
     "output_type": "execute_result"
    }
   ],
   "source": [
    "time_dim_df"
   ]
  },
  {
   "cell_type": "code",
   "execution_count": null,
   "id": "be66348a",
   "metadata": {},
   "outputs": [],
   "source": []
  },
  {
   "cell_type": "code",
   "execution_count": 47,
   "id": "10303192",
   "metadata": {},
   "outputs": [],
   "source": [
    "# add primary key and foreign key to the dataframes\n",
    "new_time_dim_df = time_dim_df.distinct().withColumn(\"time_id\", monotonically_increasing_id())\n",
    "\n",
    "# join dataframes on foreign key and primary key\n",
    "fact_status_agent_time_df = final_fact_status_agent_df.join(new_time_dim_df, final_fact_status_agent_df.timestamp == new_time_dim_df.timestamp, \"inner\")\\\n",
    ".select(final_fact_status_agent_df[\"*\"], new_time_dim_df[\"time_id\"])"
   ]
  },
  {
   "cell_type": "code",
   "execution_count": 48,
   "id": "5515dc81",
   "metadata": {},
   "outputs": [
    {
     "name": "stderr",
     "output_type": "stream",
     "text": [
      "                                                                                \r"
     ]
    },
    {
     "data": {
      "text/plain": [
       "15397947"
      ]
     },
     "execution_count": 48,
     "metadata": {},
     "output_type": "execute_result"
    }
   ],
   "source": [
    "fact_status_agent_df.count()"
   ]
  },
  {
   "cell_type": "code",
   "execution_count": 49,
   "id": "7360e049",
   "metadata": {},
   "outputs": [
    {
     "name": "stderr",
     "output_type": "stream",
     "text": [
      "                                                                                \r"
     ]
    },
    {
     "data": {
      "text/plain": [
       "15397947"
      ]
     },
     "execution_count": 49,
     "metadata": {},
     "output_type": "execute_result"
    }
   ],
   "source": [
    "fact_status_agent_time_df.count()"
   ]
  },
  {
   "cell_type": "code",
   "execution_count": null,
   "id": "285a088f",
   "metadata": {},
   "outputs": [],
   "source": []
  },
  {
   "cell_type": "code",
   "execution_count": 50,
   "id": "ff438a5d",
   "metadata": {},
   "outputs": [],
   "source": [
    "##final_fact_status_agent_time_df = fact_status_agent_time_df.drop('agent')\n",
    "final_fact_status_agent_time_df = fact_status_agent_time_df"
   ]
  },
  {
   "cell_type": "code",
   "execution_count": 51,
   "id": "c4816c79",
   "metadata": {},
   "outputs": [
    {
     "data": {
      "text/plain": [
       "DataFrame[ip: string, size: float, status: int, agent: string, OS: string, timestamp: string, status_id: bigint, agent_id: bigint, time_id: bigint]"
      ]
     },
     "execution_count": 51,
     "metadata": {},
     "output_type": "execute_result"
    }
   ],
   "source": [
    "final_fact_status_agent_time_df"
   ]
  },
  {
   "cell_type": "code",
   "execution_count": null,
   "id": "3216b2aa",
   "metadata": {},
   "outputs": [],
   "source": []
  },
  {
   "cell_type": "code",
   "execution_count": 52,
   "id": "f18a540e",
   "metadata": {},
   "outputs": [],
   "source": [
    "result_join_df = final_fact_status_agent_time_df.join(new_agent_dim_df,on=[final_fact_status_agent_time_df.agent_id == new_agent_dim_df.agent_id])\\\n",
    ".join(new_status_dim_df,on=[final_fact_status_agent_time_df.status_id == new_status_dim_df.status_id])\\\n",
    ".join(new_time_dim_df,on=[final_fact_status_agent_time_df.time_id == new_time_dim_df.time_id])"
   ]
  },
  {
   "cell_type": "code",
   "execution_count": null,
   "id": "f1be53cd",
   "metadata": {},
   "outputs": [],
   "source": []
  },
  {
   "cell_type": "code",
   "execution_count": 53,
   "id": "b9eca5e7",
   "metadata": {},
   "outputs": [
    {
     "name": "stderr",
     "output_type": "stream",
     "text": [
      "[Stage 175:==================================================>  (190 + 2) / 200]\r"
     ]
    },
    {
     "name": "stdout",
     "output_type": "stream",
     "text": [
      "+--------------------+-----+\n",
      "|           timestamp|count|\n",
      "+--------------------+-----+\n",
      "|25/Jan/2019:05:09...|  779|\n",
      "|26/Jan/2019:19:07...|  515|\n",
      "|25/Jan/2019:19:34...|  502|\n",
      "|25/Jan/2019:19:34...|  459|\n",
      "|26/Jan/2019:19:05...|  439|\n",
      "|26/Jan/2019:17:18...|  439|\n",
      "|26/Jan/2019:16:06...|  432|\n",
      "|26/Jan/2019:14:49...|  432|\n",
      "|22/Jan/2019:18:49...|  427|\n",
      "|23/Jan/2019:17:10...|  424|\n",
      "|23/Jan/2019:17:22...|  414|\n",
      "|26/Jan/2019:19:03...|  410|\n",
      "|24/Jan/2019:16:54...|  403|\n",
      "|26/Jan/2019:12:59...|  397|\n",
      "|26/Jan/2019:12:39...|  392|\n",
      "|26/Jan/2019:14:32...|  388|\n",
      "|22/Jan/2019:10:05...|  386|\n",
      "|26/Jan/2019:10:36...|  386|\n",
      "|24/Jan/2019:12:16...|  384|\n",
      "|23/Jan/2019:14:14...|  383|\n",
      "+--------------------+-----+\n",
      "only showing top 20 rows\n",
      "\n"
     ]
    },
    {
     "name": "stderr",
     "output_type": "stream",
     "text": [
      "                                                                                \r"
     ]
    }
   ],
   "source": [
    "fact_status_agent_time_df.groupBy('timestamp').count()\\\n",
    ".orderBy('count',ascending=False).show()"
   ]
  },
  {
   "cell_type": "code",
   "execution_count": 54,
   "id": "bd839a4f",
   "metadata": {},
   "outputs": [
    {
     "name": "stderr",
     "output_type": "stream",
     "text": [
      "                                                                                \r"
     ]
    },
    {
     "data": {
      "text/plain": [
       "15397947"
      ]
     },
     "execution_count": 54,
     "metadata": {},
     "output_type": "execute_result"
    }
   ],
   "source": [
    "result_join_df.count()"
   ]
  },
  {
   "cell_type": "code",
   "execution_count": 55,
   "id": "fd2307a5",
   "metadata": {},
   "outputs": [
    {
     "name": "stderr",
     "output_type": "stream",
     "text": [
      "[Stage 212:====================================================>(199 + 1) / 200]\r"
     ]
    },
    {
     "name": "stdout",
     "output_type": "stream",
     "text": [
      "+--------------+------+-------+-------+\n",
      "|            ip|status|     OS|   size|\n",
      "+--------------+------+-------+-------+\n",
      "|  195.181.1.90|   302|Windows|    0.0|\n",
      "|   2.178.8.199|   499|  Linux|    0.0|\n",
      "|  5.116.29.188|   200|       | 6975.0|\n",
      "|  5.114.244.90|   200|       | 3294.0|\n",
      "| 40.77.167.170|   200|  Linux|38995.0|\n",
      "| 91.98.141.154|   200|  Linux| 2376.0|\n",
      "| 91.98.141.154|   200|  Linux| 2885.0|\n",
      "|  31.47.52.122|   200|  Linux|  323.0|\n",
      "| 91.98.141.154|   200|  Linux|  258.0|\n",
      "|  93.119.72.10|   200|  Linux|28536.0|\n",
      "|  93.119.72.10|   200|  Linux|26607.0|\n",
      "|  93.119.72.10|   200|  Linux| 4120.0|\n",
      "|85.133.184.242|   200|Windows|10628.0|\n",
      "|85.133.184.242|   200|Windows| 1214.0|\n",
      "|85.133.184.242|   200|Windows|46772.0|\n",
      "|  5.116.29.188|   200|Android| 6975.0|\n",
      "|  5.114.244.90|   200|Android| 3294.0|\n",
      "| 91.98.141.154|   200|Windows| 2376.0|\n",
      "| 91.98.141.154|   200|Windows| 2885.0|\n",
      "|  31.47.52.122|   200|Windows|  323.0|\n",
      "+--------------+------+-------+-------+\n",
      "only showing top 20 rows\n",
      "\n"
     ]
    },
    {
     "name": "stderr",
     "output_type": "stream",
     "text": [
      "                                                                                \r"
     ]
    }
   ],
   "source": [
    "result_join_df.select(final_fact_status_agent_time_df.ip,new_status_dim_df.status,new_agent_dim_df.OS,final_fact_status_agent_time_df.size).show()"
   ]
  },
  {
   "cell_type": "code",
   "execution_count": 56,
   "id": "56e1d728",
   "metadata": {},
   "outputs": [
    {
     "name": "stdout",
     "output_type": "stream",
     "text": [
      "root\n",
      " |-- ip: string (nullable = true)\n",
      " |-- size: float (nullable = true)\n",
      " |-- status: integer (nullable = true)\n",
      " |-- agent: string (nullable = true)\n",
      " |-- OS: string (nullable = true)\n",
      " |-- timestamp: string (nullable = true)\n",
      " |-- status_id: long (nullable = false)\n",
      " |-- agent_id: long (nullable = false)\n",
      " |-- time_id: long (nullable = false)\n",
      " |-- agent: string (nullable = true)\n",
      " |-- OS: string (nullable = true)\n",
      " |-- agent_id: long (nullable = false)\n",
      " |-- status: integer (nullable = true)\n",
      " |-- status_id: long (nullable = false)\n",
      " |-- timestamp: string (nullable = true)\n",
      " |-- timezone: string (nullable = true)\n",
      " |-- new_timestamp: timestamp (nullable = true)\n",
      " |-- time_id: long (nullable = false)\n",
      "\n"
     ]
    }
   ],
   "source": [
    "result_join_df.printSchema()"
   ]
  },
  {
   "cell_type": "markdown",
   "id": "2ba8ae6f",
   "metadata": {},
   "source": [
    "# MSSQL Connection and Write dataframe into tables"
   ]
  },
  {
   "cell_type": "code",
   "execution_count": 57,
   "id": "88364f9f",
   "metadata": {},
   "outputs": [],
   "source": [
    "server_name = \"jdbc:sqlserver://35.209.118.36\"\n",
    "database_name = \"demostarschema\"\n",
    "url = server_name + \";\" + \"databaseName=\" + database_name + \";\"\n",
    "\n",
    "table_name = \"Inventory\"\n",
    "username = \"SA\"\n",
    "password = \"Passw0rd123456\" # Please specify password here"
   ]
  },
  {
   "cell_type": "code",
   "execution_count": 59,
   "id": "e4466259",
   "metadata": {},
   "outputs": [
    {
     "name": "stderr",
     "output_type": "stream",
     "text": [
      "                                                                                \r"
     ]
    }
   ],
   "source": [
    "final_fact_status_agent_time_df.write.mode('overwrite').format(\"jdbc\")\\\n",
    "        .option(\"url\", url) \\\n",
    "        .option(\"dbtable\", \"fact_ip_size\") \\\n",
    "        .option(\"user\", username) \\\n",
    "        .option(\"password\", password)\\\n",
    "        .option(\"driver\", \"com.microsoft.sqlserver.jdbc.SQLServerDriver\").save()"
   ]
  },
  {
   "cell_type": "code",
   "execution_count": 60,
   "id": "6ed27320",
   "metadata": {},
   "outputs": [
    {
     "name": "stderr",
     "output_type": "stream",
     "text": [
      "                                                                                \r"
     ]
    }
   ],
   "source": [
    "new_agent_dim_df.write.mode('overwrite').format(\"jdbc\")\\\n",
    "        .option(\"url\", url) \\\n",
    "        .option(\"dbtable\", \"dim_agent\") \\\n",
    "        .option(\"user\", username) \\\n",
    "        .option(\"password\", password)\\\n",
    "        .option(\"driver\", \"com.microsoft.sqlserver.jdbc.SQLServerDriver\").save()"
   ]
  },
  {
   "cell_type": "code",
   "execution_count": 61,
   "id": "45b23d78",
   "metadata": {},
   "outputs": [
    {
     "name": "stderr",
     "output_type": "stream",
     "text": [
      "                                                                                \r"
     ]
    }
   ],
   "source": [
    "new_status_dim_df.write.mode('overwrite').format(\"jdbc\")\\\n",
    "        .option(\"url\", url) \\\n",
    "        .option(\"dbtable\", \"dim_status\") \\\n",
    "        .option(\"user\", username) \\\n",
    "        .option(\"password\", password)\\\n",
    "        .option(\"driver\", \"com.microsoft.sqlserver.jdbc.SQLServerDriver\").save()"
   ]
  },
  {
   "cell_type": "code",
   "execution_count": 62,
   "id": "3a52ff21",
   "metadata": {},
   "outputs": [
    {
     "name": "stderr",
     "output_type": "stream",
     "text": [
      "                                                                                \r"
     ]
    }
   ],
   "source": [
    "new_time_dim_df.write.mode('overwrite').format(\"jdbc\")\\\n",
    "        .option(\"url\", url) \\\n",
    "        .option(\"dbtable\", \"dim_time\") \\\n",
    "        .option(\"user\", username) \\\n",
    "        .option(\"password\", password)\\\n",
    "        .option(\"driver\", \"com.microsoft.sqlserver.jdbc.SQLServerDriver\").save()"
   ]
  },
  {
   "cell_type": "code",
   "execution_count": null,
   "id": "cf111a5d",
   "metadata": {},
   "outputs": [],
   "source": []
  }
 ],
 "metadata": {
  "kernelspec": {
   "display_name": "Python 3 (ipykernel)",
   "language": "python",
   "name": "python3"
  },
  "language_info": {
   "codemirror_mode": {
    "name": "ipython",
    "version": 3
   },
   "file_extension": ".py",
   "mimetype": "text/x-python",
   "name": "python",
   "nbconvert_exporter": "python",
   "pygments_lexer": "ipython3",
   "version": "3.9.2"
  }
 },
 "nbformat": 4,
 "nbformat_minor": 5
}
