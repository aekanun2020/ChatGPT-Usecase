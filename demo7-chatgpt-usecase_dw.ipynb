{
 "cells": [
  {
   "cell_type": "code",
   "execution_count": 1,
   "id": "bd27eea1",
   "metadata": {},
   "outputs": [
    {
     "name": "stderr",
     "output_type": "stream",
     "text": [
      "Ivy Default Cache set to: /root/.ivy2/cache\n",
      "The jars for the packages stored in: /root/.ivy2/jars\n",
      ":: loading settings :: url = jar:file:/usr/local/lib/python3.9/dist-packages/pyspark/jars/ivy-2.4.0.jar!/org/apache/ivy/core/settings/ivysettings.xml\n",
      "com.microsoft.azure#spark-mssql-connector added as a dependency\n",
      ":: resolving dependencies :: org.apache.spark#spark-submit-parent-6e749c58-f3c6-4272-90ad-55ad8b5cda6e;1.0\n",
      "\tconfs: [default]\n",
      "\tfound com.microsoft.azure#spark-mssql-connector;1.0.2 in central\n",
      "\tfound com.microsoft.sqlserver#mssql-jdbc;8.4.1.jre8 in central\n",
      ":: resolution report :: resolve 107ms :: artifacts dl 2ms\n",
      "\t:: modules in use:\n",
      "\tcom.microsoft.azure#spark-mssql-connector;1.0.2 from central in [default]\n",
      "\tcom.microsoft.sqlserver#mssql-jdbc;8.4.1.jre8 from central in [default]\n",
      "\t---------------------------------------------------------------------\n",
      "\t|                  |            modules            ||   artifacts   |\n",
      "\t|       conf       | number| search|dwnlded|evicted|| number|dwnlded|\n",
      "\t---------------------------------------------------------------------\n",
      "\t|      default     |   2   |   0   |   0   |   0   ||   2   |   0   |\n",
      "\t---------------------------------------------------------------------\n",
      ":: retrieving :: org.apache.spark#spark-submit-parent-6e749c58-f3c6-4272-90ad-55ad8b5cda6e\n",
      "\tconfs: [default]\n",
      "\t0 artifacts copied, 2 already retrieved (0kB/3ms)\n",
      "23/02/04 11:04:35 WARN NativeCodeLoader: Unable to load native-hadoop library for your platform... using builtin-java classes where applicable\n",
      "Using Spark's default log4j profile: org/apache/spark/log4j-defaults.properties\n",
      "Setting default log level to \"WARN\".\n",
      "To adjust logging level use sc.setLogLevel(newLevel). For SparkR, use setLogLevel(newLevel).\n",
      "23/02/04 11:04:35 WARN SparkConf: Total executor cores: 9 is not divisible by cores per executor: 2, the left cores: 1 will not be allocated\n"
     ]
    }
   ],
   "source": [
    "from pyspark.sql import SparkSession\n",
    "\n",
    "spark = SparkSession.\\\n",
    "        builder.\\\n",
    "        appName(\"จาก raw data สู่ Disk\").\\\n",
    "        master(\"spark://spark-master:7077\").\\\n",
    "        config(\"spark.executor.memory\", \"2000m\").\\\n",
    "        config(\"spark.executor.cores\", \"2\").\\\n",
    "        config(\"spark.cores.max\", \"9\").\\\n",
    "        master(\"spark://spark-master:7077\").config('spark.jars.packages', 'com.microsoft.azure:spark-mssql-connector:1.0.2').\\\n",
    "        getOrCreate()"
   ]
  },
  {
   "cell_type": "code",
   "execution_count": 2,
   "id": "e5613e60",
   "metadata": {},
   "outputs": [],
   "source": [
    "# Read the access log file\n",
    "raw_df = spark.read.text(\"access.log\").withColumnRenamed('value','log_text').sample(0.25).repartition(60)"
   ]
  },
  {
   "cell_type": "code",
   "execution_count": 3,
   "id": "be2db8d5",
   "metadata": {},
   "outputs": [
    {
     "name": "stdout",
     "output_type": "stream",
     "text": [
      "10365152 access.log\n"
     ]
    }
   ],
   "source": [
    "! wc -l access.log"
   ]
  },
  {
   "cell_type": "code",
   "execution_count": 4,
   "id": "924d0869",
   "metadata": {},
   "outputs": [
    {
     "name": "stderr",
     "output_type": "stream",
     "text": [
      "                                                                                \r"
     ]
    },
    {
     "data": {
      "text/plain": [
       "2588856"
      ]
     },
     "execution_count": 4,
     "metadata": {},
     "output_type": "execute_result"
    }
   ],
   "source": [
    "raw_df.count()"
   ]
  },
  {
   "cell_type": "code",
   "execution_count": null,
   "id": "650233ec",
   "metadata": {},
   "outputs": [],
   "source": []
  },
  {
   "cell_type": "code",
   "execution_count": 5,
   "id": "85129d98",
   "metadata": {},
   "outputs": [
    {
     "data": {
      "text/plain": [
       "60"
      ]
     },
     "execution_count": 5,
     "metadata": {},
     "output_type": "execute_result"
    }
   ],
   "source": [
    "raw_df.rdd.getNumPartitions()"
   ]
  },
  {
   "cell_type": "code",
   "execution_count": 6,
   "id": "41ede46a",
   "metadata": {},
   "outputs": [],
   "source": [
    "from pyspark.sql.functions import regexp_extract,col,monotonically_increasing_id, when, udf, regexp_replace"
   ]
  },
  {
   "cell_type": "code",
   "execution_count": 7,
   "id": "bbdae291",
   "metadata": {},
   "outputs": [],
   "source": [
    "# Extract feature columns using regular expressions\n",
    "df = raw_df.withColumn(\"ip\", regexp_extract(col(\"log_text\"), \"^([\\\\d.]+)\", 1)) \\\n",
    "    .withColumn(\"request_type\", regexp_extract(\"log_text\", r\"\\\"(.*?)\\\"\", 1)) \\\n",
    ".withColumn(\"status\", regexp_extract(\"log_text\", r\"\\\"\\s+(\\d+)\", 1))\\\n",
    ".withColumn(\"size\", regexp_extract(\"log_text\", r\"\\\"\\s+\\d+\\s+(\\d+)\", 1))\\\n",
    "    .withColumn(\"timestamp\", regexp_extract(col(\"log_text\"), r'\\[(.*?)\\+', 1)) \\\n",
    "    .withColumn(\"timezone\", regexp_extract(col(\"log_text\"), \"\\\\[.+?\\\\s(.+?)\\\\]\", 1))\\\n",
    ".withColumn(\"agent\", regexp_extract(col(\"log_text\"), r\"\\\"Mozilla\\/(.*?)\\\"\", 1))\\\n",
    ".withColumn(\"OS\", regexp_extract(col(\"log_text\"), \"(Windows|Linux|MacOS|iOS|Android)\", 1))\n"
   ]
  },
  {
   "cell_type": "code",
   "execution_count": 8,
   "id": "639f4007",
   "metadata": {},
   "outputs": [
    {
     "name": "stdout",
     "output_type": "stream",
     "text": [
      "root\n",
      " |-- log_text: string (nullable = true)\n",
      " |-- ip: string (nullable = true)\n",
      " |-- request_type: string (nullable = true)\n",
      " |-- status: string (nullable = true)\n",
      " |-- size: string (nullable = true)\n",
      " |-- timestamp: string (nullable = true)\n",
      " |-- timezone: string (nullable = true)\n",
      " |-- agent: string (nullable = true)\n",
      " |-- OS: string (nullable = true)\n",
      "\n"
     ]
    }
   ],
   "source": [
    "df.printSchema()"
   ]
  },
  {
   "cell_type": "code",
   "execution_count": null,
   "id": "6522d327",
   "metadata": {},
   "outputs": [],
   "source": []
  },
  {
   "cell_type": "code",
   "execution_count": null,
   "id": "5b99dd4f",
   "metadata": {},
   "outputs": [],
   "source": []
  },
  {
   "cell_type": "code",
   "execution_count": 9,
   "id": "7e497da6",
   "metadata": {},
   "outputs": [
    {
     "data": {
      "text/plain": [
       "60"
      ]
     },
     "execution_count": 9,
     "metadata": {},
     "output_type": "execute_result"
    }
   ],
   "source": [
    "raw_df.rdd.getNumPartitions()"
   ]
  },
  {
   "cell_type": "code",
   "execution_count": null,
   "id": "443c2f69",
   "metadata": {},
   "outputs": [],
   "source": []
  },
  {
   "cell_type": "code",
   "execution_count": 10,
   "id": "6fab21c4",
   "metadata": {},
   "outputs": [],
   "source": [
    "# Import necessary libraries\n",
    "from pyspark.sql.functions import monotonically_increasing_id, when, lit\n",
    "from pyspark.sql.types import StringType\n",
    "\n",
    "# Define the predefined columns for the dimension tables\n",
    "dim_cols = [\"ip\", \"status\", \"timestamp\", \"OS\"]\n",
    "\n",
    "# Replace empty values in the \"OS\" column with \"N/A\"\n",
    "df = df.withColumn(\"OS\", when(df[\"OS\"] == \"\", lit(\"N/A\")).otherwise(df[\"OS\"]))\n",
    "\n",
    "# Create the dimension tables and the primary keys\n",
    "dim_tables = []\n",
    "for dim_col in dim_cols:\n",
    "  dim_table = df.select(dim_col).dropDuplicates().withColumn(f\"{dim_col}_pk\", monotonically_increasing_id())\n",
    "  dim_tables.append(dim_table)\n",
    "\n",
    "# Create the fact table by joining the dimension tables and adding the foreign keys\n",
    "fact_table = df\n",
    "for dim_table in dim_tables:\n",
    "  dim_col = dim_table.columns[0]\n",
    "  fact_table = fact_table.join(dim_table, dim_col, \"left\")\n",
    "  fact_table = fact_table.withColumn(f\"{dim_col}_fk\", fact_table[f\"{dim_col}_pk\"])"
   ]
  },
  {
   "cell_type": "code",
   "execution_count": null,
   "id": "1394d049",
   "metadata": {},
   "outputs": [],
   "source": []
  },
  {
   "cell_type": "code",
   "execution_count": 11,
   "id": "aa4d84fa",
   "metadata": {},
   "outputs": [],
   "source": [
    "# Drop the columns with a suffix of \"_pk\" and the columns that are the same in both the fact table and the dimension tables from the fact table\n",
    "cols_to_drop = [col for col in fact_table.columns if \"_pk\" in col or col in dim_cols]\n",
    "fact_table = fact_table.drop(*cols_to_drop)"
   ]
  },
  {
   "cell_type": "code",
   "execution_count": null,
   "id": "c70bb129",
   "metadata": {},
   "outputs": [],
   "source": []
  },
  {
   "cell_type": "code",
   "execution_count": 12,
   "id": "bcf44892",
   "metadata": {},
   "outputs": [
    {
     "name": "stdout",
     "output_type": "stream",
     "text": [
      "root\n",
      " |-- log_text: string (nullable = true)\n",
      " |-- request_type: string (nullable = true)\n",
      " |-- size: string (nullable = true)\n",
      " |-- timezone: string (nullable = true)\n",
      " |-- agent: string (nullable = true)\n",
      " |-- ip_fk: long (nullable = true)\n",
      " |-- status_fk: long (nullable = true)\n",
      " |-- timestamp_fk: long (nullable = true)\n",
      " |-- OS_fk: long (nullable = true)\n",
      "\n"
     ]
    }
   ],
   "source": [
    "fact_table.printSchema()"
   ]
  },
  {
   "cell_type": "code",
   "execution_count": null,
   "id": "3af03ed6",
   "metadata": {},
   "outputs": [],
   "source": []
  },
  {
   "cell_type": "code",
   "execution_count": 13,
   "id": "e3aa3ea7",
   "metadata": {},
   "outputs": [
    {
     "name": "stderr",
     "output_type": "stream",
     "text": [
      "                                                                                \r"
     ]
    },
    {
     "name": "stdout",
     "output_type": "stream",
     "text": [
      "+--------------------+--------------------+-----+--------+--------------------+-------------+------------+------------+------------+\n",
      "|            log_text|        request_type| size|timezone|               agent|        ip_fk|   status_fk|timestamp_fk|       OS_fk|\n",
      "+--------------------+--------------------+-----+--------+--------------------+-------------+------------+------------+------------+\n",
      "|89.196.66.66 - - ...|GET /static/image...| 5807|   +0330|5.0 (iPhone; CPU ...| 489626271796| 85899345920|        1158|274877906944|\n",
      "|89.196.66.66 - - ...|GET /settings/log...| 4120|   +0330|5.0 (iPhone; CPU ...| 489626271796| 85899345920|        1158|274877906944|\n",
      "|89.196.66.66 - - ...|GET /static/image...| 6454|   +0330|5.0 (iPhone; CPU ...| 489626271796| 85899345920|        1158|274877906944|\n",
      "|89.196.66.66 - - ...|GET /static/image...| 7713|   +0330|5.0 (iPhone; CPU ...| 489626271796| 85899345920|        1158|274877906944|\n",
      "|89.196.66.66 - - ...|GET /static/image...| 3863|   +0330|5.0 (iPhone; CPU ...| 489626271796| 85899345920|        1158|274877906944|\n",
      "|5.202.208.18 - - ...|GET /image/38760/...| 3873|   +0330|5.0 (iPhone; CPU ...| 901943132225| 85899345920|        1053|274877906944|\n",
      "|91.185.142.158 - ...|GET /image/1210/m...|66326|   +0330|5.0 (iPhone; CPU ...| 231928234089| 85899345920|         685|274877906944|\n",
      "|83.120.18.107 - -...|GET /image/57118/...| 3376|   +0330|5.0 (iPhone; CPU ...| 515396075667| 85899345920|         496|274877906944|\n",
      "|83.120.18.107 - -...|GET /settings/log...| 4120|   +0330|5.0 (iPhone; CPU ...| 515396075667| 85899345920|         496|274877906944|\n",
      "|83.120.18.107 - -...|GET /image/57111/...| 3266|   +0330|5.0 (iPhone; CPU ...| 515396075667| 85899345920|         496|274877906944|\n",
      "|86.55.18.229 - - ...|GET /m/search/Fsr...|17521|   +0330|5.0 (iPhone; CPU ...|1142461300879| 85899345920|         404|274877906944|\n",
      "|5.113.178.73 - - ...|GET /product/3087...|    0|   +0330|5.0 (iPhone; CPU ...|1529008357816|481036337152|         529|274877906944|\n",
      "|5.218.38.99 - - [...|GET /static/image...| 7146|   +0330|5.0 (iPhone; CPU ...|1709396984008| 85899345920|         151|274877906944|\n",
      "|5.119.18.64 - - [...|GET /static/image...| 4859|   +0330|5.0 (iPhone; CPU ...| 223338299576| 85899345920|         246|274877906944|\n",
      "|204.18.248.114 - ...|GET /settings/log...| 4120|   +0330|5.0 (iPhone; CPU ...| 919123001720| 85899345920|         248|274877906944|\n",
      "|83.121.56.102 - -...|GET /image/65104/...| 7078|   +0330|5.0 (iPhone; CPU ...|  68719476909| 85899345920|        1000|274877906944|\n",
      "|83.121.56.102 - -...|GET /image/65187/...| 5682|   +0330|5.0 (iPhone; CPU ...|  68719476909| 85899345920|        1000|274877906944|\n",
      "|109.125.149.130 -...|GET /image/63909/...| 2286|   +0330|5.0 (iPhone; CPU ...| 180388626677| 85899345920|        1064|274877906944|\n",
      "|109.125.149.130 -...|GET /image/63844/...| 2822|   +0330|5.0 (iPhone; CPU ...| 180388626677| 85899345920|        1064|274877906944|\n",
      "|185.107.35.40 - -...|GET /image/65269/...| 5623|   +0330|5.0 (iPhone; CPU ...| 618475291072| 85899345920|         997|274877906944|\n",
      "+--------------------+--------------------+-----+--------+--------------------+-------------+------------+------------+------------+\n",
      "only showing top 20 rows\n",
      "\n"
     ]
    },
    {
     "name": "stderr",
     "output_type": "stream",
     "text": [
      "                                                                                \r"
     ]
    }
   ],
   "source": [
    "fact_table.show()"
   ]
  },
  {
   "cell_type": "code",
   "execution_count": 14,
   "id": "aa7a85da",
   "metadata": {},
   "outputs": [
    {
     "name": "stderr",
     "output_type": "stream",
     "text": [
      "                                                                                \r"
     ]
    },
    {
     "data": {
      "text/html": [
       "<div>\n",
       "<style scoped>\n",
       "    .dataframe tbody tr th:only-of-type {\n",
       "        vertical-align: middle;\n",
       "    }\n",
       "\n",
       "    .dataframe tbody tr th {\n",
       "        vertical-align: top;\n",
       "    }\n",
       "\n",
       "    .dataframe thead th {\n",
       "        text-align: right;\n",
       "    }\n",
       "</style>\n",
       "<table border=\"1\" class=\"dataframe\">\n",
       "  <thead>\n",
       "    <tr style=\"text-align: right;\">\n",
       "      <th></th>\n",
       "      <th>0</th>\n",
       "      <th>1</th>\n",
       "      <th>2</th>\n",
       "      <th>3</th>\n",
       "      <th>4</th>\n",
       "    </tr>\n",
       "  </thead>\n",
       "  <tbody>\n",
       "    <tr>\n",
       "      <th>summary</th>\n",
       "      <td>count</td>\n",
       "      <td>mean</td>\n",
       "      <td>stddev</td>\n",
       "      <td>min</td>\n",
       "      <td>max</td>\n",
       "    </tr>\n",
       "    <tr>\n",
       "      <th>log_text</th>\n",
       "      <td>2588856</td>\n",
       "      <td>None</td>\n",
       "      <td>None</td>\n",
       "      <td>1.132.107.223 - - [26/Jan/2019:02:26:25 +0330]...</td>\n",
       "      <td>99.99.188.195 - - [25/Jan/2019:05:33:18 +0330]...</td>\n",
       "    </tr>\n",
       "    <tr>\n",
       "      <th>request_type</th>\n",
       "      <td>2588856</td>\n",
       "      <td>None</td>\n",
       "      <td>None</td>\n",
       "      <td></td>\n",
       "      <td>t3 9.2.0.0</td>\n",
       "    </tr>\n",
       "    <tr>\n",
       "      <th>size</th>\n",
       "      <td>2588856</td>\n",
       "      <td>12432.542023581072</td>\n",
       "      <td>28224.91818821393</td>\n",
       "      <td>0</td>\n",
       "      <td>9999</td>\n",
       "    </tr>\n",
       "    <tr>\n",
       "      <th>timezone</th>\n",
       "      <td>2588856</td>\n",
       "      <td>330.0</td>\n",
       "      <td>0.0</td>\n",
       "      <td>+0330</td>\n",
       "      <td>+0330</td>\n",
       "    </tr>\n",
       "    <tr>\n",
       "      <th>agent</th>\n",
       "      <td>2588856</td>\n",
       "      <td>5.009933774834437</td>\n",
       "      <td>0.09933664825247294</td>\n",
       "      <td></td>\n",
       "      <td>6.0</td>\n",
       "    </tr>\n",
       "    <tr>\n",
       "      <th>ip_fk</th>\n",
       "      <td>2588856</td>\n",
       "      <td>8.557616758753436E11</td>\n",
       "      <td>4.889046976572585E11</td>\n",
       "      <td>0</td>\n",
       "      <td>1709396984589</td>\n",
       "    </tr>\n",
       "    <tr>\n",
       "      <th>status_fk</th>\n",
       "      <td>2588856</td>\n",
       "      <td>1.5415186124336426E11</td>\n",
       "      <td>2.6113197495897772E11</td>\n",
       "      <td>85899345920</td>\n",
       "      <td>1657857376256</td>\n",
       "    </tr>\n",
       "    <tr>\n",
       "      <th>timestamp_fk</th>\n",
       "      <td>2588856</td>\n",
       "      <td>8.548644975710552E11</td>\n",
       "      <td>4.954765138927949E11</td>\n",
       "      <td>0</td>\n",
       "      <td>1709396985564</td>\n",
       "    </tr>\n",
       "    <tr>\n",
       "      <th>OS_fk</th>\n",
       "      <td>2588856</td>\n",
       "      <td>1.204541735819733E12</td>\n",
       "      <td>5.144568591722636E11</td>\n",
       "      <td>274877906944</td>\n",
       "      <td>1683627180032</td>\n",
       "    </tr>\n",
       "  </tbody>\n",
       "</table>\n",
       "</div>"
      ],
      "text/plain": [
       "                    0                      1                      2  \\\n",
       "summary         count                   mean                 stddev   \n",
       "log_text      2588856                   None                   None   \n",
       "request_type  2588856                   None                   None   \n",
       "size          2588856     12432.542023581072      28224.91818821393   \n",
       "timezone      2588856                  330.0                    0.0   \n",
       "agent         2588856      5.009933774834437    0.09933664825247294   \n",
       "ip_fk         2588856   8.557616758753436E11   4.889046976572585E11   \n",
       "status_fk     2588856  1.5415186124336426E11  2.6113197495897772E11   \n",
       "timestamp_fk  2588856   8.548644975710552E11   4.954765138927949E11   \n",
       "OS_fk         2588856   1.204541735819733E12   5.144568591722636E11   \n",
       "\n",
       "                                                              3  \\\n",
       "summary                                                     min   \n",
       "log_text      1.132.107.223 - - [26/Jan/2019:02:26:25 +0330]...   \n",
       "request_type                                                      \n",
       "size                                                          0   \n",
       "timezone                                                  +0330   \n",
       "agent                                                             \n",
       "ip_fk                                                         0   \n",
       "status_fk                                           85899345920   \n",
       "timestamp_fk                                                  0   \n",
       "OS_fk                                              274877906944   \n",
       "\n",
       "                                                              4  \n",
       "summary                                                     max  \n",
       "log_text      99.99.188.195 - - [25/Jan/2019:05:33:18 +0330]...  \n",
       "request_type                                         t3 9.2.0.0  \n",
       "size                                                       9999  \n",
       "timezone                                                  +0330  \n",
       "agent                                                       6.0  \n",
       "ip_fk                                             1709396984589  \n",
       "status_fk                                         1657857376256  \n",
       "timestamp_fk                                      1709396985564  \n",
       "OS_fk                                             1683627180032  "
      ]
     },
     "execution_count": 14,
     "metadata": {},
     "output_type": "execute_result"
    }
   ],
   "source": [
    "fact_table.describe().toPandas().transpose()"
   ]
  },
  {
   "cell_type": "code",
   "execution_count": 15,
   "id": "394f72cc",
   "metadata": {},
   "outputs": [
    {
     "name": "stderr",
     "output_type": "stream",
     "text": [
      "                                                                                \r"
     ]
    },
    {
     "data": {
      "text/html": [
       "<div>\n",
       "<style scoped>\n",
       "    .dataframe tbody tr th:only-of-type {\n",
       "        vertical-align: middle;\n",
       "    }\n",
       "\n",
       "    .dataframe tbody tr th {\n",
       "        vertical-align: top;\n",
       "    }\n",
       "\n",
       "    .dataframe thead th {\n",
       "        text-align: right;\n",
       "    }\n",
       "</style>\n",
       "<table border=\"1\" class=\"dataframe\">\n",
       "  <thead>\n",
       "    <tr style=\"text-align: right;\">\n",
       "      <th></th>\n",
       "      <th>0</th>\n",
       "      <th>1</th>\n",
       "      <th>2</th>\n",
       "      <th>3</th>\n",
       "      <th>4</th>\n",
       "    </tr>\n",
       "  </thead>\n",
       "  <tbody>\n",
       "    <tr>\n",
       "      <th>summary</th>\n",
       "      <td>count</td>\n",
       "      <td>mean</td>\n",
       "      <td>stddev</td>\n",
       "      <td>min</td>\n",
       "      <td>max</td>\n",
       "    </tr>\n",
       "    <tr>\n",
       "      <th>ip</th>\n",
       "      <td>163445</td>\n",
       "      <td>None</td>\n",
       "      <td>None</td>\n",
       "      <td>1.132.107.223</td>\n",
       "      <td>99.99.188.195</td>\n",
       "    </tr>\n",
       "    <tr>\n",
       "      <th>ip_pk</th>\n",
       "      <td>163445</td>\n",
       "      <td>8.546866936016863E11</td>\n",
       "      <td>4.969138347881612E11</td>\n",
       "      <td>0</td>\n",
       "      <td>1709396984589</td>\n",
       "    </tr>\n",
       "  </tbody>\n",
       "</table>\n",
       "</div>"
      ],
      "text/plain": [
       "              0                     1                     2              3  \\\n",
       "summary   count                  mean                stddev            min   \n",
       "ip       163445                  None                  None  1.132.107.223   \n",
       "ip_pk    163445  8.546866936016863E11  4.969138347881612E11              0   \n",
       "\n",
       "                     4  \n",
       "summary            max  \n",
       "ip       99.99.188.195  \n",
       "ip_pk    1709396984589  "
      ]
     },
     "execution_count": 15,
     "metadata": {},
     "output_type": "execute_result"
    }
   ],
   "source": [
    "dim_tables[0].describe().toPandas().transpose()"
   ]
  },
  {
   "cell_type": "code",
   "execution_count": 16,
   "id": "7ec86699",
   "metadata": {},
   "outputs": [
    {
     "name": "stderr",
     "output_type": "stream",
     "text": [
      "                                                                                \r"
     ]
    },
    {
     "data": {
      "text/html": [
       "<div>\n",
       "<style scoped>\n",
       "    .dataframe tbody tr th:only-of-type {\n",
       "        vertical-align: middle;\n",
       "    }\n",
       "\n",
       "    .dataframe tbody tr th {\n",
       "        vertical-align: top;\n",
       "    }\n",
       "\n",
       "    .dataframe thead th {\n",
       "        text-align: right;\n",
       "    }\n",
       "</style>\n",
       "<table border=\"1\" class=\"dataframe\">\n",
       "  <thead>\n",
       "    <tr style=\"text-align: right;\">\n",
       "      <th></th>\n",
       "      <th>0</th>\n",
       "      <th>1</th>\n",
       "      <th>2</th>\n",
       "      <th>3</th>\n",
       "      <th>4</th>\n",
       "    </tr>\n",
       "  </thead>\n",
       "  <tbody>\n",
       "    <tr>\n",
       "      <th>summary</th>\n",
       "      <td>count</td>\n",
       "      <td>mean</td>\n",
       "      <td>stddev</td>\n",
       "      <td>min</td>\n",
       "      <td>max</td>\n",
       "    </tr>\n",
       "    <tr>\n",
       "      <th>status</th>\n",
       "      <td>16</td>\n",
       "      <td>384.5625</td>\n",
       "      <td>97.90333242540827</td>\n",
       "      <td>200</td>\n",
       "      <td>504</td>\n",
       "    </tr>\n",
       "    <tr>\n",
       "      <th>status_pk</th>\n",
       "      <td>16</td>\n",
       "      <td>9.164386467840625E11</td>\n",
       "      <td>5.075163148494362E11</td>\n",
       "      <td>85899345920</td>\n",
       "      <td>1657857376256</td>\n",
       "    </tr>\n",
       "  </tbody>\n",
       "</table>\n",
       "</div>"
      ],
      "text/plain": [
       "               0                     1                     2            3  \\\n",
       "summary    count                  mean                stddev          min   \n",
       "status        16              384.5625     97.90333242540827          200   \n",
       "status_pk     16  9.164386467840625E11  5.075163148494362E11  85899345920   \n",
       "\n",
       "                       4  \n",
       "summary              max  \n",
       "status               504  \n",
       "status_pk  1657857376256  "
      ]
     },
     "execution_count": 16,
     "metadata": {},
     "output_type": "execute_result"
    }
   ],
   "source": [
    "dim_tables[1].describe().toPandas().transpose()"
   ]
  },
  {
   "cell_type": "code",
   "execution_count": 17,
   "id": "a62f7ea8",
   "metadata": {},
   "outputs": [
    {
     "name": "stderr",
     "output_type": "stream",
     "text": [
      "                                                                                \r"
     ]
    },
    {
     "data": {
      "text/html": [
       "<div>\n",
       "<style scoped>\n",
       "    .dataframe tbody tr th:only-of-type {\n",
       "        vertical-align: middle;\n",
       "    }\n",
       "\n",
       "    .dataframe tbody tr th {\n",
       "        vertical-align: top;\n",
       "    }\n",
       "\n",
       "    .dataframe thead th {\n",
       "        text-align: right;\n",
       "    }\n",
       "</style>\n",
       "<table border=\"1\" class=\"dataframe\">\n",
       "  <thead>\n",
       "    <tr style=\"text-align: right;\">\n",
       "      <th></th>\n",
       "      <th>0</th>\n",
       "      <th>1</th>\n",
       "      <th>2</th>\n",
       "      <th>3</th>\n",
       "      <th>4</th>\n",
       "    </tr>\n",
       "  </thead>\n",
       "  <tbody>\n",
       "    <tr>\n",
       "      <th>summary</th>\n",
       "      <td>count</td>\n",
       "      <td>mean</td>\n",
       "      <td>stddev</td>\n",
       "      <td>min</td>\n",
       "      <td>max</td>\n",
       "    </tr>\n",
       "    <tr>\n",
       "      <th>timestamp</th>\n",
       "      <td>362388</td>\n",
       "      <td>None</td>\n",
       "      <td>None</td>\n",
       "      <td>22/Jan/2019:03:56:18</td>\n",
       "      <td>26/Jan/2019:20:29:13</td>\n",
       "    </tr>\n",
       "    <tr>\n",
       "      <th>timestamp_pk</th>\n",
       "      <td>362388</td>\n",
       "      <td>8.545869195180164E11</td>\n",
       "      <td>4.958780198948574E11</td>\n",
       "      <td>0</td>\n",
       "      <td>1709396985564</td>\n",
       "    </tr>\n",
       "  </tbody>\n",
       "</table>\n",
       "</div>"
      ],
      "text/plain": [
       "                   0                     1                     2  \\\n",
       "summary        count                  mean                stddev   \n",
       "timestamp     362388                  None                  None   \n",
       "timestamp_pk  362388  8.545869195180164E11  4.958780198948574E11   \n",
       "\n",
       "                                  3                      4  \n",
       "summary                         min                    max  \n",
       "timestamp     22/Jan/2019:03:56:18   26/Jan/2019:20:29:13   \n",
       "timestamp_pk                      0          1709396985564  "
      ]
     },
     "execution_count": 17,
     "metadata": {},
     "output_type": "execute_result"
    }
   ],
   "source": [
    "dim_tables[2].describe().toPandas().transpose()"
   ]
  },
  {
   "cell_type": "code",
   "execution_count": 18,
   "id": "9f36adbe",
   "metadata": {},
   "outputs": [
    {
     "name": "stderr",
     "output_type": "stream",
     "text": [
      "                                                                                \r"
     ]
    },
    {
     "data": {
      "text/html": [
       "<div>\n",
       "<style scoped>\n",
       "    .dataframe tbody tr th:only-of-type {\n",
       "        vertical-align: middle;\n",
       "    }\n",
       "\n",
       "    .dataframe tbody tr th {\n",
       "        vertical-align: top;\n",
       "    }\n",
       "\n",
       "    .dataframe thead th {\n",
       "        text-align: right;\n",
       "    }\n",
       "</style>\n",
       "<table border=\"1\" class=\"dataframe\">\n",
       "  <thead>\n",
       "    <tr style=\"text-align: right;\">\n",
       "      <th></th>\n",
       "      <th>0</th>\n",
       "      <th>1</th>\n",
       "      <th>2</th>\n",
       "      <th>3</th>\n",
       "      <th>4</th>\n",
       "    </tr>\n",
       "  </thead>\n",
       "  <tbody>\n",
       "    <tr>\n",
       "      <th>summary</th>\n",
       "      <td>count</td>\n",
       "      <td>mean</td>\n",
       "      <td>stddev</td>\n",
       "      <td>min</td>\n",
       "      <td>max</td>\n",
       "    </tr>\n",
       "    <tr>\n",
       "      <th>OS</th>\n",
       "      <td>5</td>\n",
       "      <td>None</td>\n",
       "      <td>None</td>\n",
       "      <td>Android</td>\n",
       "      <td>iOS</td>\n",
       "    </tr>\n",
       "    <tr>\n",
       "      <th>OS_pk</th>\n",
       "      <td>5</td>\n",
       "      <td>1.0084583211008E12</td>\n",
       "      <td>5.808091753964819E11</td>\n",
       "      <td>274877906944</td>\n",
       "      <td>1683627180032</td>\n",
       "    </tr>\n",
       "  </tbody>\n",
       "</table>\n",
       "</div>"
      ],
      "text/plain": [
       "             0                   1                     2             3  \\\n",
       "summary  count                mean                stddev           min   \n",
       "OS           5                None                  None       Android   \n",
       "OS_pk        5  1.0084583211008E12  5.808091753964819E11  274877906944   \n",
       "\n",
       "                     4  \n",
       "summary            max  \n",
       "OS                 iOS  \n",
       "OS_pk    1683627180032  "
      ]
     },
     "execution_count": 18,
     "metadata": {},
     "output_type": "execute_result"
    }
   ],
   "source": [
    "dim_tables[3].describe().toPandas().transpose()"
   ]
  },
  {
   "cell_type": "code",
   "execution_count": 19,
   "id": "374f00bc",
   "metadata": {},
   "outputs": [],
   "source": [
    "#fact_table.describe().toPandas().transpose()"
   ]
  },
  {
   "cell_type": "code",
   "execution_count": 20,
   "id": "48b7d38f",
   "metadata": {},
   "outputs": [
    {
     "name": "stdout",
     "output_type": "stream",
     "text": [
      "ip\n",
      "status\n",
      "timestamp\n",
      "OS\n"
     ]
    }
   ],
   "source": [
    "for dim_table in dim_tables:\n",
    "    dim_col = dim_table.columns[0]\n",
    "    print(dim_col)"
   ]
  },
  {
   "cell_type": "code",
   "execution_count": 24,
   "id": "a9f66e14",
   "metadata": {},
   "outputs": [],
   "source": [
    "\n",
    "\n",
    "server_name = \"jdbc:sqlserver://35.209.118.36\"\n",
    "database_name = \"webaccesslogdb\"\n",
    "url = server_name + \";\" + \"databaseName=\" + database_name + \";\"\n",
    "\n",
    "table_name = \"Inventory\"\n",
    "username = \"SA\"\n",
    "password = \"Passw0rd123456\" # Please specify password here\n",
    "\n"
   ]
  },
  {
   "cell_type": "code",
   "execution_count": 25,
   "id": "e3ad38f3",
   "metadata": {},
   "outputs": [
    {
     "name": "stdout",
     "output_type": "stream",
     "text": [
      "ip\n",
      "<table_name_ip>\n",
      "status\n",
      "<table_name_status>\n",
      "timestamp\n",
      "<table_name_timestamp>\n",
      "OS\n",
      "<table_name_OS>\n"
     ]
    }
   ],
   "source": [
    "# Write the dimension tables and the fact table into MSSQL\n",
    "for dim_table in dim_tables:\n",
    "    dim_col = dim_table.columns[0]\n",
    "    print(dim_col)\n",
    "    print(f\"<table_name_{dim_col}>\")"
   ]
  },
  {
   "cell_type": "code",
   "execution_count": 28,
   "id": "900acd50",
   "metadata": {},
   "outputs": [
    {
     "name": "stderr",
     "output_type": "stream",
     "text": [
      "                                                                                \r"
     ]
    }
   ],
   "source": [
    "# Write the dimension tables and the fact table into MSSQL\n",
    "for dim_table in dim_tables:\n",
    "    dim_col = dim_table.columns[0]\n",
    "    dim_table.coalesce(1).write.format(\"jdbc\").options(url=url, driver=\"com.microsoft.sqlserver.jdbc.SQLServerDriver\", dbtable=f\"table_name_{dim_col}\", user=username, password=password).mode(\"overwrite\").save()\n",
    "    fact_table.coalesce(1).write.format(\"jdbc\").options(url=url, driver=\"com.microsoft.sqlserver.jdbc.SQLServerDriver\", dbtable=\"table_name_fact\", user=username, password=password).mode(\"overwrite\").save()"
   ]
  },
  {
   "cell_type": "code",
   "execution_count": null,
   "id": "4b7ee61d",
   "metadata": {},
   "outputs": [],
   "source": []
  }
 ],
 "metadata": {
  "kernelspec": {
   "display_name": "Python 3 (ipykernel)",
   "language": "python",
   "name": "python3"
  },
  "language_info": {
   "codemirror_mode": {
    "name": "ipython",
    "version": 3
   },
   "file_extension": ".py",
   "mimetype": "text/x-python",
   "name": "python",
   "nbconvert_exporter": "python",
   "pygments_lexer": "ipython3",
   "version": "3.9.2"
  }
 },
 "nbformat": 4,
 "nbformat_minor": 5
}
