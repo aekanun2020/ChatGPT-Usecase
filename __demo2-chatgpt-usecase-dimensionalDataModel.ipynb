{
 "cells": [
  {
   "cell_type": "raw",
   "id": "9e4b04b2",
   "metadata": {},
   "source": [
    "Here is a link for a text of log:\n",
    "\n",
    "54.36.149.41 - - [22/Jan/2019:03:56:14 +0330] \"GET /filter/27|13%20%D9%85%DA%AF%D8%A7%D9%BE%DB%8C%DA%A9%D8%B3%D9%84,27|%DA%A9%D9%85%D8%AA%D8%B1%20%D8%A7%D8%B2%205%20%D9%85%DA%AF%D8%A7%D9%BE%DB%8C%DA%A9%D8%B3%D9%84,p53 HTTP/1.1\" 200 30577 \"-\" \"Mozilla/5.0 (compatible; AhrefsBot/6.1; +http://ahrefs.com/robot/)\" \"-\"\n",
    "\n",
    "From the text, please provide Pyspark Script that use Spark's regular expression function for extracting feature columns and create the feature columns using Spark operation of \"withColumn()\""
   ]
  },
  {
   "cell_type": "code",
   "execution_count": 1,
   "id": "522bdf3d",
   "metadata": {},
   "outputs": [
    {
     "name": "stderr",
     "output_type": "stream",
     "text": [
      "23/01/29 02:58:56 WARN NativeCodeLoader: Unable to load native-hadoop library for your platform... using builtin-java classes where applicable\n",
      "Using Spark's default log4j profile: org/apache/spark/log4j-defaults.properties\n",
      "Setting default log level to \"WARN\".\n",
      "To adjust logging level use sc.setLogLevel(newLevel). For SparkR, use setLogLevel(newLevel).\n"
     ]
    }
   ],
   "source": [
    "from pyspark.sql import SparkSession\n",
    "\n",
    "spark = SparkSession.\\\n",
    "        builder.\\\n",
    "        appName(\"จาก raw data สู่ Disk\").\\\n",
    "        master(\"spark://spark-master:7077\").\\\n",
    "        config(\"spark.executor.memory\", \"3000m\").\\\n",
    "        config(\"spark.executor.cores\", \"2\").\\\n",
    "        config(\"spark.cores.max\", \"6\").\\\n",
    "        getOrCreate()"
   ]
  },
  {
   "cell_type": "code",
   "execution_count": 2,
   "id": "816a992f",
   "metadata": {},
   "outputs": [],
   "source": [
    "# Read the access log file\n",
    "raw_df = spark.read.text(\"access.log\").withColumnRenamed('value','log_text').repartition(60)"
   ]
  },
  {
   "cell_type": "code",
   "execution_count": 3,
   "id": "40795035",
   "metadata": {},
   "outputs": [
    {
     "name": "stdout",
     "output_type": "stream",
     "text": [
      "10365152 access.log\n"
     ]
    }
   ],
   "source": [
    "! wc -l access.log"
   ]
  },
  {
   "cell_type": "code",
   "execution_count": 4,
   "id": "26fea8f4",
   "metadata": {},
   "outputs": [
    {
     "name": "stderr",
     "output_type": "stream",
     "text": [
      "                                                                                \r"
     ]
    },
    {
     "data": {
      "text/plain": [
       "10365152"
      ]
     },
     "execution_count": 4,
     "metadata": {},
     "output_type": "execute_result"
    }
   ],
   "source": [
    "raw_df.count()"
   ]
  },
  {
   "cell_type": "code",
   "execution_count": 5,
   "id": "54698365",
   "metadata": {},
   "outputs": [
    {
     "data": {
      "text/plain": [
       "60"
      ]
     },
     "execution_count": 5,
     "metadata": {},
     "output_type": "execute_result"
    }
   ],
   "source": [
    "raw_df.rdd.getNumPartitions()"
   ]
  },
  {
   "cell_type": "code",
   "execution_count": 6,
   "id": "ba779d16",
   "metadata": {},
   "outputs": [],
   "source": [
    "### หลังจากบรรทัดนี้เป็นฝีมือ ChatGPT-3"
   ]
  },
  {
   "cell_type": "code",
   "execution_count": 7,
   "id": "d0b4add3",
   "metadata": {},
   "outputs": [],
   "source": [
    "from pyspark.sql.functions import regexp_extract,col,monotonically_increasing_id, when"
   ]
  },
  {
   "cell_type": "code",
   "execution_count": 8,
   "id": "ebb3274a",
   "metadata": {},
   "outputs": [],
   "source": [
    "# Extract feature columns using regular expressions\n",
    "log_df = raw_df.withColumn(\"ip\", regexp_extract(col(\"log_text\"), \"^([\\\\d.]+)\", 1)) \\\n",
    "    .withColumn(\"request_type\", regexp_extract(\"log_text\", r\"\\\"(.*?)\\\"\", 1)) \\\n",
    ".withColumn(\"status\", regexp_extract(\"log_text\", r\"\\\"\\s+(\\d+)\", 1))\\\n",
    ".withColumn(\"size\", regexp_extract(\"log_text\", r\"\\\"\\s+\\d+\\s+(\\d+)\", 1))\\\n",
    "    .withColumn(\"timestamp\", regexp_extract(col(\"log_text\"), \"\\\\[(.+?)\\\\]\", 1)) \\\n",
    "    .withColumn(\"timezone\", regexp_extract(col(\"log_text\"), \"\\\\[.+?\\\\s(.+?)\\\\]\", 1))\\\n",
    ".withColumn(\"OS\", regexp_extract(col(\"log_text\"), r\"\\\"Mozilla\\/(.*?)\\\"\", 1))\n"
   ]
  },
  {
   "cell_type": "raw",
   "id": "b03981fe",
   "metadata": {},
   "source": [
    "log_df.limit(10).toPandas().transpose()"
   ]
  },
  {
   "cell_type": "code",
   "execution_count": 9,
   "id": "780a184d",
   "metadata": {},
   "outputs": [
    {
     "name": "stdout",
     "output_type": "stream",
     "text": [
      "root\n",
      " |-- log_text: string (nullable = true)\n",
      " |-- ip: string (nullable = true)\n",
      " |-- request_type: string (nullable = true)\n",
      " |-- status: string (nullable = true)\n",
      " |-- size: string (nullable = true)\n",
      " |-- timestamp: string (nullable = true)\n",
      " |-- timezone: string (nullable = true)\n",
      " |-- OS: string (nullable = true)\n",
      "\n"
     ]
    }
   ],
   "source": [
    "log_df.printSchema()"
   ]
  },
  {
   "cell_type": "raw",
   "id": "662fb0f6",
   "metadata": {},
   "source": [
    "log_df.describe().toPandas().transpose()"
   ]
  },
  {
   "cell_type": "code",
   "execution_count": 10,
   "id": "a794b421",
   "metadata": {},
   "outputs": [],
   "source": [
    "from pyspark.sql.types import *"
   ]
  },
  {
   "cell_type": "code",
   "execution_count": 11,
   "id": "033d7ab8",
   "metadata": {},
   "outputs": [],
   "source": [
    "# split dataframe into 2 dataframes\n",
    "fact_df = log_df.select(\"ip\", \"size\", \"status\")\\\n",
    ".withColumn('size',col('size').cast(FloatType()))\\\n",
    ".withColumn('status',col('status').cast(IntegerType())).dropna()\n",
    "dim_df = log_df.select(\"status\").withColumn('status',col('status').cast(IntegerType())).dropna()"
   ]
  },
  {
   "cell_type": "code",
   "execution_count": 12,
   "id": "b0b913c8",
   "metadata": {},
   "outputs": [
    {
     "name": "stdout",
     "output_type": "stream",
     "text": [
      "root\n",
      " |-- ip: string (nullable = true)\n",
      " |-- size: float (nullable = true)\n",
      " |-- status: integer (nullable = true)\n",
      "\n"
     ]
    }
   ],
   "source": [
    "fact_df.printSchema()"
   ]
  },
  {
   "cell_type": "code",
   "execution_count": 13,
   "id": "13fd2e6e",
   "metadata": {},
   "outputs": [
    {
     "name": "stdout",
     "output_type": "stream",
     "text": [
      "root\n",
      " |-- status: integer (nullable = true)\n",
      "\n"
     ]
    }
   ],
   "source": [
    "dim_df.printSchema()"
   ]
  },
  {
   "cell_type": "code",
   "execution_count": 14,
   "id": "1050f096",
   "metadata": {},
   "outputs": [
    {
     "name": "stderr",
     "output_type": "stream",
     "text": [
      "                                                                                \r"
     ]
    },
    {
     "data": {
      "text/plain": [
       "10365152"
      ]
     },
     "execution_count": 14,
     "metadata": {},
     "output_type": "execute_result"
    }
   ],
   "source": [
    "dim_df.count()"
   ]
  },
  {
   "cell_type": "code",
   "execution_count": 15,
   "id": "723ed314",
   "metadata": {},
   "outputs": [
    {
     "name": "stderr",
     "output_type": "stream",
     "text": [
      "                                                                                \r"
     ]
    },
    {
     "data": {
      "text/plain": [
       "10365152"
      ]
     },
     "execution_count": 15,
     "metadata": {},
     "output_type": "execute_result"
    }
   ],
   "source": [
    "fact_df.count()"
   ]
  },
  {
   "cell_type": "code",
   "execution_count": 16,
   "id": "8c39154b",
   "metadata": {},
   "outputs": [
    {
     "name": "stderr",
     "output_type": "stream",
     "text": [
      "[Stage 10:====================================================>   (56 + 2) / 60]\r"
     ]
    },
    {
     "name": "stdout",
     "output_type": "stream",
     "text": [
      "+-------+------------------+\n",
      "|summary|            status|\n",
      "+-------+------------------+\n",
      "|  count|          10365152|\n",
      "|   mean|210.14194890726156|\n",
      "| stddev|39.214242396992674|\n",
      "|    min|               200|\n",
      "|    max|               504|\n",
      "+-------+------------------+\n",
      "\n"
     ]
    },
    {
     "name": "stderr",
     "output_type": "stream",
     "text": [
      "                                                                                \r"
     ]
    }
   ],
   "source": [
    "dim_df.describe().show()"
   ]
  },
  {
   "cell_type": "code",
   "execution_count": 17,
   "id": "d791786c",
   "metadata": {},
   "outputs": [
    {
     "name": "stderr",
     "output_type": "stream",
     "text": [
      "[Stage 13:======================================================> (58 + 2) / 60]\r"
     ]
    },
    {
     "name": "stdout",
     "output_type": "stream",
     "text": [
      "+-------+-------------+------------------+------------------+\n",
      "|summary|           ip|              size|            status|\n",
      "+-------+-------------+------------------+------------------+\n",
      "|  count|     10365152|          10365152|          10365152|\n",
      "|   mean|         null|12433.109789996326|210.14194890726156|\n",
      "| stddev|         null| 28126.54453953196|39.214242396992674|\n",
      "|    min|1.132.107.223|               0.0|               200|\n",
      "|    max|99.99.188.195|         1249490.0|               504|\n",
      "+-------+-------------+------------------+------------------+\n",
      "\n"
     ]
    },
    {
     "name": "stderr",
     "output_type": "stream",
     "text": [
      "                                                                                \r"
     ]
    }
   ],
   "source": [
    "fact_df.describe().show()"
   ]
  },
  {
   "cell_type": "code",
   "execution_count": 18,
   "id": "8bb81db4",
   "metadata": {},
   "outputs": [],
   "source": [
    "# add primary key and foreign key to the dataframes\n",
    "new_dim_df = dim_df.distinct().withColumn(\"status_id\", monotonically_increasing_id())\n",
    "\n",
    "# join dataframes on foreign key and primary key\n",
    "new_fact_df = fact_df.join(new_dim_df, fact_df.status == new_dim_df.status, \"inner\").select(fact_df[\"*\"], new_dim_df[\"status_id\"])"
   ]
  },
  {
   "cell_type": "code",
   "execution_count": 19,
   "id": "c2254973",
   "metadata": {},
   "outputs": [
    {
     "name": "stderr",
     "output_type": "stream",
     "text": [
      "                                                                                \r"
     ]
    },
    {
     "data": {
      "text/plain": [
       "10365152"
      ]
     },
     "execution_count": 19,
     "metadata": {},
     "output_type": "execute_result"
    }
   ],
   "source": [
    "new_fact_df.count()"
   ]
  },
  {
   "cell_type": "code",
   "execution_count": 20,
   "id": "e055af00",
   "metadata": {},
   "outputs": [
    {
     "name": "stderr",
     "output_type": "stream",
     "text": [
      "[Stage 45:=======================================================>(74 + 1) / 75]\r"
     ]
    },
    {
     "name": "stdout",
     "output_type": "stream",
     "text": [
      "+------+-------+\n",
      "|status|  count|\n",
      "+------+-------+\n",
      "|   206|      3|\n",
      "|   500|  14266|\n",
      "|   504|    103|\n",
      "|   502|    798|\n",
      "|   301|  67553|\n",
      "|   400|    586|\n",
      "|   403|   5634|\n",
      "|   404| 105011|\n",
      "|   408|    112|\n",
      "|   414|     17|\n",
      "|   200|9579825|\n",
      "|   304| 340228|\n",
      "|   499|  50852|\n",
      "|   302| 199835|\n",
      "|   405|      6|\n",
      "|   401|    323|\n",
      "+------+-------+\n",
      "\n"
     ]
    },
    {
     "name": "stderr",
     "output_type": "stream",
     "text": [
      "                                                                                \r"
     ]
    }
   ],
   "source": [
    "new_fact_df.groupBy('status').count().show()"
   ]
  },
  {
   "cell_type": "code",
   "execution_count": 21,
   "id": "5fd48afc",
   "metadata": {},
   "outputs": [
    {
     "name": "stderr",
     "output_type": "stream",
     "text": [
      "                                                                                \r"
     ]
    },
    {
     "name": "stdout",
     "output_type": "stream",
     "text": [
      "+------+-------------+\n",
      "|status|    status_id|\n",
      "+------+-------------+\n",
      "|   206| 369367187456|\n",
      "|   500| 463856467968|\n",
      "|   504| 635655159808|\n",
      "|   502| 730144440320|\n",
      "|   301| 867583393792|\n",
      "|   400| 996432412672|\n",
      "|   403|1030792151040|\n",
      "|   404|1073741824000|\n",
      "|   408|1168231104512|\n",
      "|   414|1314259992576|\n",
      "|   200|1331439861760|\n",
      "|   304|1374389534720|\n",
      "|   499|1477468749824|\n",
      "|   302|1563368095744|\n",
      "|   405|1571958030336|\n",
      "|   401|1709396983808|\n",
      "+------+-------------+\n",
      "\n"
     ]
    }
   ],
   "source": [
    "new_dim_df.show()"
   ]
  },
  {
   "cell_type": "code",
   "execution_count": 22,
   "id": "86ddc192",
   "metadata": {},
   "outputs": [
    {
     "name": "stderr",
     "output_type": "stream",
     "text": [
      "                                                                                \r"
     ]
    },
    {
     "name": "stdout",
     "output_type": "stream",
     "text": [
      "+---------------+--------+------+------------+\n",
      "|             ip|    size|status|   status_id|\n",
      "+---------------+--------+------+------------+\n",
      "| 87.107.218.136|    64.0|   206|369367187456|\n",
      "| 87.107.218.136|    64.0|   206|369367187456|\n",
      "| 185.118.137.99|202772.0|   206|369367187456|\n",
      "|151.239.241.163| 34295.0|   500|463856467968|\n",
      "|   84.241.11.57|     0.0|   500|463856467968|\n",
      "|151.239.241.163| 33402.0|   500|463856467968|\n",
      "| 194.225.55.136|    31.0|   500|463856467968|\n",
      "|195.181.168.181| 33303.0|   500|463856467968|\n",
      "|   81.29.241.79|     0.0|   500|463856467968|\n",
      "|  5.117.116.238| 32994.0|   500|463856467968|\n",
      "|151.239.241.163|  1086.0|   500|463856467968|\n",
      "|   5.78.190.233| 33056.0|   500|463856467968|\n",
      "|  134.19.177.22| 33615.0|   500|463856467968|\n",
      "|195.181.168.164| 33267.0|   500|463856467968|\n",
      "|109.125.158.193|    31.0|   500|463856467968|\n",
      "| 46.224.115.153|    31.0|   500|463856467968|\n",
      "|  5.117.116.238| 34990.0|   500|463856467968|\n",
      "|   65.49.68.183| 34985.0|   500|463856467968|\n",
      "|  162.223.91.51| 34971.0|   500|463856467968|\n",
      "|  162.223.91.51| 34989.0|   500|463856467968|\n",
      "+---------------+--------+------+------------+\n",
      "only showing top 20 rows\n",
      "\n"
     ]
    }
   ],
   "source": [
    "new_fact_df.show()"
   ]
  },
  {
   "cell_type": "code",
   "execution_count": 23,
   "id": "de6afea5",
   "metadata": {},
   "outputs": [
    {
     "name": "stderr",
     "output_type": "stream",
     "text": [
      "                                                                                \r"
     ]
    },
    {
     "data": {
      "text/plain": [
       "10365152"
      ]
     },
     "execution_count": 23,
     "metadata": {},
     "output_type": "execute_result"
    }
   ],
   "source": [
    "new_fact_df.count()"
   ]
  },
  {
   "cell_type": "code",
   "execution_count": 24,
   "id": "a49e3850",
   "metadata": {},
   "outputs": [],
   "source": [
    "final_fact_df = new_fact_df.drop('status')"
   ]
  },
  {
   "cell_type": "code",
   "execution_count": 25,
   "id": "0d489f8d",
   "metadata": {},
   "outputs": [],
   "source": [
    "result_join_df = final_fact_df.join(new_dim_df,on=[final_fact_df.status_id == new_dim_df.status_id])"
   ]
  },
  {
   "cell_type": "code",
   "execution_count": 26,
   "id": "e84b32fe",
   "metadata": {},
   "outputs": [
    {
     "name": "stderr",
     "output_type": "stream",
     "text": [
      "                                                                                \r"
     ]
    },
    {
     "name": "stdout",
     "output_type": "stream",
     "text": [
      "+--------------+----+-------------+------+-------------+\n",
      "|            ip|size|    status_id|status|    status_id|\n",
      "+--------------+----+-------------+------+-------------+\n",
      "| 78.154.37.242| 0.0|1563368095744|   302|1563368095744|\n",
      "|   5.73.203.90| 0.0|1563368095744|   302|1563368095744|\n",
      "| 5.116.200.165| 0.0|1563368095744|   302|1563368095744|\n",
      "|204.18.128.183| 0.0|1563368095744|   302|1563368095744|\n",
      "|   91.99.30.32| 0.0|1563368095744|   302|1563368095744|\n",
      "|    77.42.3.85| 0.0|1563368095744|   302|1563368095744|\n",
      "|  54.36.148.24| 0.0|1563368095744|   302|1563368095744|\n",
      "|    89.37.5.70| 0.0|1563368095744|   302|1563368095744|\n",
      "|   5.210.207.0| 0.0|1563368095744|   302|1563368095744|\n",
      "| 66.249.66.194| 0.0|1563368095744|   302|1563368095744|\n",
      "| 37.129.190.88| 0.0|1563368095744|   302|1563368095744|\n",
      "|91.251.151.139| 0.0|1563368095744|   302|1563368095744|\n",
      "|  31.58.71.174| 0.0|1563368095744|   302|1563368095744|\n",
      "| 66.249.66.194| 0.0|1563368095744|   302|1563368095744|\n",
      "| 2.179.116.156| 0.0|1563368095744|   302|1563368095744|\n",
      "|92.242.205.209| 0.0|1563368095744|   302|1563368095744|\n",
      "|83.120.157.240| 0.0|1563368095744|   302|1563368095744|\n",
      "| 104.194.24.59| 0.0|1563368095744|   302|1563368095744|\n",
      "| 5.114.167.155| 0.0|1563368095744|   302|1563368095744|\n",
      "|78.158.165.114| 0.0|1563368095744|   302|1563368095744|\n",
      "+--------------+----+-------------+------+-------------+\n",
      "only showing top 20 rows\n",
      "\n"
     ]
    }
   ],
   "source": [
    "result_join_df.show()"
   ]
  },
  {
   "cell_type": "code",
   "execution_count": 27,
   "id": "d9886b1e",
   "metadata": {},
   "outputs": [
    {
     "name": "stderr",
     "output_type": "stream",
     "text": [
      "                                                                                \r"
     ]
    },
    {
     "data": {
      "text/html": [
       "<div>\n",
       "<style scoped>\n",
       "    .dataframe tbody tr th:only-of-type {\n",
       "        vertical-align: middle;\n",
       "    }\n",
       "\n",
       "    .dataframe tbody tr th {\n",
       "        vertical-align: top;\n",
       "    }\n",
       "\n",
       "    .dataframe thead th {\n",
       "        text-align: right;\n",
       "    }\n",
       "</style>\n",
       "<table border=\"1\" class=\"dataframe\">\n",
       "  <thead>\n",
       "    <tr style=\"text-align: right;\">\n",
       "      <th></th>\n",
       "      <th>0</th>\n",
       "      <th>1</th>\n",
       "      <th>2</th>\n",
       "      <th>3</th>\n",
       "      <th>4</th>\n",
       "    </tr>\n",
       "  </thead>\n",
       "  <tbody>\n",
       "    <tr>\n",
       "      <th>summary</th>\n",
       "      <td>count</td>\n",
       "      <td>mean</td>\n",
       "      <td>stddev</td>\n",
       "      <td>min</td>\n",
       "      <td>max</td>\n",
       "    </tr>\n",
       "    <tr>\n",
       "      <th>ip</th>\n",
       "      <td>10365152</td>\n",
       "      <td>None</td>\n",
       "      <td>None</td>\n",
       "      <td>1.132.107.223</td>\n",
       "      <td>99.99.188.195</td>\n",
       "    </tr>\n",
       "    <tr>\n",
       "      <th>size</th>\n",
       "      <td>10365152</td>\n",
       "      <td>12433.109789996326</td>\n",
       "      <td>28126.54453953366</td>\n",
       "      <td>0.0</td>\n",
       "      <td>1249490.0</td>\n",
       "    </tr>\n",
       "    <tr>\n",
       "      <th>status_id</th>\n",
       "      <td>10365152</td>\n",
       "      <td>1.3309838485853755E12</td>\n",
       "      <td>6.637947915909843E10</td>\n",
       "      <td>369367187456</td>\n",
       "      <td>1709396983808</td>\n",
       "    </tr>\n",
       "    <tr>\n",
       "      <th>status</th>\n",
       "      <td>10365152</td>\n",
       "      <td>210.14194890726156</td>\n",
       "      <td>39.21424239699267</td>\n",
       "      <td>200</td>\n",
       "      <td>504</td>\n",
       "    </tr>\n",
       "    <tr>\n",
       "      <th>status_id</th>\n",
       "      <td>10365152</td>\n",
       "      <td>1.3309838485853755E12</td>\n",
       "      <td>6.637947915909843E10</td>\n",
       "      <td>369367187456</td>\n",
       "      <td>1709396983808</td>\n",
       "    </tr>\n",
       "  </tbody>\n",
       "</table>\n",
       "</div>"
      ],
      "text/plain": [
       "                  0                      1                     2  \\\n",
       "summary       count                   mean                stddev   \n",
       "ip         10365152                   None                  None   \n",
       "size       10365152     12433.109789996326     28126.54453953366   \n",
       "status_id  10365152  1.3309838485853755E12  6.637947915909843E10   \n",
       "status     10365152     210.14194890726156     39.21424239699267   \n",
       "status_id  10365152  1.3309838485853755E12  6.637947915909843E10   \n",
       "\n",
       "                       3              4  \n",
       "summary              min            max  \n",
       "ip         1.132.107.223  99.99.188.195  \n",
       "size                 0.0      1249490.0  \n",
       "status_id   369367187456  1709396983808  \n",
       "status               200            504  \n",
       "status_id   369367187456  1709396983808  "
      ]
     },
     "execution_count": 27,
     "metadata": {},
     "output_type": "execute_result"
    }
   ],
   "source": [
    "result_join_df.describe().toPandas().transpose()"
   ]
  },
  {
   "cell_type": "code",
   "execution_count": null,
   "id": "66d2e820",
   "metadata": {},
   "outputs": [],
   "source": []
  },
  {
   "cell_type": "code",
   "execution_count": null,
   "id": "10152efd",
   "metadata": {},
   "outputs": [],
   "source": []
  },
  {
   "cell_type": "code",
   "execution_count": null,
   "id": "62a19f29",
   "metadata": {},
   "outputs": [],
   "source": []
  },
  {
   "cell_type": "code",
   "execution_count": null,
   "id": "ccd6c98d",
   "metadata": {},
   "outputs": [],
   "source": []
  },
  {
   "cell_type": "code",
   "execution_count": null,
   "id": "6931de60",
   "metadata": {},
   "outputs": [],
   "source": []
  }
 ],
 "metadata": {
  "kernelspec": {
   "display_name": "Python 3 (ipykernel)",
   "language": "python",
   "name": "python3"
  },
  "language_info": {
   "codemirror_mode": {
    "name": "ipython",
    "version": 3
   },
   "file_extension": ".py",
   "mimetype": "text/x-python",
   "name": "python",
   "nbconvert_exporter": "python",
   "pygments_lexer": "ipython3",
   "version": "3.9.2"
  }
 },
 "nbformat": 4,
 "nbformat_minor": 5
}
