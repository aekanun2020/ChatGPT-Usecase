{
 "cells": [
  {
   "cell_type": "raw",
   "id": "c74b3325",
   "metadata": {},
   "source": [
    "Here is a link for a text of log:\n",
    "\n",
    "54.36.149.41 - - [22/Jan/2019:03:56:14 +0330] \"GET /filter/27|13%20%D9%85%DA%AF%D8%A7%D9%BE%DB%8C%DA%A9%D8%B3%D9%84,27|%DA%A9%D9%85%D8%AA%D8%B1%20%D8%A7%D8%B2%205%20%D9%85%DA%AF%D8%A7%D9%BE%DB%8C%DA%A9%D8%B3%D9%84,p53 HTTP/1.1\" 200 30577 \"-\" \"Mozilla/5.0 (compatible; AhrefsBot/6.1; +http://ahrefs.com/robot/)\" \"-\"\n",
    "\n",
    "From the text, please provide Pyspark Script that use Spark's regular expression function for extracting feature columns and create the feature columns using Spark operation of \"withColumn()\""
   ]
  },
  {
   "cell_type": "code",
   "execution_count": 1,
   "id": "a06242ed",
   "metadata": {},
   "outputs": [
    {
     "name": "stderr",
     "output_type": "stream",
     "text": [
      "23/01/29 06:04:16 WARN NativeCodeLoader: Unable to load native-hadoop library for your platform... using builtin-java classes where applicable\n",
      "Using Spark's default log4j profile: org/apache/spark/log4j-defaults.properties\n",
      "Setting default log level to \"WARN\".\n",
      "To adjust logging level use sc.setLogLevel(newLevel). For SparkR, use setLogLevel(newLevel).\n"
     ]
    }
   ],
   "source": [
    "from pyspark.sql import SparkSession\n",
    "\n",
    "spark = SparkSession.\\\n",
    "        builder.\\\n",
    "        appName(\"จาก raw data สู่ Disk\").\\\n",
    "        master(\"spark://spark-master:7077\").\\\n",
    "        config(\"spark.executor.memory\", \"3000m\").\\\n",
    "        config(\"spark.executor.cores\", \"2\").\\\n",
    "        config(\"spark.cores.max\", \"6\").\\\n",
    "        getOrCreate()"
   ]
  },
  {
   "cell_type": "code",
   "execution_count": 2,
   "id": "29300a69",
   "metadata": {},
   "outputs": [],
   "source": [
    "# Read the access log file\n",
    "raw_df = spark.read.text(\"access.log\").withColumnRenamed('value','log_text').repartition(60)"
   ]
  },
  {
   "cell_type": "code",
   "execution_count": 3,
   "id": "e6c5c106",
   "metadata": {},
   "outputs": [
    {
     "name": "stdout",
     "output_type": "stream",
     "text": [
      "10365152 access.log\n"
     ]
    }
   ],
   "source": [
    "! wc -l access.log"
   ]
  },
  {
   "cell_type": "code",
   "execution_count": 4,
   "id": "841bcbfe",
   "metadata": {},
   "outputs": [
    {
     "name": "stderr",
     "output_type": "stream",
     "text": [
      "                                                                                \r"
     ]
    },
    {
     "data": {
      "text/plain": [
       "10365152"
      ]
     },
     "execution_count": 4,
     "metadata": {},
     "output_type": "execute_result"
    }
   ],
   "source": [
    "raw_df.count()"
   ]
  },
  {
   "cell_type": "code",
   "execution_count": 5,
   "id": "6b244ede",
   "metadata": {},
   "outputs": [
    {
     "data": {
      "text/plain": [
       "60"
      ]
     },
     "execution_count": 5,
     "metadata": {},
     "output_type": "execute_result"
    }
   ],
   "source": [
    "raw_df.rdd.getNumPartitions()"
   ]
  },
  {
   "cell_type": "code",
   "execution_count": 6,
   "id": "b779ba87",
   "metadata": {},
   "outputs": [],
   "source": [
    "### หลังจากบรรทัดนี้เป็นฝีมือ ChatGPT-3"
   ]
  },
  {
   "cell_type": "code",
   "execution_count": 7,
   "id": "7b752595",
   "metadata": {},
   "outputs": [],
   "source": [
    "from pyspark.sql.functions import regexp_extract,col,monotonically_increasing_id, when"
   ]
  },
  {
   "cell_type": "code",
   "execution_count": 8,
   "id": "9dc63a74",
   "metadata": {},
   "outputs": [],
   "source": [
    "# Extract feature columns using regular expressions\n",
    "log_df = raw_df.withColumn(\"ip\", regexp_extract(col(\"log_text\"), \"^([\\\\d.]+)\", 1)) \\\n",
    "    .withColumn(\"request_type\", regexp_extract(\"log_text\", r\"\\\"(.*?)\\\"\", 1)) \\\n",
    ".withColumn(\"status\", regexp_extract(\"log_text\", r\"\\\"\\s+(\\d+)\", 1))\\\n",
    ".withColumn(\"size\", regexp_extract(\"log_text\", r\"\\\"\\s+\\d+\\s+(\\d+)\", 1))\\\n",
    "    .withColumn(\"timestamp\", regexp_extract(col(\"log_text\"), \"\\\\[(.+?)\\\\]\", 1)) \\\n",
    "    .withColumn(\"timezone\", regexp_extract(col(\"log_text\"), \"\\\\[.+?\\\\s(.+?)\\\\]\", 1))\\\n",
    ".withColumn(\"OS\", regexp_extract(col(\"log_text\"), r\"\\\"Mozilla\\/(.*?)\\\"\", 1))\n"
   ]
  },
  {
   "cell_type": "raw",
   "id": "556adb38",
   "metadata": {},
   "source": [
    "log_df.limit(10).toPandas().transpose()"
   ]
  },
  {
   "cell_type": "code",
   "execution_count": 9,
   "id": "23732075",
   "metadata": {},
   "outputs": [
    {
     "name": "stdout",
     "output_type": "stream",
     "text": [
      "root\n",
      " |-- log_text: string (nullable = true)\n",
      " |-- ip: string (nullable = true)\n",
      " |-- request_type: string (nullable = true)\n",
      " |-- status: string (nullable = true)\n",
      " |-- size: string (nullable = true)\n",
      " |-- timestamp: string (nullable = true)\n",
      " |-- timezone: string (nullable = true)\n",
      " |-- OS: string (nullable = true)\n",
      "\n"
     ]
    }
   ],
   "source": [
    "log_df.printSchema()"
   ]
  },
  {
   "cell_type": "raw",
   "id": "0636fc2f",
   "metadata": {},
   "source": [
    "log_df.describe().toPandas().transpose()"
   ]
  },
  {
   "cell_type": "code",
   "execution_count": 10,
   "id": "2dd152f2",
   "metadata": {},
   "outputs": [],
   "source": [
    "from pyspark.sql.types import *"
   ]
  },
  {
   "cell_type": "code",
   "execution_count": 11,
   "id": "d3259694",
   "metadata": {},
   "outputs": [],
   "source": [
    "# split dataframe into 2 dataframes\n",
    "fact_df = log_df.select(\"ip\", \"size\", \"status\",\"OS\")\\\n",
    "                .withColumn('size',col('size').cast(FloatType()))\\\n",
    "                .withColumn('status',col('status').cast(IntegerType())).dropna()\n",
    "status_dim_df = log_df.select(\"status\").withColumn('status',col('status').cast(IntegerType())).dropna()"
   ]
  },
  {
   "cell_type": "code",
   "execution_count": 12,
   "id": "62437d91",
   "metadata": {},
   "outputs": [
    {
     "name": "stdout",
     "output_type": "stream",
     "text": [
      "root\n",
      " |-- ip: string (nullable = true)\n",
      " |-- size: float (nullable = true)\n",
      " |-- status: integer (nullable = true)\n",
      " |-- OS: string (nullable = true)\n",
      "\n"
     ]
    }
   ],
   "source": [
    "fact_df.printSchema()"
   ]
  },
  {
   "cell_type": "code",
   "execution_count": 13,
   "id": "3d85f7c7",
   "metadata": {},
   "outputs": [
    {
     "name": "stdout",
     "output_type": "stream",
     "text": [
      "root\n",
      " |-- status: integer (nullable = true)\n",
      "\n"
     ]
    }
   ],
   "source": [
    "status_dim_df.printSchema()"
   ]
  },
  {
   "cell_type": "code",
   "execution_count": 14,
   "id": "458a9d71",
   "metadata": {},
   "outputs": [
    {
     "name": "stderr",
     "output_type": "stream",
     "text": [
      "                                                                                \r"
     ]
    },
    {
     "data": {
      "text/plain": [
       "10365152"
      ]
     },
     "execution_count": 14,
     "metadata": {},
     "output_type": "execute_result"
    }
   ],
   "source": [
    "status_dim_df.count()"
   ]
  },
  {
   "cell_type": "code",
   "execution_count": 15,
   "id": "71672693",
   "metadata": {},
   "outputs": [
    {
     "name": "stderr",
     "output_type": "stream",
     "text": [
      "                                                                                \r"
     ]
    },
    {
     "data": {
      "text/plain": [
       "10365152"
      ]
     },
     "execution_count": 15,
     "metadata": {},
     "output_type": "execute_result"
    }
   ],
   "source": [
    "fact_df.count()"
   ]
  },
  {
   "cell_type": "code",
   "execution_count": 16,
   "id": "54a60f89",
   "metadata": {},
   "outputs": [
    {
     "name": "stderr",
     "output_type": "stream",
     "text": [
      "[Stage 10:=================================================>      (53 + 6) / 60]\r"
     ]
    },
    {
     "name": "stdout",
     "output_type": "stream",
     "text": [
      "+-------+------------------+\n",
      "|summary|            status|\n",
      "+-------+------------------+\n",
      "|  count|          10365152|\n",
      "|   mean|210.14194890726156|\n",
      "| stddev| 39.21424239699265|\n",
      "|    min|               200|\n",
      "|    max|               504|\n",
      "+-------+------------------+\n",
      "\n"
     ]
    },
    {
     "name": "stderr",
     "output_type": "stream",
     "text": [
      "                                                                                \r"
     ]
    }
   ],
   "source": [
    "status_dim_df.describe().show()"
   ]
  },
  {
   "cell_type": "code",
   "execution_count": 17,
   "id": "f61e04b6",
   "metadata": {},
   "outputs": [
    {
     "name": "stderr",
     "output_type": "stream",
     "text": [
      "[Stage 13:=======================================================>(59 + 1) / 60]\r"
     ]
    },
    {
     "name": "stdout",
     "output_type": "stream",
     "text": [
      "+-------+-------------+------------------+------------------+-------------------+\n",
      "|summary|           ip|              size|            status|                 OS|\n",
      "+-------+-------------+------------------+------------------+-------------------+\n",
      "|  count|     10365152|          10365152|          10365152|           10365152|\n",
      "|   mean|         null|12433.109789996326|210.14194890726156|  5.008038585209003|\n",
      "| stddev|         null|28126.544539532006| 39.21424239699267|0.08933298077682743|\n",
      "|    min|1.132.107.223|               0.0|               200|                   |\n",
      "|    max|99.99.188.195|         1249490.0|               504|                6.0|\n",
      "+-------+-------------+------------------+------------------+-------------------+\n",
      "\n"
     ]
    },
    {
     "name": "stderr",
     "output_type": "stream",
     "text": [
      "                                                                                \r"
     ]
    }
   ],
   "source": [
    "fact_df.describe().show()"
   ]
  },
  {
   "cell_type": "code",
   "execution_count": 18,
   "id": "2fadd141",
   "metadata": {},
   "outputs": [],
   "source": [
    "# add primary key and foreign key to the dataframes\n",
    "new_status_dim_df = status_dim_df.distinct().withColumn(\"status_id\", monotonically_increasing_id())\n",
    "\n",
    "# join dataframes on foreign key and primary key\n",
    "fact_status_df = fact_df.join(new_status_dim_df, fact_df.status == new_status_dim_df.status, \"inner\")\\\n",
    ".select(fact_df[\"*\"], new_status_dim_df[\"status_id\"])"
   ]
  },
  {
   "cell_type": "code",
   "execution_count": 19,
   "id": "687dd7c3",
   "metadata": {},
   "outputs": [
    {
     "name": "stderr",
     "output_type": "stream",
     "text": [
      "                                                                                \r"
     ]
    },
    {
     "data": {
      "text/plain": [
       "10365152"
      ]
     },
     "execution_count": 19,
     "metadata": {},
     "output_type": "execute_result"
    }
   ],
   "source": [
    "fact_status_df.count()"
   ]
  },
  {
   "cell_type": "code",
   "execution_count": 20,
   "id": "77c515a1",
   "metadata": {},
   "outputs": [
    {
     "name": "stderr",
     "output_type": "stream",
     "text": [
      "[Stage 45:=======================================================>(74 + 1) / 75]\r"
     ]
    },
    {
     "name": "stdout",
     "output_type": "stream",
     "text": [
      "+------+-------+\n",
      "|status|  count|\n",
      "+------+-------+\n",
      "|   206|      3|\n",
      "|   500|  14266|\n",
      "|   504|    103|\n",
      "|   502|    798|\n",
      "|   301|  67553|\n",
      "|   400|    586|\n",
      "|   403|   5634|\n",
      "|   404| 105011|\n",
      "|   408|    112|\n",
      "|   414|     17|\n",
      "|   200|9579825|\n",
      "|   304| 340228|\n",
      "|   499|  50852|\n",
      "|   302| 199835|\n",
      "|   405|      6|\n",
      "|   401|    323|\n",
      "+------+-------+\n",
      "\n"
     ]
    },
    {
     "name": "stderr",
     "output_type": "stream",
     "text": [
      "                                                                                \r"
     ]
    }
   ],
   "source": [
    "fact_status_df.groupBy('status').count().show()"
   ]
  },
  {
   "cell_type": "code",
   "execution_count": 21,
   "id": "29ecb403",
   "metadata": {},
   "outputs": [
    {
     "name": "stderr",
     "output_type": "stream",
     "text": [
      "                                                                                \r"
     ]
    },
    {
     "name": "stdout",
     "output_type": "stream",
     "text": [
      "+------+-------------+\n",
      "|status|    status_id|\n",
      "+------+-------------+\n",
      "|   206| 369367187456|\n",
      "|   500| 463856467968|\n",
      "|   504| 635655159808|\n",
      "|   502| 730144440320|\n",
      "|   301| 867583393792|\n",
      "|   400| 996432412672|\n",
      "|   403|1030792151040|\n",
      "|   404|1073741824000|\n",
      "|   408|1168231104512|\n",
      "|   414|1314259992576|\n",
      "|   200|1331439861760|\n",
      "|   304|1374389534720|\n",
      "|   499|1477468749824|\n",
      "|   302|1563368095744|\n",
      "|   405|1571958030336|\n",
      "|   401|1709396983808|\n",
      "+------+-------------+\n",
      "\n"
     ]
    }
   ],
   "source": [
    "new_status_dim_df.show()"
   ]
  },
  {
   "cell_type": "code",
   "execution_count": 22,
   "id": "f9220bf0",
   "metadata": {},
   "outputs": [
    {
     "name": "stderr",
     "output_type": "stream",
     "text": [
      "                                                                                \r"
     ]
    },
    {
     "name": "stdout",
     "output_type": "stream",
     "text": [
      "+---------------+--------+------+--------------------+------------+\n",
      "|             ip|    size|status|                  OS|   status_id|\n",
      "+---------------+--------+------+--------------------+------------+\n",
      "| 185.118.137.99|202772.0|   206|5.0 (Windows NT 6...|369367187456|\n",
      "| 87.107.218.136|    64.0|   206|4.0 (compatible; ...|369367187456|\n",
      "| 87.107.218.136|    64.0|   206|4.0 (compatible; ...|369367187456|\n",
      "|151.239.241.163|   857.0|   500|5.0 (Windows NT 6...|463856467968|\n",
      "|    91.99.30.32|   775.0|   500|5.0 (Windows NT 1...|463856467968|\n",
      "|  134.19.177.20| 34560.0|   500|5.0 (Macintosh; I...|463856467968|\n",
      "|   2.190.144.28| 34197.0|   500|5.0 (Windows NT 1...|463856467968|\n",
      "|151.239.241.163| 35111.0|   500|5.0 (Windows NT 6...|463856467968|\n",
      "|151.239.241.163| 35111.0|   500|5.0 (Windows NT 6...|463856467968|\n",
      "|  85.133.238.88|    31.0|   500|5.0 (Windows NT 1...|463856467968|\n",
      "|    91.99.47.57| 35203.0|   500|5.0 (Windows NT 1...|463856467968|\n",
      "|    91.99.47.57| 34011.0|   500|5.0 (Windows NT 1...|463856467968|\n",
      "|   81.29.241.79|     0.0|   500|5.0 (Windows NT 6...|463856467968|\n",
      "|    91.99.47.57| 35203.0|   500|5.0 (Windows NT 1...|463856467968|\n",
      "|151.239.241.163| 33768.0|   500|5.0 (Windows NT 6...|463856467968|\n",
      "|   65.49.68.183| 35003.0|   500|5.0 (Windows NT 1...|463856467968|\n",
      "|   65.49.68.183| 34967.0|   500|5.0 (Windows NT 1...|463856467968|\n",
      "|   65.49.68.183| 35025.0|   500|5.0 (Windows NT 1...|463856467968|\n",
      "| 46.100.170.226|    31.0|   500|5.0 (Windows NT 6...|463856467968|\n",
      "|  5.117.116.238| 34987.0|   500|5.0 (Windows NT 6...|463856467968|\n",
      "+---------------+--------+------+--------------------+------------+\n",
      "only showing top 20 rows\n",
      "\n"
     ]
    }
   ],
   "source": [
    "fact_status_df.show()"
   ]
  },
  {
   "cell_type": "code",
   "execution_count": 23,
   "id": "45df6c23",
   "metadata": {},
   "outputs": [
    {
     "name": "stderr",
     "output_type": "stream",
     "text": [
      "                                                                                \r"
     ]
    },
    {
     "data": {
      "text/plain": [
       "10365152"
      ]
     },
     "execution_count": 23,
     "metadata": {},
     "output_type": "execute_result"
    }
   ],
   "source": [
    "fact_status_df.count()"
   ]
  },
  {
   "cell_type": "code",
   "execution_count": 24,
   "id": "c152b5a7",
   "metadata": {},
   "outputs": [],
   "source": [
    "##final_fact_status_df = fact_status_df.drop('status')\n",
    "final_fact_status_df = fact_status_df"
   ]
  },
  {
   "cell_type": "code",
   "execution_count": 25,
   "id": "588eeb07",
   "metadata": {},
   "outputs": [],
   "source": [
    "result_join_df = final_fact_status_df.join(new_status_dim_df,on=[final_fact_status_df.status_id == new_status_dim_df.status_id])"
   ]
  },
  {
   "cell_type": "code",
   "execution_count": 26,
   "id": "ea72909a",
   "metadata": {},
   "outputs": [
    {
     "name": "stderr",
     "output_type": "stream",
     "text": [
      "                                                                                \r"
     ]
    },
    {
     "name": "stdout",
     "output_type": "stream",
     "text": [
      "+---------------+----+------+--------------------+-------------+------+-------------+\n",
      "|             ip|size|status|                  OS|    status_id|status|    status_id|\n",
      "+---------------+----+------+--------------------+-------------+------+-------------+\n",
      "| 94.183.129.254| 0.0|   302|5.0 (Windows NT 6...|1563368095744|   302|1563368095744|\n",
      "|  66.249.66.194| 0.0|   302|5.0 (compatible; ...|1563368095744|   302|1563368095744|\n",
      "| 217.218.130.15| 0.0|   302|5.0 (Windows NT 6...|1563368095744|   302|1563368095744|\n",
      "|  66.249.66.194| 0.0|   302|5.0 (compatible; ...|1563368095744|   302|1563368095744|\n",
      "| 188.210.123.38| 0.0|   302|5.0 (Linux; Andro...|1563368095744|   302|1563368095744|\n",
      "|  66.249.66.194| 0.0|   302|5.0 (compatible; ...|1563368095744|   302|1563368095744|\n",
      "|     5.120.94.5| 0.0|   302|5.0 (Android 8.0....|1563368095744|   302|1563368095744|\n",
      "|  66.249.66.194| 0.0|   302|5.0 (compatible; ...|1563368095744|   302|1563368095744|\n",
      "|   54.36.149.82| 0.0|   302|5.0 (compatible; ...|1563368095744|   302|1563368095744|\n",
      "|    91.99.30.32| 0.0|   302|5.0 (Windows NT 1...|1563368095744|   302|1563368095744|\n",
      "|   17.58.102.43| 0.0|   302|5.0 (Macintosh; I...|1563368095744|   302|1563368095744|\n",
      "|151.239.241.163| 0.0|   302|5.0 (Windows NT 1...|1563368095744|   302|1563368095744|\n",
      "|  66.249.66.194| 0.0|   302|5.0 (Linux; Andro...|1563368095744|   302|1563368095744|\n",
      "|  66.249.66.194| 0.0|   302|5.0 (Linux; Andro...|1563368095744|   302|1563368095744|\n",
      "|    5.52.99.254| 0.0|   302|5.0 (Windows NT 6...|1563368095744|   302|1563368095744|\n",
      "|   158.58.63.52| 0.0|   302|5.0 (Linux; Andro...|1563368095744|   302|1563368095744|\n",
      "|    31.58.23.77| 0.0|   302|5.0 (Linux; Andro...|1563368095744|   302|1563368095744|\n",
      "| 213.176.123.87| 0.0|   302|5.0 (Windows NT 6...|1563368095744|   302|1563368095744|\n",
      "|  66.249.66.194| 0.0|   302|5.0 (compatible; ...|1563368095744|   302|1563368095744|\n",
      "|    91.99.30.32| 0.0|   302|5.0 (Windows NT 1...|1563368095744|   302|1563368095744|\n",
      "+---------------+----+------+--------------------+-------------+------+-------------+\n",
      "only showing top 20 rows\n",
      "\n"
     ]
    }
   ],
   "source": [
    "result_join_df.show()"
   ]
  },
  {
   "cell_type": "raw",
   "id": "9bcc2bde",
   "metadata": {},
   "source": [
    "result_join_df.describe().toPandas().transpose()"
   ]
  },
  {
   "cell_type": "code",
   "execution_count": null,
   "id": "7a2546a6",
   "metadata": {},
   "outputs": [],
   "source": []
  },
  {
   "cell_type": "code",
   "execution_count": null,
   "id": "1aeee89e",
   "metadata": {},
   "outputs": [],
   "source": []
  },
  {
   "cell_type": "code",
   "execution_count": 27,
   "id": "a55ad05b",
   "metadata": {},
   "outputs": [],
   "source": [
    "# split dataframe into OS Dim\n",
    "OS_dim_df = log_df.select(\"OS\").withColumn('OS',col('OS').cast(StringType())).dropna()"
   ]
  },
  {
   "cell_type": "code",
   "execution_count": 28,
   "id": "24cd331e",
   "metadata": {},
   "outputs": [
    {
     "name": "stdout",
     "output_type": "stream",
     "text": [
      "root\n",
      " |-- OS: string (nullable = true)\n",
      "\n"
     ]
    }
   ],
   "source": [
    "OS_dim_df.printSchema()"
   ]
  },
  {
   "cell_type": "code",
   "execution_count": 29,
   "id": "af87a1f9",
   "metadata": {},
   "outputs": [
    {
     "name": "stderr",
     "output_type": "stream",
     "text": [
      "                                                                                \r"
     ]
    },
    {
     "data": {
      "text/plain": [
       "10365152"
      ]
     },
     "execution_count": 29,
     "metadata": {},
     "output_type": "execute_result"
    }
   ],
   "source": [
    "OS_dim_df.count()"
   ]
  },
  {
   "cell_type": "code",
   "execution_count": 30,
   "id": "c44c8fed",
   "metadata": {},
   "outputs": [
    {
     "name": "stderr",
     "output_type": "stream",
     "text": [
      "[Stage 112:===================================================>   (56 + 4) / 60]\r"
     ]
    },
    {
     "name": "stdout",
     "output_type": "stream",
     "text": [
      "+-------+-------------------+\n",
      "|summary|                 OS|\n",
      "+-------+-------------------+\n",
      "|  count|           10365152|\n",
      "|   mean|  5.008038585209003|\n",
      "| stddev|0.08933298077682741|\n",
      "|    min|                   |\n",
      "|    max|                6.0|\n",
      "+-------+-------------------+\n",
      "\n"
     ]
    },
    {
     "name": "stderr",
     "output_type": "stream",
     "text": [
      "                                                                                \r"
     ]
    }
   ],
   "source": [
    "OS_dim_df.describe().show()"
   ]
  },
  {
   "cell_type": "code",
   "execution_count": 31,
   "id": "b0341843",
   "metadata": {},
   "outputs": [],
   "source": [
    "# add primary key and foreign key to the dataframes\n",
    "new_OS_dim_df = OS_dim_df.distinct().withColumn(\"OS_id\", monotonically_increasing_id())\n",
    "\n",
    "# join dataframes on foreign key and primary key\n",
    "fact_status_OS_df = final_fact_status_df.join(new_OS_dim_df, final_fact_status_df.OS == new_OS_dim_df.OS, \"inner\")\\\n",
    ".select(final_fact_status_df[\"*\"], new_OS_dim_df[\"OS_id\"])"
   ]
  },
  {
   "cell_type": "code",
   "execution_count": 32,
   "id": "0641b175",
   "metadata": {},
   "outputs": [
    {
     "name": "stderr",
     "output_type": "stream",
     "text": [
      "                                                                                \r"
     ]
    },
    {
     "data": {
      "text/plain": [
       "10365152"
      ]
     },
     "execution_count": 32,
     "metadata": {},
     "output_type": "execute_result"
    }
   ],
   "source": [
    "fact_status_OS_df.count()"
   ]
  },
  {
   "cell_type": "code",
   "execution_count": 33,
   "id": "ba296cb1",
   "metadata": {},
   "outputs": [
    {
     "name": "stderr",
     "output_type": "stream",
     "text": [
      "[Stage 129:=====================================================> (58 + 2) / 60]\r"
     ]
    },
    {
     "name": "stdout",
     "output_type": "stream",
     "text": [
      "+--------------------+-----+\n",
      "|                  OS|count|\n",
      "+--------------------+-----+\n",
      "|5.0 (Android 4.2....|  122|\n",
      "|5.0 (Android 4.4....|   89|\n",
      "|5.0 (Android 4.4....|   12|\n",
      "|5.0 (Android 4.4....| 1287|\n",
      "|5.0 (Android 7.0;...|   27|\n",
      "|5.0 (BB10; Touch)...|    1|\n",
      "|5.0 (Linux; Andro...|  249|\n",
      "|5.0 (Linux; Andro...|    2|\n",
      "|5.0 (Linux; Andro...|   19|\n",
      "|5.0 (Linux; Andro...|   95|\n",
      "|5.0 (Linux; Andro...|    1|\n",
      "|5.0 (Linux; Andro...|   31|\n",
      "|5.0 (Linux; Andro...|   34|\n",
      "|5.0 (Linux; Andro...|    2|\n",
      "|5.0 (Linux; Andro...|    1|\n",
      "|5.0 (Linux; Andro...|   77|\n",
      "|5.0 (Linux; Andro...|    1|\n",
      "|5.0 (Linux; Andro...|   41|\n",
      "|5.0 (Linux; Andro...|   37|\n",
      "|5.0 (Linux; Andro...|   37|\n",
      "+--------------------+-----+\n",
      "only showing top 20 rows\n",
      "\n"
     ]
    },
    {
     "name": "stderr",
     "output_type": "stream",
     "text": [
      "                                                                                \r"
     ]
    }
   ],
   "source": [
    "fact_status_OS_df.groupBy('OS').count().show()"
   ]
  },
  {
   "cell_type": "code",
   "execution_count": 34,
   "id": "c5c760b9",
   "metadata": {},
   "outputs": [
    {
     "name": "stderr",
     "output_type": "stream",
     "text": [
      "[Stage 132:===================================================>   (56 + 4) / 60]\r"
     ]
    },
    {
     "name": "stdout",
     "output_type": "stream",
     "text": [
      "+--------------------+-----+\n",
      "|                  OS|OS_id|\n",
      "+--------------------+-----+\n",
      "|5.0 (Linux; Andro...|    0|\n",
      "|5.0 (Linux; Andro...|    1|\n",
      "|5.0 (Windows NT 6...|    2|\n",
      "|5.0 (Android 4.4....|    3|\n",
      "|5.0 (Windows NT 6...|    4|\n",
      "|5.0 (Linux; Andro...|    5|\n",
      "|5.0 (Linux; Andro...|    6|\n",
      "|5.0 (Linux; Andro...|    7|\n",
      "|5.0 (Windows NT 6...|    8|\n",
      "|5.0 (Linux; Andro...|    9|\n",
      "|5.0 (Android 4.4....|   10|\n",
      "|5.0 (Linux; Andro...|   11|\n",
      "|5.0 (Linux; Andro...|   12|\n",
      "|5.0 (iPhone; CPU ...|   13|\n",
      "|5.0 (Linux; Andro...|   14|\n",
      "|5.0 (Linux; Andro...|   15|\n",
      "|5.0 (Linux; Andro...|   16|\n",
      "|5.0 (Android 4.2....|   17|\n",
      "|5.0 (iPhone; CPU ...|   18|\n",
      "|5.0 (Linux; Andro...|   19|\n",
      "+--------------------+-----+\n",
      "only showing top 20 rows\n",
      "\n"
     ]
    },
    {
     "name": "stderr",
     "output_type": "stream",
     "text": [
      "                                                                                \r"
     ]
    }
   ],
   "source": [
    "new_OS_dim_df.show()"
   ]
  },
  {
   "cell_type": "code",
   "execution_count": 35,
   "id": "a66fee2c",
   "metadata": {},
   "outputs": [
    {
     "name": "stderr",
     "output_type": "stream",
     "text": [
      "[Stage 140:====================================================>(199 + 1) / 200]\r"
     ]
    },
    {
     "name": "stdout",
     "output_type": "stream",
     "text": [
      "+-------------+-------+------+--------------------+-------------+-----+\n",
      "|           ip|   size|status|                  OS|    status_id|OS_id|\n",
      "+-------------+-------+------+--------------------+-------------+-----+\n",
      "|37.137.254.94|    0.0|   302|5.0 (Android 4.2....|1563368095744|   21|\n",
      "|37.137.120.56|28536.0|   200|5.0 (Android 4.2....|1331439861760|   21|\n",
      "|37.137.120.56| 5299.0|   200|5.0 (Android 4.2....|1331439861760|   21|\n",
      "|37.137.254.94| 7146.0|   200|5.0 (Android 4.2....|1331439861760|   21|\n",
      "|37.137.120.56|65152.0|   200|5.0 (Android 4.2....|1331439861760|   21|\n",
      "|37.137.120.56|15848.0|   200|5.0 (Android 4.2....|1331439861760|   21|\n",
      "|37.137.120.56|28536.0|   200|5.0 (Android 4.2....|1331439861760|   21|\n",
      "| 93.114.26.83|16801.0|   200|5.0 (Android 4.2....|1331439861760|   21|\n",
      "|37.137.120.56|16228.0|   200|5.0 (Android 4.2....|1331439861760|   21|\n",
      "|37.137.120.56| 4401.0|   200|5.0 (Android 4.2....|1331439861760|   21|\n",
      "|37.137.120.56|19182.0|   200|5.0 (Android 4.2....|1331439861760|   21|\n",
      "|37.137.120.56|16901.0|   200|5.0 (Android 4.2....|1331439861760|   21|\n",
      "|37.137.120.56| 5348.0|   200|5.0 (Android 4.2....|1331439861760|   21|\n",
      "|37.137.120.56| 3986.0|   200|5.0 (Android 4.2....|1331439861760|   21|\n",
      "|37.137.120.56| 7713.0|   200|5.0 (Android 4.2....|1331439861760|   21|\n",
      "|37.137.120.56| 7146.0|   200|5.0 (Android 4.2....|1331439861760|   21|\n",
      "|37.137.120.56|17339.0|   200|5.0 (Android 4.2....|1331439861760|   21|\n",
      "| 93.114.26.83| 4859.0|   200|5.0 (Android 4.2....|1331439861760|   21|\n",
      "|37.137.120.56| 4336.0|   200|5.0 (Android 4.2....|1331439861760|   21|\n",
      "|37.137.120.56|19168.0|   200|5.0 (Android 4.2....|1331439861760|   21|\n",
      "+-------------+-------+------+--------------------+-------------+-----+\n",
      "only showing top 20 rows\n",
      "\n"
     ]
    },
    {
     "name": "stderr",
     "output_type": "stream",
     "text": [
      "                                                                                \r"
     ]
    }
   ],
   "source": [
    "fact_status_OS_df.show()"
   ]
  },
  {
   "cell_type": "code",
   "execution_count": 36,
   "id": "245f1c3e",
   "metadata": {},
   "outputs": [
    {
     "name": "stderr",
     "output_type": "stream",
     "text": [
      "                                                                                \r"
     ]
    },
    {
     "data": {
      "text/plain": [
       "10365152"
      ]
     },
     "execution_count": 36,
     "metadata": {},
     "output_type": "execute_result"
    }
   ],
   "source": [
    "fact_status_OS_df.count()"
   ]
  },
  {
   "cell_type": "code",
   "execution_count": 37,
   "id": "3957d173",
   "metadata": {},
   "outputs": [],
   "source": [
    "##final_fact_status_OS_df = fact_status_OS_df.drop('OS')\n",
    "final_fact_status_OS_df = fact_status_OS_df"
   ]
  },
  {
   "cell_type": "code",
   "execution_count": 38,
   "id": "45aa9731",
   "metadata": {},
   "outputs": [
    {
     "data": {
      "text/plain": [
       "DataFrame[ip: string, size: float, status: int, OS: string, status_id: bigint, OS_id: bigint]"
      ]
     },
     "execution_count": 38,
     "metadata": {},
     "output_type": "execute_result"
    }
   ],
   "source": [
    "final_fact_status_OS_df"
   ]
  },
  {
   "cell_type": "code",
   "execution_count": 43,
   "id": "c288202e",
   "metadata": {},
   "outputs": [],
   "source": [
    "result_join_df = final_fact_status_OS_df.join(new_OS_dim_df,on=[final_fact_status_OS_df.OS_id == new_OS_dim_df.OS_id])\\\n",
    ".join(new_status_dim_df,on=[final_fact_status_OS_df.status_id == new_status_dim_df.status_id])"
   ]
  },
  {
   "cell_type": "code",
   "execution_count": 44,
   "id": "0cb02665",
   "metadata": {},
   "outputs": [
    {
     "name": "stderr",
     "output_type": "stream",
     "text": [
      "[Stage 182:==============================================>      (174 + 4) / 200]\r"
     ]
    },
    {
     "name": "stdout",
     "output_type": "stream",
     "text": [
      "+--------------+----+------+--------------------+-------------+------------+--------------------+------------+------+-------------+\n",
      "|            ip|size|status|                  OS|    status_id|       OS_id|                  OS|       OS_id|status|    status_id|\n",
      "+--------------+----+------+--------------------+-------------+------------+--------------------+------------+------+-------------+\n",
      "|   5.115.55.98| 0.0|   302|5.0 (iPad; CPU OS...|1563368095744| 34359738398|5.0 (Linux; Andro...| 34359738398|   302|1563368095744|\n",
      "|   5.115.55.98| 0.0|   302|5.0 (iPad; CPU OS...|1563368095744| 34359738398|5.0 (Linux; Andro...| 34359738398|   302|1563368095744|\n",
      "|87.107.180.197| 0.0|   302|5.0 (Linux; Andro...|1563368095744| 68719476798|5.0 (Linux; U; An...| 68719476798|   302|1563368095744|\n",
      "|   5.117.36.58| 0.0|   302|5.0 (Windows NT 5...|1563368095744|137438953476|5.0 (Windows NT 5...|137438953476|   302|1563368095744|\n",
      "| 91.108.156.93| 0.0|   302|5.0 (Windows NT 5...|1563368095744|137438953476|5.0 (Windows NT 5...|137438953476|   302|1563368095744|\n",
      "| 2.187.240.214| 0.0|   302|5.0 (Windows NT 5...|1563368095744|137438953476|5.0 (Windows NT 5...|137438953476|   302|1563368095744|\n",
      "| 2.187.240.214| 0.0|   302|5.0 (Windows NT 5...|1563368095744|137438953476|5.0 (Windows NT 5...|137438953476|   302|1563368095744|\n",
      "| 91.108.156.93| 0.0|   302|5.0 (Windows NT 5...|1563368095744|137438953476|5.0 (Windows NT 5...|137438953476|   302|1563368095744|\n",
      "|   5.117.36.58| 0.0|   302|5.0 (Windows NT 5...|1563368095744|137438953476|5.0 (Windows NT 5...|137438953476|   302|1563368095744|\n",
      "| 91.108.156.93| 0.0|   302|5.0 (Windows NT 5...|1563368095744|137438953476|5.0 (Windows NT 5...|137438953476|   302|1563368095744|\n",
      "| 91.108.156.93| 0.0|   302|5.0 (Windows NT 5...|1563368095744|137438953476|5.0 (Windows NT 5...|137438953476|   302|1563368095744|\n",
      "|    5.121.39.1| 0.0|   302|5.0 (Linux; Andro...|1563368095744|146028888066|5.0 (Linux; Andro...|146028888066|   302|1563368095744|\n",
      "|  54.36.111.66| 0.0|   302|5.0 (Linux; Andro...|1563368095744|146028888086|5.0 (Linux; Andro...|146028888086|   302|1563368095744|\n",
      "| 5.117.125.138| 0.0|   302|5.0 (Linux; Andro...|1563368095744|146028888086|5.0 (Linux; Andro...|146028888086|   302|1563368095744|\n",
      "|89.199.218.244| 0.0|   302|5.0 (Linux; Andro...|1563368095744|146028888086|5.0 (Linux; Andro...|146028888086|   302|1563368095744|\n",
      "| 5.236.176.204| 0.0|   302|5.0 (Linux; Andro...|1563368095744|206158430228|5.0 (Windows NT 6...|206158430228|   302|1563368095744|\n",
      "|   2.181.229.9| 0.0|   302|5.0 (Linux; Andro...|1563368095744|206158430228|5.0 (Windows NT 6...|206158430228|   302|1563368095744|\n",
      "| 37.137.44.190| 0.0|   302|5.0 (Linux; Andro...|1563368095744|206158430228|5.0 (Windows NT 6...|206158430228|   302|1563368095744|\n",
      "| 92.242.196.46| 0.0|   302|5.0 (Linux; Andro...|1563368095744|206158430228|5.0 (Windows NT 6...|206158430228|   302|1563368095744|\n",
      "| 92.242.196.46| 0.0|   302|5.0 (Linux; Andro...|1563368095744|206158430228|5.0 (Windows NT 6...|206158430228|   302|1563368095744|\n",
      "+--------------+----+------+--------------------+-------------+------------+--------------------+------------+------+-------------+\n",
      "only showing top 20 rows\n",
      "\n"
     ]
    },
    {
     "name": "stderr",
     "output_type": "stream",
     "text": [
      "                                                                                \r"
     ]
    }
   ],
   "source": [
    "result_join_df.show()"
   ]
  },
  {
   "cell_type": "code",
   "execution_count": 45,
   "id": "8e25ef69",
   "metadata": {},
   "outputs": [
    {
     "name": "stderr",
     "output_type": "stream",
     "text": [
      "                                                                                \r"
     ]
    },
    {
     "data": {
      "text/html": [
       "<div>\n",
       "<style scoped>\n",
       "    .dataframe tbody tr th:only-of-type {\n",
       "        vertical-align: middle;\n",
       "    }\n",
       "\n",
       "    .dataframe tbody tr th {\n",
       "        vertical-align: top;\n",
       "    }\n",
       "\n",
       "    .dataframe thead th {\n",
       "        text-align: right;\n",
       "    }\n",
       "</style>\n",
       "<table border=\"1\" class=\"dataframe\">\n",
       "  <thead>\n",
       "    <tr style=\"text-align: right;\">\n",
       "      <th></th>\n",
       "      <th>0</th>\n",
       "      <th>1</th>\n",
       "      <th>2</th>\n",
       "      <th>3</th>\n",
       "      <th>4</th>\n",
       "    </tr>\n",
       "  </thead>\n",
       "  <tbody>\n",
       "    <tr>\n",
       "      <th>summary</th>\n",
       "      <td>count</td>\n",
       "      <td>mean</td>\n",
       "      <td>stddev</td>\n",
       "      <td>min</td>\n",
       "      <td>max</td>\n",
       "    </tr>\n",
       "    <tr>\n",
       "      <th>ip</th>\n",
       "      <td>10365152</td>\n",
       "      <td>None</td>\n",
       "      <td>None</td>\n",
       "      <td>1.132.107.223</td>\n",
       "      <td>99.99.188.195</td>\n",
       "    </tr>\n",
       "    <tr>\n",
       "      <th>size</th>\n",
       "      <td>10365152</td>\n",
       "      <td>12433.109789996326</td>\n",
       "      <td>28126.54453953264</td>\n",
       "      <td>0.0</td>\n",
       "      <td>1249490.0</td>\n",
       "    </tr>\n",
       "    <tr>\n",
       "      <th>status</th>\n",
       "      <td>10365152</td>\n",
       "      <td>210.14194890726156</td>\n",
       "      <td>39.21424239699265</td>\n",
       "      <td>200</td>\n",
       "      <td>504</td>\n",
       "    </tr>\n",
       "    <tr>\n",
       "      <th>OS</th>\n",
       "      <td>10365152</td>\n",
       "      <td>5.008038585209003</td>\n",
       "      <td>0.08933298077682761</td>\n",
       "      <td></td>\n",
       "      <td>6.0</td>\n",
       "    </tr>\n",
       "    <tr>\n",
       "      <th>status_id</th>\n",
       "      <td>10365152</td>\n",
       "      <td>1.3309838485853755E12</td>\n",
       "      <td>6.637947915909843E10</td>\n",
       "      <td>369367187456</td>\n",
       "      <td>1709396983808</td>\n",
       "    </tr>\n",
       "    <tr>\n",
       "      <th>OS_id</th>\n",
       "      <td>10365152</td>\n",
       "      <td>9.590687921232532E11</td>\n",
       "      <td>4.681975036953393E11</td>\n",
       "      <td>0</td>\n",
       "      <td>1709396983933</td>\n",
       "    </tr>\n",
       "    <tr>\n",
       "      <th>OS</th>\n",
       "      <td>10365152</td>\n",
       "      <td>5.042194092827004</td>\n",
       "      <td>0.20145718172021673</td>\n",
       "      <td></td>\n",
       "      <td>6.0</td>\n",
       "    </tr>\n",
       "    <tr>\n",
       "      <th>OS_id</th>\n",
       "      <td>10365152</td>\n",
       "      <td>9.590687921232532E11</td>\n",
       "      <td>4.681975036953393E11</td>\n",
       "      <td>0</td>\n",
       "      <td>1709396983933</td>\n",
       "    </tr>\n",
       "    <tr>\n",
       "      <th>status</th>\n",
       "      <td>10365152</td>\n",
       "      <td>210.14194890726156</td>\n",
       "      <td>39.21424239699265</td>\n",
       "      <td>200</td>\n",
       "      <td>504</td>\n",
       "    </tr>\n",
       "    <tr>\n",
       "      <th>status_id</th>\n",
       "      <td>10365152</td>\n",
       "      <td>1.3309838485853755E12</td>\n",
       "      <td>6.637947915909843E10</td>\n",
       "      <td>369367187456</td>\n",
       "      <td>1709396983808</td>\n",
       "    </tr>\n",
       "  </tbody>\n",
       "</table>\n",
       "</div>"
      ],
      "text/plain": [
       "                  0                      1                     2  \\\n",
       "summary       count                   mean                stddev   \n",
       "ip         10365152                   None                  None   \n",
       "size       10365152     12433.109789996326     28126.54453953264   \n",
       "status     10365152     210.14194890726156     39.21424239699265   \n",
       "OS         10365152      5.008038585209003   0.08933298077682761   \n",
       "status_id  10365152  1.3309838485853755E12  6.637947915909843E10   \n",
       "OS_id      10365152   9.590687921232532E11  4.681975036953393E11   \n",
       "OS         10365152      5.042194092827004   0.20145718172021673   \n",
       "OS_id      10365152   9.590687921232532E11  4.681975036953393E11   \n",
       "status     10365152     210.14194890726156     39.21424239699265   \n",
       "status_id  10365152  1.3309838485853755E12  6.637947915909843E10   \n",
       "\n",
       "                       3              4  \n",
       "summary              min            max  \n",
       "ip         1.132.107.223  99.99.188.195  \n",
       "size                 0.0      1249490.0  \n",
       "status               200            504  \n",
       "OS                                  6.0  \n",
       "status_id   369367187456  1709396983808  \n",
       "OS_id                  0  1709396983933  \n",
       "OS                                  6.0  \n",
       "OS_id                  0  1709396983933  \n",
       "status               200            504  \n",
       "status_id   369367187456  1709396983808  "
      ]
     },
     "execution_count": 45,
     "metadata": {},
     "output_type": "execute_result"
    }
   ],
   "source": [
    "result_join_df.describe().toPandas().transpose()"
   ]
  },
  {
   "cell_type": "code",
   "execution_count": null,
   "id": "78877385",
   "metadata": {},
   "outputs": [],
   "source": []
  },
  {
   "cell_type": "code",
   "execution_count": null,
   "id": "365eb716",
   "metadata": {},
   "outputs": [],
   "source": []
  }
 ],
 "metadata": {
  "kernelspec": {
   "display_name": "Python 3 (ipykernel)",
   "language": "python",
   "name": "python3"
  },
  "language_info": {
   "codemirror_mode": {
    "name": "ipython",
    "version": 3
   },
   "file_extension": ".py",
   "mimetype": "text/x-python",
   "name": "python",
   "nbconvert_exporter": "python",
   "pygments_lexer": "ipython3",
   "version": "3.9.2"
  }
 },
 "nbformat": 4,
 "nbformat_minor": 5
}
