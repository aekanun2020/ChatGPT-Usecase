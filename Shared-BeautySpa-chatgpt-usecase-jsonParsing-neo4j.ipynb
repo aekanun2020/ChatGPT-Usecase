{
 "cells": [
  {
   "cell_type": "code",
   "execution_count": 1,
   "id": "9650ae3f",
   "metadata": {},
   "outputs": [],
   "source": [
    "# document of connector: https://neo4j.com/docs/spark/4.1/writing/#strategies\n",
    "# description of dataset: https://www.yelp.com/dataset/documentation/main"
   ]
  },
  {
   "cell_type": "code",
   "execution_count": 2,
   "id": "1d84d2f4",
   "metadata": {},
   "outputs": [],
   "source": [
    "filterCategories = 'Beauty & Spas'"
   ]
  },
  {
   "cell_type": "code",
   "execution_count": 3,
   "id": "44c04431",
   "metadata": {},
   "outputs": [],
   "source": [
    "#! wget https://repo1.maven.org/maven2/org/neo4j/neo4j-connector-apache-spark_2.12/4.1.5_for_spark_3/neo4j-connector-apache-spark_2.12-4.1.5_for_spark_3.jar"
   ]
  },
  {
   "cell_type": "code",
   "execution_count": 5,
   "id": "4fa57a74",
   "metadata": {},
   "outputs": [
    {
     "name": "stderr",
     "output_type": "stream",
     "text": [
      "23/02/15 13:19:05 WARN NativeCodeLoader: Unable to load native-hadoop library for your platform... using builtin-java classes where applicable\n",
      "Using Spark's default log4j profile: org/apache/spark/log4j-defaults.properties\n",
      "Setting default log level to \"WARN\".\n",
      "To adjust logging level use sc.setLogLevel(newLevel). For SparkR, use setLogLevel(newLevel).\n"
     ]
    }
   ],
   "source": [
    "from pyspark.sql import SparkSession\n",
    "\n",
    "spark = SparkSession.\\\n",
    "        builder.\\\n",
    "        appName(\"จาก raw data สู่ Disk\").\\\n",
    "        master(\"spark://spark-master:7077\").\\\n",
    "        config(\"spark.executor.memory\", \"2000m\").\\\n",
    "        config(\"spark.executor.cores\", \"2\").\\\n",
    "        config(\"spark.cores.max\", \"6\").\\\n",
    "        config('spark.jars', 'neo4j-connector-apache-spark_2.12-4.1.5_for_spark_3.jar').\\\n",
    "        getOrCreate()"
   ]
  },
  {
   "cell_type": "code",
   "execution_count": 6,
   "id": "1e60b879",
   "metadata": {},
   "outputs": [],
   "source": [
    "from pyspark.sql.functions import explode\n",
    "from pyspark.sql.types import StructType, StructField, StringType, MapType\n",
    "\n",
    "# Define the schema for the dataframe\n",
    "df_schema = StructType([\n",
    "\tStructField(\"business_id\", StringType(), True),\n",
    "\tStructField(\"name\", StringType(), True),\n",
    "\tStructField(\"address\", StringType(), True),\n",
    "\tStructField(\"city\", StringType(), True),\n",
    "\tStructField(\"state\", StringType(), True),\n",
    "\tStructField(\"postal_code\", StringType(), True),\n",
    "\tStructField(\"latitude\", StringType(), True),\n",
    "\tStructField(\"longitude\", StringType(), True),\n",
    "\tStructField(\"stars\", StringType(), True),\n",
    "\tStructField(\"review_count\", StringType(), True),\n",
    "\tStructField(\"is_open\", StringType(), True),\n",
    "\tStructField(\"attributes\", MapType(StringType(), StringType()), True),\n",
    "\tStructField(\"categories\", StringType(), True),\n",
    "\tStructField(\"hours\", MapType(StringType(), StringType()), True)\n",
    "])\n"
   ]
  },
  {
   "cell_type": "code",
   "execution_count": 7,
   "id": "4af0a7c0",
   "metadata": {},
   "outputs": [],
   "source": [
    "df = spark.read.json('yelp_academic_dataset_business.json', schema=df_schema).sample(0.3)\n",
    "#df = spark.read.json('yelp_academic_dataset_business.json', schema=df_schema)"
   ]
  },
  {
   "cell_type": "code",
   "execution_count": 8,
   "id": "0cfa554e",
   "metadata": {},
   "outputs": [
    {
     "name": "stdout",
     "output_type": "stream",
     "text": [
      "root\n",
      " |-- business_id: string (nullable = true)\n",
      " |-- name: string (nullable = true)\n",
      " |-- address: string (nullable = true)\n",
      " |-- city: string (nullable = true)\n",
      " |-- state: string (nullable = true)\n",
      " |-- postal_code: string (nullable = true)\n",
      " |-- latitude: string (nullable = true)\n",
      " |-- longitude: string (nullable = true)\n",
      " |-- stars: string (nullable = true)\n",
      " |-- review_count: string (nullable = true)\n",
      " |-- is_open: string (nullable = true)\n",
      " |-- attributes: map (nullable = true)\n",
      " |    |-- key: string\n",
      " |    |-- value: string (valueContainsNull = true)\n",
      " |-- categories: string (nullable = true)\n",
      " |-- hours: map (nullable = true)\n",
      " |    |-- key: string\n",
      " |    |-- value: string (valueContainsNull = true)\n",
      "\n"
     ]
    }
   ],
   "source": [
    "df.printSchema()"
   ]
  },
  {
   "cell_type": "code",
   "execution_count": 9,
   "id": "87583231",
   "metadata": {},
   "outputs": [],
   "source": [
    "from pyspark.sql.functions import split\n",
    "\n",
    "business_df = df.withColumn(\"categories_split\", split(df.categories, \", \"))"
   ]
  },
  {
   "cell_type": "code",
   "execution_count": 10,
   "id": "9394aee6",
   "metadata": {},
   "outputs": [
    {
     "name": "stderr",
     "output_type": "stream",
     "text": [
      "                                                                                \r"
     ]
    },
    {
     "data": {
      "text/plain": [
       "44920"
      ]
     },
     "execution_count": 10,
     "metadata": {},
     "output_type": "execute_result"
    }
   ],
   "source": [
    "business_df.count()"
   ]
  },
  {
   "cell_type": "code",
   "execution_count": 11,
   "id": "91645d7c",
   "metadata": {},
   "outputs": [
    {
     "name": "stdout",
     "output_type": "stream",
     "text": [
      "root\n",
      " |-- business_id: string (nullable = true)\n",
      " |-- name: string (nullable = true)\n",
      " |-- address: string (nullable = true)\n",
      " |-- city: string (nullable = true)\n",
      " |-- state: string (nullable = true)\n",
      " |-- postal_code: string (nullable = true)\n",
      " |-- latitude: string (nullable = true)\n",
      " |-- longitude: string (nullable = true)\n",
      " |-- stars: string (nullable = true)\n",
      " |-- review_count: string (nullable = true)\n",
      " |-- is_open: string (nullable = true)\n",
      " |-- attributes: map (nullable = true)\n",
      " |    |-- key: string\n",
      " |    |-- value: string (valueContainsNull = true)\n",
      " |-- categories: string (nullable = true)\n",
      " |-- hours: map (nullable = true)\n",
      " |    |-- key: string\n",
      " |    |-- value: string (valueContainsNull = true)\n",
      " |-- categories_split: array (nullable = true)\n",
      " |    |-- element: string (containsNull = true)\n",
      "\n"
     ]
    }
   ],
   "source": [
    "business_df.printSchema()"
   ]
  },
  {
   "cell_type": "code",
   "execution_count": 12,
   "id": "5acd3726",
   "metadata": {},
   "outputs": [],
   "source": [
    "from pyspark.sql import functions as sparkf"
   ]
  },
  {
   "cell_type": "code",
   "execution_count": 13,
   "id": "e4ab6386",
   "metadata": {},
   "outputs": [
    {
     "name": "stderr",
     "output_type": "stream",
     "text": [
      "                                                                                \r"
     ]
    },
    {
     "name": "stdout",
     "output_type": "stream",
     "text": [
      "+--------------------------+-----+\n",
      "|attrBusiness              |count|\n",
      "+--------------------------+-----+\n",
      "|BusinessAcceptsCreditCards|35845|\n",
      "|BusinessParking           |27243|\n",
      "|RestaurantsPriceRange2    |25534|\n",
      "|BikeParking               |21686|\n",
      "|RestaurantsTakeOut        |17828|\n",
      "|WiFi                      |17057|\n",
      "|RestaurantsDelivery       |16790|\n",
      "|GoodForKids               |15971|\n",
      "|OutdoorSeating            |14629|\n",
      "|RestaurantsReservations   |13578|\n",
      "|HasTV                     |13539|\n",
      "|Ambience                  |13294|\n",
      "|RestaurantsGoodForGroups  |13221|\n",
      "|Alcohol                   |12894|\n",
      "|ByAppointmentOnly         |12747|\n",
      "|Caters                    |12027|\n",
      "|RestaurantsAttire         |11772|\n",
      "|NoiseLevel                |11380|\n",
      "|GoodForMeal               |8797 |\n",
      "|WheelchairAccessible      |8753 |\n",
      "|RestaurantsTableService   |6150 |\n",
      "|DogsAllowed               |5441 |\n",
      "|BusinessAcceptsBitcoin    |5257 |\n",
      "|HappyHour                 |4578 |\n",
      "|DriveThru                 |2332 |\n",
      "|Music                     |2263 |\n",
      "|BestNights                |1733 |\n",
      "|AcceptsInsurance          |1659 |\n",
      "|CoatCheck                 |1655 |\n",
      "|GoodForDancing            |1412 |\n",
      "|BYOB                      |1370 |\n",
      "|Smoking                   |1347 |\n",
      "|Corkage                   |1081 |\n",
      "|BYOBCorkage               |427  |\n",
      "|HairSpecializesIn         |324  |\n",
      "|AgesAllowed               |43   |\n",
      "|Open24Hours               |16   |\n",
      "|DietaryRestrictions       |8    |\n",
      "|RestaurantsCounterService |1    |\n",
      "+--------------------------+-----+\n",
      "\n"
     ]
    }
   ],
   "source": [
    "business_df.select(\"business_id\", explode(\"attributes\").alias(\"attrBusiness\", \"attrValue\"))\\\n",
    ".groupBy('attrBusiness').count().orderBy('count',ascending=False).show(100,truncate=False)"
   ]
  },
  {
   "cell_type": "code",
   "execution_count": null,
   "id": "caa49e2d",
   "metadata": {},
   "outputs": [],
   "source": []
  },
  {
   "cell_type": "code",
   "execution_count": 14,
   "id": "2a08965a",
   "metadata": {},
   "outputs": [],
   "source": [
    "# Explode the nested attributes column\n",
    "attributesWiFi_df = business_df.select(\"business_id\", explode(\"attributes\").alias(\"attrBusiness\", \"attrValue\")).distinct().filter(sparkf.col('attrBusiness') == 'WiFi')\n",
    "\n",
    "# Join the two dataframes on business_id\n",
    "business_attributesWiFi_df = business_df.join(attributesWiFi_df, \"business_id\")\n"
   ]
  },
  {
   "cell_type": "code",
   "execution_count": 15,
   "id": "c52ac254",
   "metadata": {},
   "outputs": [
    {
     "data": {
      "text/plain": [
       "17057"
      ]
     },
     "execution_count": 15,
     "metadata": {},
     "output_type": "execute_result"
    }
   ],
   "source": [
    "business_attributesWiFi_df.count()"
   ]
  },
  {
   "cell_type": "code",
   "execution_count": 16,
   "id": "ba59b155",
   "metadata": {},
   "outputs": [
    {
     "name": "stderr",
     "output_type": "stream",
     "text": [
      "                                                                                \r"
     ]
    },
    {
     "name": "stdout",
     "output_type": "stream",
     "text": [
      "+---------+-----+\n",
      "|attrValue|count|\n",
      "+---------+-----+\n",
      "|     free|10357|\n",
      "|     paid|  181|\n",
      "|      N/A|   17|\n",
      "|       no| 6502|\n",
      "+---------+-----+\n",
      "\n"
     ]
    }
   ],
   "source": [
    "from pyspark.sql.functions import regexp_replace\n",
    "\n",
    "# Convert the values 'u'no'' and 'no' to 'no'\n",
    "business_attributesWiFi_df = business_attributesWiFi_df.withColumn(\"attrValue\", regexp_replace(business_attributesWiFi_df.attrValue, \"u'no'\", \"no\"))\n",
    "business_attributesWiFi_df = business_attributesWiFi_df.withColumn(\"attrValue\", regexp_replace(business_attributesWiFi_df.attrValue, \"'no'\", \"no\"))\n",
    "\n",
    "# Convert the values 'u'paid'' and 'paid' to 'paid'\n",
    "business_attributesWiFi_df = business_attributesWiFi_df.withColumn(\"attrValue\", regexp_replace(business_attributesWiFi_df.attrValue, \"u'paid'\", \"paid\"))\n",
    "business_attributesWiFi_df = business_attributesWiFi_df.withColumn(\"attrValue\", regexp_replace(business_attributesWiFi_df.attrValue, \"'paid'\", \"paid\"))\n",
    "\n",
    "# Convert the values 'u'free'' and 'free' to 'free'\n",
    "business_attributesWiFi_df = business_attributesWiFi_df.withColumn(\"attrValue\", regexp_replace(business_attributesWiFi_df.attrValue, \"u'free'\", \"free\"))\n",
    "business_attributesWiFi_df = business_attributesWiFi_df.withColumn(\"attrValue\", regexp_replace(business_attributesWiFi_df.attrValue, \"'free'\", \"free\"))\n",
    "\n",
    "#business_attributesWiFi_df = business_attributesWiFi_df.withColumn('attrValue',sparkf.when(sparkf.col('attrValue').isNull(),'N/A').otherwise(sparkf.col('attrValue')))\n",
    "\n",
    "business_attributesWiFi_df = business_attributesWiFi_df.withColumn('attrValue',sparkf.when(sparkf.col('attrValue') == 'None','N/A').otherwise(sparkf.col('attrValue')))\n",
    "\n",
    "# Show the resulting DataFrame\n",
    "business_attributesWiFi_df.groupBy('attrValue').count().show()\n"
   ]
  },
  {
   "cell_type": "code",
   "execution_count": 17,
   "id": "bc24bec4",
   "metadata": {},
   "outputs": [
    {
     "name": "stdout",
     "output_type": "stream",
     "text": [
      "+----------------------------------------------------+-----+\n",
      "|categories_split                                    |count|\n",
      "+----------------------------------------------------+-----+\n",
      "|[Restaurants, Chinese]                              |160  |\n",
      "|[Restaurants, Pizza]                                |158  |\n",
      "|[Food, Coffee & Tea]                                |156  |\n",
      "|[Restaurants, Mexican]                              |147  |\n",
      "|[Chinese, Restaurants]                              |143  |\n",
      "|[Coffee & Tea, Food]                                |132  |\n",
      "|[Pizza, Restaurants]                                |129  |\n",
      "|[Mexican, Restaurants]                              |125  |\n",
      "|[Event Planning & Services, Hotels, Hotels & Travel]|82   |\n",
      "|[Food, Ice Cream & Frozen Yogurt]                   |74   |\n",
      "|[Hotels, Hotels & Travel, Event Planning & Services]|70   |\n",
      "|[Event Planning & Services, Hotels & Travel, Hotels]|68   |\n",
      "|[Italian, Restaurants]                              |67   |\n",
      "|[Hotels & Travel, Hotels, Event Planning & Services]|67   |\n",
      "|[Hotels & Travel, Event Planning & Services, Hotels]|66   |\n",
      "|[Hotels, Event Planning & Services, Hotels & Travel]|64   |\n",
      "|[Ice Cream & Frozen Yogurt, Food]                   |62   |\n",
      "|[Restaurants, Italian]                              |57   |\n",
      "|[Beauty & Spas, Nail Salons]                        |49   |\n",
      "|[American (New), Restaurants]                       |47   |\n",
      "+----------------------------------------------------+-----+\n",
      "only showing top 20 rows\n",
      "\n"
     ]
    }
   ],
   "source": [
    "business_attributesWiFi_df.groupBy('categories_split').count()\\\n",
    ".orderBy('count',ascending=False).show(truncate=False)"
   ]
  },
  {
   "cell_type": "code",
   "execution_count": 18,
   "id": "dba7414e",
   "metadata": {},
   "outputs": [
    {
     "name": "stdout",
     "output_type": "stream",
     "text": [
      "root\n",
      " |-- business_id: string (nullable = true)\n",
      " |-- name: string (nullable = true)\n",
      " |-- address: string (nullable = true)\n",
      " |-- city: string (nullable = true)\n",
      " |-- state: string (nullable = true)\n",
      " |-- postal_code: string (nullable = true)\n",
      " |-- latitude: string (nullable = true)\n",
      " |-- longitude: string (nullable = true)\n",
      " |-- stars: string (nullable = true)\n",
      " |-- review_count: string (nullable = true)\n",
      " |-- is_open: string (nullable = true)\n",
      " |-- attributes: map (nullable = true)\n",
      " |    |-- key: string\n",
      " |    |-- value: string (valueContainsNull = true)\n",
      " |-- categories: string (nullable = true)\n",
      " |-- hours: map (nullable = true)\n",
      " |    |-- key: string\n",
      " |    |-- value: string (valueContainsNull = true)\n",
      " |-- categories_split: array (nullable = true)\n",
      " |    |-- element: string (containsNull = true)\n",
      " |-- attrBusiness: string (nullable = false)\n",
      " |-- attrValue: string (nullable = true)\n",
      "\n"
     ]
    }
   ],
   "source": [
    "business_attributesWiFi_df.printSchema()"
   ]
  },
  {
   "cell_type": "code",
   "execution_count": 19,
   "id": "e2288ec7",
   "metadata": {},
   "outputs": [
    {
     "data": {
      "text/plain": [
       "17057"
      ]
     },
     "execution_count": 19,
     "metadata": {},
     "output_type": "execute_result"
    }
   ],
   "source": [
    "business_attributesWiFi_df.count()"
   ]
  },
  {
   "cell_type": "code",
   "execution_count": 20,
   "id": "c3074ce4",
   "metadata": {},
   "outputs": [
    {
     "data": {
      "text/plain": [
       "1400"
      ]
     },
     "execution_count": 20,
     "metadata": {},
     "output_type": "execute_result"
    }
   ],
   "source": [
    "business_attributesWiFi_df.select(['business_id','categories','attrValue'])\\\n",
    ".filter(sparkf.array_contains(sparkf.col('categories_split'),filterCategories))\\\n",
    ".distinct().count()"
   ]
  },
  {
   "cell_type": "code",
   "execution_count": 21,
   "id": "7228a134",
   "metadata": {},
   "outputs": [],
   "source": [
    "final_business_df = business_attributesWiFi_df.select(['business_id','categories','attrValue'])\\\n",
    ".filter(sparkf.array_contains(sparkf.col('categories_split'),filterCategories))\\\n",
    ".distinct()"
   ]
  },
  {
   "cell_type": "code",
   "execution_count": 22,
   "id": "28eb8da7",
   "metadata": {},
   "outputs": [
    {
     "name": "stderr",
     "output_type": "stream",
     "text": [
      "23/02/15 13:19:21 WARN SchemaService: Switching to query schema resolution\n",
      "23/02/15 13:19:21 WARN SchemaService: For the following exception\n",
      "org.neo4j.driver.exceptions.ClientException: Unable to compute the resulting schema from APOC\n",
      "\tat org.neo4j.spark.service.SchemaService.retrieveSchemaFromApoc(SchemaService.scala:95)\n",
      "\tat org.neo4j.spark.service.SchemaService.liftedTree1$1(SchemaService.scala:47)\n",
      "\tat org.neo4j.spark.service.SchemaService.structForNode(SchemaService.scala:36)\n",
      "\tat org.neo4j.spark.service.SchemaService.struct(SchemaService.scala:249)\n",
      "\tat org.neo4j.spark.DataSource.$anonfun$inferSchema$1(DataSource.scala:29)\n",
      "\tat org.neo4j.spark.util.Neo4jUtil$.callSchemaService(Neo4jUtil.scala:329)\n",
      "\tat org.neo4j.spark.DataSource.inferSchema(DataSource.scala:29)\n",
      "\tat org.apache.spark.sql.execution.datasources.v2.DataSourceV2Utils$.getTableFromProvider(DataSourceV2Utils.scala:81)\n",
      "\tat org.apache.spark.sql.DataFrameWriter.getTable$1(DataFrameWriter.scala:304)\n",
      "\tat org.apache.spark.sql.DataFrameWriter.save(DataFrameWriter.scala:320)\n",
      "\tat sun.reflect.NativeMethodAccessorImpl.invoke0(Native Method)\n",
      "\tat sun.reflect.NativeMethodAccessorImpl.invoke(NativeMethodAccessorImpl.java:62)\n",
      "\tat sun.reflect.DelegatingMethodAccessorImpl.invoke(DelegatingMethodAccessorImpl.java:43)\n",
      "\tat java.lang.reflect.Method.invoke(Method.java:498)\n",
      "\tat py4j.reflection.MethodInvoker.invoke(MethodInvoker.java:244)\n",
      "\tat py4j.reflection.ReflectionEngine.invoke(ReflectionEngine.java:357)\n",
      "\tat py4j.Gateway.invoke(Gateway.java:282)\n",
      "\tat py4j.commands.AbstractCommand.invokeMethod(AbstractCommand.java:132)\n",
      "\tat py4j.commands.CallCommand.execute(CallCommand.java:79)\n",
      "\tat py4j.GatewayConnection.run(GatewayConnection.java:238)\n",
      "\tat java.lang.Thread.run(Thread.java:750)\n",
      "                                                                                \r"
     ]
    }
   ],
   "source": [
    "final_business_df.coalesce(1).write \\\n",
    "  .format(\"org.neo4j.spark.DataSource\") \\\n",
    "  .mode(\"Overwrite\") \\\n",
    "  .option(\"url\", \"neo4j://192.168.1.104:7687\") \\\n",
    "  .option(\"labels\", \"business_id\").option(\"node.keys\", \"business_id\") \\\n",
    "  .option(\"authentication.basic.username\", \"neo4j\").option(\"authentication.basic.password\", \"xxxxxxxxxxxxxxxx\")\\\n",
    "  .save()"
   ]
  },
  {
   "cell_type": "code",
   "execution_count": null,
   "id": "449c2360",
   "metadata": {},
   "outputs": [],
   "source": []
  },
  {
   "cell_type": "raw",
   "id": "2f9145d8",
   "metadata": {},
   "source": [
    "! head -3 yelp_academic_dataset_review.json"
   ]
  },
  {
   "cell_type": "code",
   "execution_count": 23,
   "id": "c78fd194",
   "metadata": {},
   "outputs": [
    {
     "name": "stderr",
     "output_type": "stream",
     "text": [
      "                                                                                \r"
     ]
    }
   ],
   "source": [
    "reviews_df = spark.read.json(\"yelp_academic_dataset_review.json\")"
   ]
  },
  {
   "cell_type": "code",
   "execution_count": 24,
   "id": "48fa093d",
   "metadata": {},
   "outputs": [
    {
     "name": "stderr",
     "output_type": "stream",
     "text": [
      "                                                                                \r"
     ]
    },
    {
     "data": {
      "text/plain": [
       "6990280"
      ]
     },
     "execution_count": 24,
     "metadata": {},
     "output_type": "execute_result"
    }
   ],
   "source": [
    "reviews_df.count()"
   ]
  },
  {
   "cell_type": "code",
   "execution_count": 25,
   "id": "fd777fe2",
   "metadata": {},
   "outputs": [
    {
     "name": "stdout",
     "output_type": "stream",
     "text": [
      "6990280 yelp_academic_dataset_review.json\n"
     ]
    }
   ],
   "source": [
    "! wc -l yelp_academic_dataset_review.json"
   ]
  },
  {
   "cell_type": "code",
   "execution_count": 26,
   "id": "3219dff3",
   "metadata": {},
   "outputs": [
    {
     "name": "stdout",
     "output_type": "stream",
     "text": [
      "root\n",
      " |-- business_id: string (nullable = true)\n",
      " |-- cool: long (nullable = true)\n",
      " |-- date: string (nullable = true)\n",
      " |-- funny: long (nullable = true)\n",
      " |-- review_id: string (nullable = true)\n",
      " |-- stars: double (nullable = true)\n",
      " |-- text: string (nullable = true)\n",
      " |-- useful: long (nullable = true)\n",
      " |-- user_id: string (nullable = true)\n",
      "\n"
     ]
    }
   ],
   "source": [
    "reviews_df.printSchema()"
   ]
  },
  {
   "cell_type": "raw",
   "id": "c9803e65",
   "metadata": {},
   "source": [
    "reviews_df.describe().toPandas().transpose()"
   ]
  },
  {
   "cell_type": "raw",
   "id": "ebab98cc",
   "metadata": {},
   "source": [
    "reviews_df.groupBy('business_id','user_id').agg(sparkf.avg('stars').alias('avgStars')).groupBy('business_id','user_id').count().orderBy('count',ascending=False).show()"
   ]
  },
  {
   "cell_type": "raw",
   "id": "ffb12b90",
   "metadata": {},
   "source": [
    "reviews_df.groupBy('business_id','user_id').agg(sparkf.avg('stars').alias('avgStars')).show()"
   ]
  },
  {
   "cell_type": "code",
   "execution_count": 27,
   "id": "97161233",
   "metadata": {},
   "outputs": [],
   "source": [
    "final_reviews_df = reviews_df.groupBy('business_id','user_id').agg(sparkf.avg('stars').alias('avgStars'))"
   ]
  },
  {
   "cell_type": "code",
   "execution_count": 28,
   "id": "efc71694",
   "metadata": {},
   "outputs": [
    {
     "name": "stdout",
     "output_type": "stream",
     "text": [
      "root\n",
      " |-- business_id: string (nullable = true)\n",
      " |-- user_id: string (nullable = true)\n",
      " |-- avgStars: double (nullable = true)\n",
      "\n"
     ]
    }
   ],
   "source": [
    "final_reviews_df.printSchema()"
   ]
  },
  {
   "cell_type": "code",
   "execution_count": 29,
   "id": "b189f777",
   "metadata": {},
   "outputs": [
    {
     "name": "stderr",
     "output_type": "stream",
     "text": [
      "[Stage 46:===============================>                      (117 + 6) / 200]\r"
     ]
    },
    {
     "name": "stdout",
     "output_type": "stream",
     "text": [
      "+--------------------+--------+-----+\n",
      "|         business_id|avgStars|count|\n",
      "+--------------------+--------+-----+\n",
      "|zzyx5x0Z7xXWWvWnZ...|     4.0|    1|\n",
      "|zzyx5x0Z7xXWWvWnZ...|     2.0|    2|\n",
      "|zzyx5x0Z7xXWWvWnZ...|     3.0|    2|\n",
      "|zzyx5x0Z7xXWWvWnZ...|     1.0|    1|\n",
      "|zzw66H6hVjXQEt0Js...|     1.0|    1|\n",
      "|zzw66H6hVjXQEt0Js...|     2.0|    1|\n",
      "|zzw66H6hVjXQEt0Js...|     5.0|    3|\n",
      "|zzu6_r3DxBJuXcjnO...|     2.0|    1|\n",
      "|zzu6_r3DxBJuXcjnO...|     3.0|    2|\n",
      "|zzu6_r3DxBJuXcjnO...|     5.0|    1|\n",
      "|zzu6_r3DxBJuXcjnO...|     4.0|    4|\n",
      "|zztOG2cKm87I6Iw_t...|     5.0|    5|\n",
      "|zztOG2cKm87I6Iw_t...|     4.0|    1|\n",
      "|zznZqH9CiAznbkV6f...|     5.0|   11|\n",
      "|zznZqH9CiAznbkV6f...|     4.0|    1|\n",
      "|zznJox6-nmXlGYNWg...|     2.0|    2|\n",
      "|zznJox6-nmXlGYNWg...|     1.0|   23|\n",
      "|zznJox6-nmXlGYNWg...|     3.0|    1|\n",
      "|zznJox6-nmXlGYNWg...|     4.0|    1|\n",
      "|zznJox6-nmXlGYNWg...|     5.0|    3|\n",
      "+--------------------+--------+-----+\n",
      "only showing top 20 rows\n",
      "\n"
     ]
    },
    {
     "name": "stderr",
     "output_type": "stream",
     "text": [
      "                                                                                \r"
     ]
    }
   ],
   "source": [
    "final_reviews_df.groupBy('business_id','avgStars').count().orderBy('business_id',ascending=False).show()"
   ]
  },
  {
   "cell_type": "code",
   "execution_count": 30,
   "id": "deb67f89",
   "metadata": {},
   "outputs": [
    {
     "name": "stderr",
     "output_type": "stream",
     "text": [
      "                                                                                \r"
     ]
    },
    {
     "data": {
      "text/plain": [
       "6745760"
      ]
     },
     "execution_count": 30,
     "metadata": {},
     "output_type": "execute_result"
    }
   ],
   "source": [
    "final_reviews_df.distinct().count()"
   ]
  },
  {
   "cell_type": "code",
   "execution_count": 31,
   "id": "d5f42ee9",
   "metadata": {},
   "outputs": [
    {
     "name": "stderr",
     "output_type": "stream",
     "text": [
      "                                                                                \r"
     ]
    },
    {
     "data": {
      "text/plain": [
       "6745760"
      ]
     },
     "execution_count": 31,
     "metadata": {},
     "output_type": "execute_result"
    }
   ],
   "source": [
    "final_reviews_df.count()"
   ]
  },
  {
   "cell_type": "code",
   "execution_count": 32,
   "id": "e747ef6f",
   "metadata": {},
   "outputs": [
    {
     "name": "stderr",
     "output_type": "stream",
     "text": [
      "[Stage 54:===================================================>  (189 + 6) / 200]\r"
     ]
    },
    {
     "name": "stdout",
     "output_type": "stream",
     "text": [
      "+--------------------+--------------------+--------+\n",
      "|         business_id|             user_id|avgStars|\n",
      "+--------------------+--------------------+--------+\n",
      "|---kPU91CF4Lq2-Wl...|7DKv40qZEDctS9G0M...|     5.0|\n",
      "|---kPU91CF4Lq2-Wl...|YhbCO1DVlNYkmVv8D...|     5.0|\n",
      "|---kPU91CF4Lq2-Wl...|Q-ia5eY9smWBTwYOZ...|     5.0|\n",
      "|---kPU91CF4Lq2-Wl...|V8oYXtc0hMuYzG5Hf...|     3.0|\n",
      "|---kPU91CF4Lq2-Wl...|5r_jlIQvSr7VG5YFb...|     5.0|\n",
      "|---kPU91CF4Lq2-Wl...|lEPRGtvLLfJ2BQcU_...|     5.0|\n",
      "|---kPU91CF4Lq2-Wl...|7F5NSUrKYEPdrewd2...|     5.0|\n",
      "|---kPU91CF4Lq2-Wl...|i48cHEyRBl5g9_npY...|     4.0|\n",
      "|---kPU91CF4Lq2-Wl...|WINRnvRO7iGEhrf9i...|     5.0|\n",
      "|---kPU91CF4Lq2-Wl...|zmgsdGzOp08BWJZ2y...|     5.0|\n",
      "|---kPU91CF4Lq2-Wl...|zEe31kAcPExQgFR-A...|     5.0|\n",
      "|---kPU91CF4Lq2-Wl...|goqGoC76zemDagYvR...|     4.0|\n",
      "|---kPU91CF4Lq2-Wl...|TIx1jZXl57mY-JnS3...|     5.0|\n",
      "|---kPU91CF4Lq2-Wl...|nRy6-tnPPeShNhZg9...|     5.0|\n",
      "|---kPU91CF4Lq2-Wl...|YUVbBNr_dSJNP2pwD...|     1.0|\n",
      "|---kPU91CF4Lq2-Wl...|jtPb5gfrvYixrC0ax...|     5.0|\n",
      "|---kPU91CF4Lq2-Wl...|UmQDlaIjLiPBZ7M6U...|     5.0|\n",
      "|---kPU91CF4Lq2-Wl...|qrCkKrEwQ-q9m1iWS...|     5.0|\n",
      "|---kPU91CF4Lq2-Wl...|w2SrX4cPZqykJ5P7U...|     5.0|\n",
      "|---kPU91CF4Lq2-Wl...|415SXXbQrl2-VudHa...|     4.0|\n",
      "+--------------------+--------------------+--------+\n",
      "only showing top 20 rows\n",
      "\n"
     ]
    },
    {
     "name": "stderr",
     "output_type": "stream",
     "text": [
      "                                                                                \r"
     ]
    }
   ],
   "source": [
    "final_reviews_df.orderBy('business_id').show()"
   ]
  },
  {
   "cell_type": "code",
   "execution_count": 33,
   "id": "37e23ad6",
   "metadata": {},
   "outputs": [
    {
     "name": "stderr",
     "output_type": "stream",
     "text": [
      "                                                                                \r"
     ]
    },
    {
     "data": {
      "text/plain": [
       "6745760"
      ]
     },
     "execution_count": 33,
     "metadata": {},
     "output_type": "execute_result"
    }
   ],
   "source": [
    "final_reviews_df.count()"
   ]
  },
  {
   "cell_type": "code",
   "execution_count": null,
   "id": "71205ff6",
   "metadata": {},
   "outputs": [],
   "source": []
  },
  {
   "cell_type": "code",
   "execution_count": 34,
   "id": "b9f55002",
   "metadata": {},
   "outputs": [],
   "source": [
    "# Join the two dataframes on business_id\n",
    "abt_df = final_business_df.join(final_reviews_df, \"business_id\").select('business_id','user_id','avgStars','categories')"
   ]
  },
  {
   "cell_type": "code",
   "execution_count": 35,
   "id": "81c6c840",
   "metadata": {},
   "outputs": [
    {
     "name": "stderr",
     "output_type": "stream",
     "text": [
      "                                                                                \r"
     ]
    },
    {
     "data": {
      "text/plain": [
       "47051"
      ]
     },
     "execution_count": 35,
     "metadata": {},
     "output_type": "execute_result"
    }
   ],
   "source": [
    "abt_df.count()"
   ]
  },
  {
   "cell_type": "code",
   "execution_count": 36,
   "id": "cf0a7217",
   "metadata": {},
   "outputs": [
    {
     "name": "stdout",
     "output_type": "stream",
     "text": [
      "root\n",
      " |-- business_id: string (nullable = true)\n",
      " |-- user_id: string (nullable = true)\n",
      " |-- avgStars: double (nullable = true)\n",
      " |-- categories: string (nullable = true)\n",
      "\n"
     ]
    }
   ],
   "source": [
    "abt_df.printSchema()"
   ]
  },
  {
   "cell_type": "code",
   "execution_count": 40,
   "id": "034ae7a1",
   "metadata": {},
   "outputs": [
    {
     "data": {
      "text/plain": [
       "['business_id', 'user_id', 'avgStars', 'categories']"
      ]
     },
     "execution_count": 40,
     "metadata": {},
     "output_type": "execute_result"
    }
   ],
   "source": [
    "abt_df.columns"
   ]
  },
  {
   "cell_type": "code",
   "execution_count": 41,
   "id": "c6d5abb9",
   "metadata": {},
   "outputs": [
    {
     "name": "stderr",
     "output_type": "stream",
     "text": [
      "                                                                                \r"
     ]
    },
    {
     "data": {
      "text/plain": [
       "43631"
      ]
     },
     "execution_count": 41,
     "metadata": {},
     "output_type": "execute_result"
    }
   ],
   "source": [
    "abt_df.select(['user_id']).distinct().count()"
   ]
  },
  {
   "cell_type": "code",
   "execution_count": 42,
   "id": "176623f4",
   "metadata": {},
   "outputs": [
    {
     "name": "stderr",
     "output_type": "stream",
     "text": [
      "                                                                                \r"
     ]
    },
    {
     "data": {
      "text/plain": [
       "47051"
      ]
     },
     "execution_count": 42,
     "metadata": {},
     "output_type": "execute_result"
    }
   ],
   "source": [
    "abt_df.count()"
   ]
  },
  {
   "cell_type": "code",
   "execution_count": 43,
   "id": "5927ffe0",
   "metadata": {},
   "outputs": [
    {
     "name": "stderr",
     "output_type": "stream",
     "text": [
      "[Stage 103:======================================>              (146 + 6) / 200]\r"
     ]
    },
    {
     "name": "stdout",
     "output_type": "stream",
     "text": [
      "+--------------------+--------------------+--------+--------------------+-----+\n",
      "|         business_id|             user_id|avgStars|          categories|count|\n",
      "+--------------------+--------------------+--------+--------------------+-----+\n",
      "|Bdmym_Ozztd6rekAs...|UamE2yMBWkGKzOY0Q...|     5.0|Skin Care, Waxing...|    1|\n",
      "|Bdmym_Ozztd6rekAs...|2cWv0uwoRIcoTYidY...|     5.0|Skin Care, Waxing...|    1|\n",
      "|Bdmym_Ozztd6rekAs...|VHGNAjutVRUiSsdEF...|     5.0|Skin Care, Waxing...|    1|\n",
      "|Bdmym_Ozztd6rekAs...|7DEyddzwcFD1bbt1_...|     5.0|Skin Care, Waxing...|    1|\n",
      "|Bdmym_Ozztd6rekAs...|5fDYBzmZ9kXuFTYGR...|     5.0|Skin Care, Waxing...|    1|\n",
      "|Bdmym_Ozztd6rekAs...|tuPapfxmp514bR2Hf...|     5.0|Skin Care, Waxing...|    1|\n",
      "|Bdmym_Ozztd6rekAs...|tzEU6o8PW0jpKRE8w...|     5.0|Skin Care, Waxing...|    1|\n",
      "|Bdmym_Ozztd6rekAs...|8nxAYcpD12tdbyx7E...|     5.0|Skin Care, Waxing...|    1|\n",
      "|Bdmym_Ozztd6rekAs...|gBXTKk0iMUblYx3uk...|     5.0|Skin Care, Waxing...|    1|\n",
      "|Bdmym_Ozztd6rekAs...|IHKD0ixPkzQbUBeQ5...|     5.0|Skin Care, Waxing...|    1|\n",
      "|Pc3L8T4l6RKSfE786...|OprzDdT0SzboqZ70G...|     5.0|Skin Care, Beauty...|    1|\n",
      "|Pc3L8T4l6RKSfE786...|0_rZdSFAlKbJc8nn7...|     5.0|Skin Care, Beauty...|    1|\n",
      "|Pc3L8T4l6RKSfE786...|4d4X9yPKG7jFa_VC_...|     5.0|Skin Care, Beauty...|    1|\n",
      "|Pc3L8T4l6RKSfE786...|08jid7vurtmaVLxz3...|     5.0|Skin Care, Beauty...|    1|\n",
      "|Pc3L8T4l6RKSfE786...|Ogj3XYr4AbMNDdAk9...|     1.0|Skin Care, Beauty...|    1|\n",
      "|Pc3L8T4l6RKSfE786...|c_eudHft3OL_6d_59...|     5.0|Skin Care, Beauty...|    1|\n",
      "|Pc3L8T4l6RKSfE786...|Hp_ELAsjMlbNrIihW...|     5.0|Skin Care, Beauty...|    1|\n",
      "|Pc3L8T4l6RKSfE786...|EH0bLxtVR5MXH3FIk...|     5.0|Skin Care, Beauty...|    1|\n",
      "|Pc3L8T4l6RKSfE786...|SddynE1WV_avL0isn...|     5.0|Skin Care, Beauty...|    1|\n",
      "|Pc3L8T4l6RKSfE786...|BcOQr6jJIBCW-QIu-...|     5.0|Skin Care, Beauty...|    1|\n",
      "+--------------------+--------------------+--------+--------------------+-----+\n",
      "only showing top 20 rows\n",
      "\n"
     ]
    },
    {
     "name": "stderr",
     "output_type": "stream",
     "text": [
      "                                                                                \r"
     ]
    }
   ],
   "source": [
    "## 1 ธุรกิจต้องมีคะแนนเฉลี่ย rate โดย user 1 คน เพียงคะแนนเดียว (เฉลี่ยคะแนนจากหลายครั้ง)\n",
    "abt_df.select(['business_id', 'user_id', 'avgStars', 'categories']).groupBy('business_id', 'user_id', 'avgStars', 'categories').count()\\\n",
    ".orderBy('count',ascending=False).show()"
   ]
  },
  {
   "cell_type": "code",
   "execution_count": 44,
   "id": "41ddef1a",
   "metadata": {},
   "outputs": [
    {
     "name": "stderr",
     "output_type": "stream",
     "text": [
      "                                                                                \r"
     ]
    },
    {
     "data": {
      "text/plain": [
       "47035"
      ]
     },
     "execution_count": 44,
     "metadata": {},
     "output_type": "execute_result"
    }
   ],
   "source": [
    "abt_df.select(['user_id', 'categories']).distinct().count()"
   ]
  },
  {
   "cell_type": "code",
   "execution_count": 45,
   "id": "f3593ab3",
   "metadata": {},
   "outputs": [
    {
     "name": "stderr",
     "output_type": "stream",
     "text": [
      "                                                                                \r"
     ]
    },
    {
     "data": {
      "text/plain": [
       "47051"
      ]
     },
     "execution_count": 45,
     "metadata": {},
     "output_type": "execute_result"
    }
   ],
   "source": [
    "abt_df.select(['business_id', 'user_id','categories']).distinct().count()"
   ]
  },
  {
   "cell_type": "code",
   "execution_count": 46,
   "id": "c129705d",
   "metadata": {},
   "outputs": [
    {
     "name": "stderr",
     "output_type": "stream",
     "text": [
      "23/02/15 13:21:34 WARN SchemaService: Switching to query schema resolution\n",
      "23/02/15 13:21:34 WARN SchemaService: For the following exception\n",
      "org.neo4j.driver.exceptions.ClientException: Unable to compute the resulting schema from APOC\n",
      "\tat org.neo4j.spark.service.SchemaService.retrieveSchemaFromApoc(SchemaService.scala:95)\n",
      "\tat org.neo4j.spark.service.SchemaService.liftedTree1$1(SchemaService.scala:47)\n",
      "\tat org.neo4j.spark.service.SchemaService.structForNode(SchemaService.scala:36)\n",
      "\tat org.neo4j.spark.service.SchemaService.struct(SchemaService.scala:249)\n",
      "\tat org.neo4j.spark.DataSource.$anonfun$inferSchema$1(DataSource.scala:29)\n",
      "\tat org.neo4j.spark.util.Neo4jUtil$.callSchemaService(Neo4jUtil.scala:329)\n",
      "\tat org.neo4j.spark.DataSource.inferSchema(DataSource.scala:29)\n",
      "\tat org.apache.spark.sql.execution.datasources.v2.DataSourceV2Utils$.getTableFromProvider(DataSourceV2Utils.scala:81)\n",
      "\tat org.apache.spark.sql.DataFrameWriter.getTable$1(DataFrameWriter.scala:304)\n",
      "\tat org.apache.spark.sql.DataFrameWriter.save(DataFrameWriter.scala:320)\n",
      "\tat sun.reflect.NativeMethodAccessorImpl.invoke0(Native Method)\n",
      "\tat sun.reflect.NativeMethodAccessorImpl.invoke(NativeMethodAccessorImpl.java:62)\n",
      "\tat sun.reflect.DelegatingMethodAccessorImpl.invoke(DelegatingMethodAccessorImpl.java:43)\n",
      "\tat java.lang.reflect.Method.invoke(Method.java:498)\n",
      "\tat py4j.reflection.MethodInvoker.invoke(MethodInvoker.java:244)\n",
      "\tat py4j.reflection.ReflectionEngine.invoke(ReflectionEngine.java:357)\n",
      "\tat py4j.Gateway.invoke(Gateway.java:282)\n",
      "\tat py4j.commands.AbstractCommand.invokeMethod(AbstractCommand.java:132)\n",
      "\tat py4j.commands.CallCommand.execute(CallCommand.java:79)\n",
      "\tat py4j.GatewayConnection.run(GatewayConnection.java:238)\n",
      "\tat java.lang.Thread.run(Thread.java:750)\n",
      "                                                                                \r"
     ]
    }
   ],
   "source": [
    "abt_df.select(['user_id']).distinct().coalesce(1).write \\\n",
    "  .format(\"org.neo4j.spark.DataSource\") \\\n",
    "  .mode(\"Overwrite\") \\\n",
    "  .option(\"url\", \"neo4j://192.168.1.104:7687\") \\\n",
    "  .option(\"labels\", \"user_id\").option(\"node.keys\", \"user_id\") \\\n",
    "  .option(\"authentication.basic.username\", \"neo4j\").option(\"authentication.basic.password\", \"xxxxxxxxxxxxxxxx\")\\\n",
    "  .save()"
   ]
  },
  {
   "cell_type": "code",
   "execution_count": null,
   "id": "e6c60280",
   "metadata": {},
   "outputs": [],
   "source": []
  },
  {
   "cell_type": "code",
   "execution_count": 47,
   "id": "b98de814",
   "metadata": {},
   "outputs": [
    {
     "name": "stderr",
     "output_type": "stream",
     "text": [
      "[Stage 136:======================================>              (147 + 6) / 200]\r"
     ]
    },
    {
     "name": "stdout",
     "output_type": "stream",
     "text": [
      "+--------------------+-----+\n",
      "|             user_id|count|\n",
      "+--------------------+-----+\n",
      "|ET8n-r7glWYqZhuR6...|   11|\n",
      "|A5o65BbfpKkt0Bv-r...|    9|\n",
      "|ylE_w4QR7JCz9cr9u...|    9|\n",
      "|NRRPUnrCEIjDSt4uG...|    7|\n",
      "|TFWtU4CQU8l84Uj88...|    7|\n",
      "|5BIhkthDtf7Gt2QUd...|    6|\n",
      "|OdEaOuyA6bI_0cErz...|    6|\n",
      "|_BcWyKQL16ndpBdgg...|    6|\n",
      "|s9fb6K62gxO9ZYWn8...|    6|\n",
      "|ETJZm6PJVc9ANZbT8...|    6|\n",
      "|hwB9QTmjZRd48mbGP...|    6|\n",
      "|1kdXLwdjvuk7FIS3c...|    6|\n",
      "|X3Z2Kml_8aCMiJnPA...|    6|\n",
      "|G9P3h7ZGdbdc_Zt6I...|    6|\n",
      "|h7p-GuaHFGsiKCF4g...|    6|\n",
      "|iJdknUsOPUDA2BTfT...|    6|\n",
      "|1PJ-RjMqXHeymSkLR...|    6|\n",
      "|MN1f6pyuuDvfmd9LL...|    5|\n",
      "|sE0natqYMuJ0cmLys...|    5|\n",
      "|eNtU9lv7gCb-qNy7n...|    5|\n",
      "+--------------------+-----+\n",
      "only showing top 20 rows\n",
      "\n"
     ]
    },
    {
     "name": "stderr",
     "output_type": "stream",
     "text": [
      "                                                                                \r"
     ]
    }
   ],
   "source": [
    "abt_df.select(['user_id', 'categories']).distinct()\\\n",
    ".groupBy('user_id').count()\\\n",
    ".orderBy('count',ascending=False).show()"
   ]
  },
  {
   "cell_type": "code",
   "execution_count": null,
   "id": "39530739",
   "metadata": {},
   "outputs": [],
   "source": []
  },
  {
   "cell_type": "code",
   "execution_count": null,
   "id": "e3136a85",
   "metadata": {},
   "outputs": [],
   "source": []
  },
  {
   "cell_type": "code",
   "execution_count": 48,
   "id": "64842317",
   "metadata": {},
   "outputs": [
    {
     "name": "stderr",
     "output_type": "stream",
     "text": [
      "23/02/15 13:29:51 WARN SchemaService: Switching to query schema resolution\n",
      "23/02/15 13:29:51 WARN SchemaService: For the following exception\n",
      "org.neo4j.driver.exceptions.ClientException: Unable to compute the resulting schema from APOC\n",
      "\tat org.neo4j.spark.service.SchemaService.retrieveSchemaFromApoc(SchemaService.scala:95)\n",
      "\tat org.neo4j.spark.service.SchemaService.liftedTree2$1(SchemaService.scala:177)\n",
      "\tat org.neo4j.spark.service.SchemaService.structForRelationship(SchemaService.scala:161)\n",
      "\tat org.neo4j.spark.service.SchemaService.struct(SchemaService.scala:250)\n",
      "\tat org.neo4j.spark.DataSource.$anonfun$inferSchema$1(DataSource.scala:29)\n",
      "\tat org.neo4j.spark.util.Neo4jUtil$.callSchemaService(Neo4jUtil.scala:329)\n",
      "\tat org.neo4j.spark.DataSource.inferSchema(DataSource.scala:29)\n",
      "\tat org.apache.spark.sql.execution.datasources.v2.DataSourceV2Utils$.getTableFromProvider(DataSourceV2Utils.scala:81)\n",
      "\tat org.apache.spark.sql.DataFrameWriter.getTable$1(DataFrameWriter.scala:304)\n",
      "\tat org.apache.spark.sql.DataFrameWriter.save(DataFrameWriter.scala:320)\n",
      "\tat sun.reflect.NativeMethodAccessorImpl.invoke0(Native Method)\n",
      "\tat sun.reflect.NativeMethodAccessorImpl.invoke(NativeMethodAccessorImpl.java:62)\n",
      "\tat sun.reflect.DelegatingMethodAccessorImpl.invoke(DelegatingMethodAccessorImpl.java:43)\n",
      "\tat java.lang.reflect.Method.invoke(Method.java:498)\n",
      "\tat py4j.reflection.MethodInvoker.invoke(MethodInvoker.java:244)\n",
      "\tat py4j.reflection.ReflectionEngine.invoke(ReflectionEngine.java:357)\n",
      "\tat py4j.Gateway.invoke(Gateway.java:282)\n",
      "\tat py4j.commands.AbstractCommand.invokeMethod(AbstractCommand.java:132)\n",
      "\tat py4j.commands.CallCommand.execute(CallCommand.java:79)\n",
      "\tat py4j.GatewayConnection.run(GatewayConnection.java:238)\n",
      "\tat java.lang.Thread.run(Thread.java:750)\n",
      "                                                                                \r"
     ]
    }
   ],
   "source": [
    "from pyspark.sql import functions as F\n",
    "\n",
    "\n",
    "abt_df.select(['business_id', 'user_id', 'avgStars', 'categories']).distinct().coalesce(1).write \\\n",
    "  .format(\"org.neo4j.spark.DataSource\") \\\n",
    "  .mode(\"Overwrite\") \\\n",
    "  .option(\"url\", \"neo4j://192.168.1.104:7687\") \\\n",
    "  .option(\"relationship\", \"RATED_BY\") \\\n",
    "  .option(\"relationship.save.strategy\", \"keys\") \\\n",
    "  .option(\"relationship.source.labels\", \"business_id\").option(\"relationship.source.node.keys\", \"business_id\") \\\n",
    "  .option(\"relationship.target.labels\", \"user_id\").option(\"relationship.target.node.keys\", \"user_id\") \\\n",
    "  .option(\"relationship.properties\", \"avgStars\") \\\n",
    "  .option(\"authentication.basic.username\", \"neo4j\").option(\"authentication.basic.password\", \"xxxxxxxxxxxxxxxx\")\\\n",
    "  .save()\n"
   ]
  },
  {
   "cell_type": "code",
   "execution_count": null,
   "id": "5de9e863",
   "metadata": {},
   "outputs": [],
   "source": []
  }
 ],
 "metadata": {
  "kernelspec": {
   "display_name": "Python 3 (ipykernel)",
   "language": "python",
   "name": "python3"
  },
  "language_info": {
   "codemirror_mode": {
    "name": "ipython",
    "version": 3
   },
   "file_extension": ".py",
   "mimetype": "text/x-python",
   "name": "python",
   "nbconvert_exporter": "python",
   "pygments_lexer": "ipython3",
   "version": "3.9.2"
  }
 },
 "nbformat": 4,
 "nbformat_minor": 5
}
