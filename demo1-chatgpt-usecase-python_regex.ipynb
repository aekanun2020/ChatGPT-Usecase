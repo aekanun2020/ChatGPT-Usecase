{
 "cells": [
  {
   "cell_type": "raw",
   "id": "56d9538a",
   "metadata": {},
   "source": [
    "Here is a link for a text of log:\n",
    "\n",
    "54.36.149.41 - - [22/Jan/2019:03:56:14 +0330] \"GET /filter/27|13%20%D9%85%DA%AF%D8%A7%D9%BE%DB%8C%DA%A9%D8%B3%D9%84,27|%DA%A9%D9%85%D8%AA%D8%B1%20%D8%A7%D8%B2%205%20%D9%85%DA%AF%D8%A7%D9%BE%DB%8C%DA%A9%D8%B3%D9%84,p53 HTTP/1.1\" 200 30577 \"-\" \"Mozilla/5.0 (compatible; AhrefsBot/6.1; +http://ahrefs.com/robot/)\" \"-\"\n",
    "\n",
    "From the text, please provide Pyspark Script that use Spark's regular expression function for extracting feature columns and create the feature columns using Spark operation of \"withColumn()\""
   ]
  },
  {
   "cell_type": "code",
   "execution_count": 1,
   "id": "84a8ecaa",
   "metadata": {},
   "outputs": [
    {
     "name": "stderr",
     "output_type": "stream",
     "text": [
      "23/01/28 13:28:06 WARN NativeCodeLoader: Unable to load native-hadoop library for your platform... using builtin-java classes where applicable\n",
      "Using Spark's default log4j profile: org/apache/spark/log4j-defaults.properties\n",
      "Setting default log level to \"WARN\".\n",
      "To adjust logging level use sc.setLogLevel(newLevel). For SparkR, use setLogLevel(newLevel).\n"
     ]
    }
   ],
   "source": [
    "from pyspark.sql import SparkSession\n",
    "\n",
    "spark = SparkSession.\\\n",
    "        builder.\\\n",
    "        appName(\"จาก raw data สู่ Disk\").\\\n",
    "        master(\"spark://spark-master:7077\").\\\n",
    "        config(\"spark.executor.memory\", \"1000m\").\\\n",
    "        config(\"spark.executor.cores\", \"2\").\\\n",
    "        config(\"spark.cores.max\", \"6\").\\\n",
    "        getOrCreate()"
   ]
  },
  {
   "cell_type": "code",
   "execution_count": 2,
   "id": "56b94428",
   "metadata": {},
   "outputs": [],
   "source": [
    "# Read the access log file\n",
    "log_df = spark.read.text(\"access.log\").withColumnRenamed('value','log_text')"
   ]
  },
  {
   "cell_type": "code",
   "execution_count": 3,
   "id": "a2c3902c",
   "metadata": {},
   "outputs": [
    {
     "name": "stdout",
     "output_type": "stream",
     "text": [
      "10365152 access.log\n"
     ]
    }
   ],
   "source": [
    "! wc -l access.log"
   ]
  },
  {
   "cell_type": "code",
   "execution_count": 4,
   "id": "b45e889c",
   "metadata": {},
   "outputs": [
    {
     "name": "stderr",
     "output_type": "stream",
     "text": [
      "                                                                                \r"
     ]
    },
    {
     "data": {
      "text/plain": [
       "10365152"
      ]
     },
     "execution_count": 4,
     "metadata": {},
     "output_type": "execute_result"
    }
   ],
   "source": [
    "log_df.count()"
   ]
  },
  {
   "cell_type": "code",
   "execution_count": null,
   "id": "94e257d9",
   "metadata": {},
   "outputs": [],
   "source": []
  },
  {
   "cell_type": "code",
   "execution_count": 5,
   "id": "c393eaa6",
   "metadata": {},
   "outputs": [],
   "source": [
    "### หลังจากบรรทัดนี้เป็นฝีมือ ChatGPT-3"
   ]
  },
  {
   "cell_type": "code",
   "execution_count": 6,
   "id": "2f3b69c1",
   "metadata": {},
   "outputs": [],
   "source": [
    "from pyspark.sql.functions import regexp_extract"
   ]
  },
  {
   "cell_type": "code",
   "execution_count": 7,
   "id": "1dde135c",
   "metadata": {},
   "outputs": [],
   "source": [
    "# Extract feature columns using regular expressions\n",
    "log_df = log_df.withColumn(\"IP\", regexp_extract(\"log_text\", \"^([^ ]+)\", 1))\n",
    "log_df = log_df.withColumn(\"timestamp\", regexp_extract(\"log_text\", \"\\\\[([^\\\\]]+)\\\\]\", 1))\n",
    "log_df = log_df.withColumn(\"method\", regexp_extract(\"log_text\", \"\\\"([^ ]+)\", 1))\n",
    "log_df = log_df.withColumn(\"url\", regexp_extract(\"log_text\", \"\\\"[^ ]+ ([^ ]+)\", 1))\n",
    "log_df = log_df.withColumn(\"status\", regexp_extract(\"log_text\", \"\\\" [^ ]+ ([^ ]+)\", 1))\n",
    "log_df = log_df.withColumn(\"user_agent\", regexp_extract(\"log_text\", \"\\\"[^\\\"]+\\\" \\\"([^\\\"]+)\\\"\", 1))"
   ]
  },
  {
   "cell_type": "code",
   "execution_count": 8,
   "id": "f60a8a35",
   "metadata": {},
   "outputs": [
    {
     "name": "stdout",
     "output_type": "stream",
     "text": [
      "+--------------------+-------------+--------------------+------+--------------------+------+--------------------+\n",
      "|            log_text|           IP|           timestamp|method|                 url|status|          user_agent|\n",
      "+--------------------+-------------+--------------------+------+--------------------+------+--------------------+\n",
      "|54.36.149.41 - - ...| 54.36.149.41|22/Jan/2019:03:56...|   GET|/filter/27|13%20%...| 30577|Mozilla/5.0 (comp...|\n",
      "|31.56.96.51 - - [...|  31.56.96.51|22/Jan/2019:03:56...|   GET|/image/60844/prod...|  5667|Mozilla/5.0 (Linu...|\n",
      "|31.56.96.51 - - [...|  31.56.96.51|22/Jan/2019:03:56...|   GET|/image/61474/prod...|  5379|Mozilla/5.0 (Linu...|\n",
      "|40.77.167.129 - -...|40.77.167.129|22/Jan/2019:03:56...|   GET|/image/14925/prod...|  1696|Mozilla/5.0 (comp...|\n",
      "|91.99.72.15 - - [...|  91.99.72.15|22/Jan/2019:03:56...|   GET|/product/31893/62...| 41483|Mozilla/5.0 (Wind...|\n",
      "|40.77.167.129 - -...|40.77.167.129|22/Jan/2019:03:56...|   GET|/image/23488/prod...|  2654|Mozilla/5.0 (comp...|\n",
      "|40.77.167.129 - -...|40.77.167.129|22/Jan/2019:03:56...|   GET|/image/45437/prod...|  3688|Mozilla/5.0 (comp...|\n",
      "|40.77.167.129 - -...|40.77.167.129|22/Jan/2019:03:56...|   GET|/image/576/articl...| 14776|Mozilla/5.0 (comp...|\n",
      "|66.249.66.194 - -...|66.249.66.194|22/Jan/2019:03:56...|   GET|/filter/b41,b665,...| 34277|Mozilla/5.0 (comp...|\n",
      "|40.77.167.129 - -...|40.77.167.129|22/Jan/2019:03:56...|   GET|/image/57710/prod...|  1695|Mozilla/5.0 (comp...|\n",
      "|207.46.13.136 - -...|207.46.13.136|22/Jan/2019:03:56...|   GET|      /product/10214| 39677|Mozilla/5.0 (comp...|\n",
      "|40.77.167.129 - -...|40.77.167.129|22/Jan/2019:03:56...|   GET|/image/578/articl...|  9831|Mozilla/5.0 (comp...|\n",
      "|178.253.33.51 - -...|178.253.33.51|22/Jan/2019:03:56...|   GET|/m/product/32574/...| 20406|Mozilla/5.0 (Linu...|\n",
      "|40.77.167.129 - -...|40.77.167.129|22/Jan/2019:03:56...|   GET|/image/6229/produ...|  1796|Mozilla/5.0 (comp...|\n",
      "|91.99.72.15 - - [...|  91.99.72.15|22/Jan/2019:03:56...|   GET|/product/10075/13...| 41725|Mozilla/5.0 (X11;...|\n",
      "|40.77.167.129 - -...|40.77.167.129|22/Jan/2019:03:56...|   GET|/image/6229/produ...|  2739|Mozilla/5.0 (comp...|\n",
      "|207.46.13.136 - -...|207.46.13.136|22/Jan/2019:03:56...|   GET|      /product/14926| 33617|Mozilla/5.0 (comp...|\n",
      "|40.77.167.129 - -...|40.77.167.129|22/Jan/2019:03:56...|   GET|/image/6248/produ...|  2788|Mozilla/5.0 (comp...|\n",
      "|40.77.167.129 - -...|40.77.167.129|22/Jan/2019:03:56...|   GET|/image/64815/prod...|  3481|Mozilla/5.0 (comp...|\n",
      "|66.249.66.194 - -...|66.249.66.194|22/Jan/2019:03:56...|   GET|     /m/filter/b2,p6| 19451|Mozilla/5.0 (Linu...|\n",
      "+--------------------+-------------+--------------------+------+--------------------+------+--------------------+\n",
      "only showing top 20 rows\n",
      "\n"
     ]
    }
   ],
   "source": [
    "log_df.show()"
   ]
  }
 ],
 "metadata": {
  "kernelspec": {
   "display_name": "Python 3 (ipykernel)",
   "language": "python",
   "name": "python3"
  },
  "language_info": {
   "codemirror_mode": {
    "name": "ipython",
    "version": 3
   },
   "file_extension": ".py",
   "mimetype": "text/x-python",
   "name": "python",
   "nbconvert_exporter": "python",
   "pygments_lexer": "ipython3",
   "version": "3.9.2"
  }
 },
 "nbformat": 4,
 "nbformat_minor": 5
}
