{
 "cells": [
  {
   "cell_type": "raw",
   "id": "567edd13",
   "metadata": {},
   "source": [
    "Here is a link for a text of log:\n",
    "\n",
    "54.36.149.41 - - [22/Jan/2019:03:56:14 +0330] \"GET /filter/27|13%20%D9%85%DA%AF%D8%A7%D9%BE%DB%8C%DA%A9%D8%B3%D9%84,27|%DA%A9%D9%85%D8%AA%D8%B1%20%D8%A7%D8%B2%205%20%D9%85%DA%AF%D8%A7%D9%BE%DB%8C%DA%A9%D8%B3%D9%84,p53 HTTP/1.1\" 200 30577 \"-\" \"Mozilla/5.0 (compatible; AhrefsBot/6.1; +http://ahrefs.com/robot/)\" \"-\"\n",
    "\n",
    "From the text, please provide Pyspark Script that use Spark's regular expression function for extracting feature columns and create the feature columns using Spark operation of \"withColumn()\""
   ]
  },
  {
   "cell_type": "code",
   "execution_count": 1,
   "id": "ae0aa020",
   "metadata": {},
   "outputs": [
    {
     "name": "stderr",
     "output_type": "stream",
     "text": [
      "23/01/29 17:45:58 WARN NativeCodeLoader: Unable to load native-hadoop library for your platform... using builtin-java classes where applicable\n",
      "Using Spark's default log4j profile: org/apache/spark/log4j-defaults.properties\n",
      "Setting default log level to \"WARN\".\n",
      "To adjust logging level use sc.setLogLevel(newLevel). For SparkR, use setLogLevel(newLevel).\n"
     ]
    }
   ],
   "source": [
    "from pyspark.sql import SparkSession\n",
    "\n",
    "spark = SparkSession.\\\n",
    "        builder.\\\n",
    "        appName(\"จาก raw data สู่ Disk\").\\\n",
    "        master(\"spark://spark-master:7077\").\\\n",
    "        config(\"spark.executor.memory\", \"3000m\").\\\n",
    "        config(\"spark.executor.cores\", \"2\").\\\n",
    "        config(\"spark.cores.max\", \"6\").\\\n",
    "        getOrCreate()"
   ]
  },
  {
   "cell_type": "code",
   "execution_count": 2,
   "id": "fcc5ff09",
   "metadata": {},
   "outputs": [],
   "source": [
    "# Read the access log file\n",
    "raw_df = spark.read.text(\"access.log\").withColumnRenamed('value','log_text').repartition(60)"
   ]
  },
  {
   "cell_type": "code",
   "execution_count": 3,
   "id": "db074ea5",
   "metadata": {},
   "outputs": [
    {
     "name": "stdout",
     "output_type": "stream",
     "text": [
      "10365152 access.log\n"
     ]
    }
   ],
   "source": [
    "! wc -l access.log"
   ]
  },
  {
   "cell_type": "code",
   "execution_count": 4,
   "id": "43c6e47a",
   "metadata": {},
   "outputs": [
    {
     "name": "stderr",
     "output_type": "stream",
     "text": [
      "                                                                                \r"
     ]
    },
    {
     "data": {
      "text/plain": [
       "10365152"
      ]
     },
     "execution_count": 4,
     "metadata": {},
     "output_type": "execute_result"
    }
   ],
   "source": [
    "raw_df.count()"
   ]
  },
  {
   "cell_type": "code",
   "execution_count": 5,
   "id": "fdf4652c",
   "metadata": {},
   "outputs": [
    {
     "data": {
      "text/plain": [
       "60"
      ]
     },
     "execution_count": 5,
     "metadata": {},
     "output_type": "execute_result"
    }
   ],
   "source": [
    "raw_df.rdd.getNumPartitions()"
   ]
  },
  {
   "cell_type": "code",
   "execution_count": 6,
   "id": "1a06a07f",
   "metadata": {},
   "outputs": [],
   "source": [
    "### หลังจากบรรทัดนี้เป็นฝีมือ ChatGPT-3"
   ]
  },
  {
   "cell_type": "code",
   "execution_count": 7,
   "id": "42b8f27e",
   "metadata": {},
   "outputs": [],
   "source": [
    "from pyspark.sql.functions import regexp_extract,col,monotonically_increasing_id, when"
   ]
  },
  {
   "cell_type": "code",
   "execution_count": 8,
   "id": "c382105a",
   "metadata": {},
   "outputs": [],
   "source": [
    "# Extract feature columns using regular expressions\n",
    "log_df = raw_df.withColumn(\"ip\", regexp_extract(col(\"log_text\"), \"^([\\\\d.]+)\", 1)) \\\n",
    "    .withColumn(\"request_type\", regexp_extract(\"log_text\", r\"\\\"(.*?)\\\"\", 1)) \\\n",
    ".withColumn(\"status\", regexp_extract(\"log_text\", r\"\\\"\\s+(\\d+)\", 1))\\\n",
    ".withColumn(\"size\", regexp_extract(\"log_text\", r\"\\\"\\s+\\d+\\s+(\\d+)\", 1))\\\n",
    "    .withColumn(\"timestamp\", regexp_extract(col(\"log_text\"), \"\\\\[(.+?)\\\\]\", 1)) \\\n",
    "    .withColumn(\"timezone\", regexp_extract(col(\"log_text\"), \"\\\\[.+?\\\\s(.+?)\\\\]\", 1))\\\n",
    ".withColumn(\"agent\", regexp_extract(col(\"log_text\"), r\"\\\"Mozilla\\/(.*?)\\\"\", 1))\\\n",
    ".withColumn(\"OS\", regexp_extract(col(\"log_text\"), \"(Windows|Linux|MacOS|iOS|Android)\", 1))\n"
   ]
  },
  {
   "cell_type": "raw",
   "id": "61d8ef1d",
   "metadata": {},
   "source": [
    "log_df.limit(10).toPandas().transpagente()"
   ]
  },
  {
   "cell_type": "code",
   "execution_count": 9,
   "id": "82aa4c3f",
   "metadata": {},
   "outputs": [
    {
     "name": "stdout",
     "output_type": "stream",
     "text": [
      "root\n",
      " |-- log_text: string (nullable = true)\n",
      " |-- ip: string (nullable = true)\n",
      " |-- request_type: string (nullable = true)\n",
      " |-- status: string (nullable = true)\n",
      " |-- size: string (nullable = true)\n",
      " |-- timestamp: string (nullable = true)\n",
      " |-- timezone: string (nullable = true)\n",
      " |-- agent: string (nullable = true)\n",
      " |-- OS: string (nullable = true)\n",
      "\n"
     ]
    }
   ],
   "source": [
    "log_df.printSchema()"
   ]
  },
  {
   "cell_type": "raw",
   "id": "a1e07e7c",
   "metadata": {},
   "source": [
    "log_df.describe().toPandas().transpagente()"
   ]
  },
  {
   "cell_type": "code",
   "execution_count": 10,
   "id": "02de603c",
   "metadata": {},
   "outputs": [],
   "source": [
    "from pyspark.sql.types import *"
   ]
  },
  {
   "cell_type": "markdown",
   "id": "f0888781",
   "metadata": {},
   "source": [
    "### สร้าง FACT"
   ]
  },
  {
   "cell_type": "code",
   "execution_count": 11,
   "id": "0a29fca1",
   "metadata": {},
   "outputs": [],
   "source": [
    "# split dataframe into 2 dataframes\n",
    "fact_df = log_df.select(\"ip\", \"size\", \"status\",\"agent\",\"OS\")\\\n",
    "                .withColumn('size',col('size').cast(FloatType()))\\\n",
    "                .withColumn('status',col('status').cast(IntegerType())).dropna()"
   ]
  },
  {
   "cell_type": "markdown",
   "id": "3ca9fc43",
   "metadata": {},
   "source": [
    "### สร้าง DIM_STATUS"
   ]
  },
  {
   "cell_type": "code",
   "execution_count": 12,
   "id": "d8bfa072",
   "metadata": {},
   "outputs": [],
   "source": [
    "status_dim_df = log_df.select(\"status\").withColumn('status',col('status').cast(IntegerType())).dropna()"
   ]
  },
  {
   "cell_type": "code",
   "execution_count": 13,
   "id": "3d6cc7ab",
   "metadata": {},
   "outputs": [
    {
     "name": "stdout",
     "output_type": "stream",
     "text": [
      "root\n",
      " |-- ip: string (nullable = true)\n",
      " |-- size: float (nullable = true)\n",
      " |-- status: integer (nullable = true)\n",
      " |-- agent: string (nullable = true)\n",
      " |-- OS: string (nullable = true)\n",
      "\n"
     ]
    }
   ],
   "source": [
    "fact_df.printSchema()"
   ]
  },
  {
   "cell_type": "code",
   "execution_count": 14,
   "id": "c5773606",
   "metadata": {},
   "outputs": [
    {
     "name": "stdout",
     "output_type": "stream",
     "text": [
      "root\n",
      " |-- status: integer (nullable = true)\n",
      "\n"
     ]
    }
   ],
   "source": [
    "status_dim_df.printSchema()"
   ]
  },
  {
   "cell_type": "code",
   "execution_count": 15,
   "id": "94199178",
   "metadata": {},
   "outputs": [
    {
     "name": "stderr",
     "output_type": "stream",
     "text": [
      "                                                                                \r"
     ]
    },
    {
     "data": {
      "text/plain": [
       "10365152"
      ]
     },
     "execution_count": 15,
     "metadata": {},
     "output_type": "execute_result"
    }
   ],
   "source": [
    "status_dim_df.count()"
   ]
  },
  {
   "cell_type": "code",
   "execution_count": 16,
   "id": "f5546a7d",
   "metadata": {},
   "outputs": [
    {
     "name": "stderr",
     "output_type": "stream",
     "text": [
      "                                                                                \r"
     ]
    },
    {
     "data": {
      "text/plain": [
       "10365152"
      ]
     },
     "execution_count": 16,
     "metadata": {},
     "output_type": "execute_result"
    }
   ],
   "source": [
    "fact_df.count()"
   ]
  },
  {
   "cell_type": "code",
   "execution_count": 17,
   "id": "77f8ab7d",
   "metadata": {},
   "outputs": [
    {
     "name": "stderr",
     "output_type": "stream",
     "text": [
      "[Stage 10:=======================================================>(59 + 1) / 60]\r"
     ]
    },
    {
     "name": "stdout",
     "output_type": "stream",
     "text": [
      "+-------+------------------+\n",
      "|summary|            status|\n",
      "+-------+------------------+\n",
      "|  count|          10365152|\n",
      "|   mean|210.14194890726156|\n",
      "| stddev| 39.21424239699265|\n",
      "|    min|               200|\n",
      "|    max|               504|\n",
      "+-------+------------------+\n",
      "\n"
     ]
    },
    {
     "name": "stderr",
     "output_type": "stream",
     "text": [
      "                                                                                \r"
     ]
    }
   ],
   "source": [
    "status_dim_df.describe().show()"
   ]
  },
  {
   "cell_type": "code",
   "execution_count": 18,
   "id": "6a492f95",
   "metadata": {},
   "outputs": [
    {
     "name": "stderr",
     "output_type": "stream",
     "text": [
      "[Stage 13:=======================================================>(59 + 1) / 60]\r"
     ]
    },
    {
     "name": "stdout",
     "output_type": "stream",
     "text": [
      "+-------+-------------+------------------+------------------+-------------------+--------+\n",
      "|summary|           ip|              size|            status|              agent|      OS|\n",
      "+-------+-------------+------------------+------------------+-------------------+--------+\n",
      "|  count|     10365152|          10365152|          10365152|           10365152|10365152|\n",
      "|   mean|         null|12433.109789996326|210.14194890726156|  5.008038585209003|    null|\n",
      "| stddev|         null|28126.544539532006| 39.21424239699265|0.08933298077682743|    null|\n",
      "|    min|1.132.107.223|               0.0|               200|                   |        |\n",
      "|    max|99.99.188.195|         1249490.0|               504|                6.0|     iOS|\n",
      "+-------+-------------+------------------+------------------+-------------------+--------+\n",
      "\n"
     ]
    },
    {
     "name": "stderr",
     "output_type": "stream",
     "text": [
      "                                                                                \r"
     ]
    }
   ],
   "source": [
    "fact_df.describe().show()"
   ]
  },
  {
   "cell_type": "markdown",
   "id": "c56ae557",
   "metadata": {},
   "source": []
  },
  {
   "cell_type": "code",
   "execution_count": 19,
   "id": "1991e31a",
   "metadata": {},
   "outputs": [],
   "source": [
    "# add primary key and foreign key to the dataframes\n",
    "new_status_dim_df = status_dim_df.distinct().withColumn(\"status_id\", monotonically_increasing_id())\n",
    "\n",
    "# join dataframes on foreign key and primary key\n",
    "fact_status_df = fact_df.join(new_status_dim_df, fact_df.status == new_status_dim_df.status, \"inner\")\\\n",
    ".select(fact_df[\"*\"], new_status_dim_df[\"status_id\"])"
   ]
  },
  {
   "cell_type": "code",
   "execution_count": 20,
   "id": "c4b7b5a5",
   "metadata": {},
   "outputs": [
    {
     "name": "stderr",
     "output_type": "stream",
     "text": [
      "                                                                                \r"
     ]
    },
    {
     "data": {
      "text/plain": [
       "10365152"
      ]
     },
     "execution_count": 20,
     "metadata": {},
     "output_type": "execute_result"
    }
   ],
   "source": [
    "fact_status_df.count()"
   ]
  },
  {
   "cell_type": "code",
   "execution_count": 21,
   "id": "e96607ee",
   "metadata": {},
   "outputs": [
    {
     "name": "stderr",
     "output_type": "stream",
     "text": [
      "[Stage 45:=======================================================>(74 + 1) / 75]\r"
     ]
    },
    {
     "name": "stdout",
     "output_type": "stream",
     "text": [
      "+------+-------+\n",
      "|status|  count|\n",
      "+------+-------+\n",
      "|   206|      3|\n",
      "|   500|  14266|\n",
      "|   504|    103|\n",
      "|   502|    798|\n",
      "|   301|  67553|\n",
      "|   400|    586|\n",
      "|   403|   5634|\n",
      "|   404| 105011|\n",
      "|   408|    112|\n",
      "|   414|     17|\n",
      "|   200|9579825|\n",
      "|   304| 340228|\n",
      "|   499|  50852|\n",
      "|   302| 199835|\n",
      "|   405|      6|\n",
      "|   401|    323|\n",
      "+------+-------+\n",
      "\n"
     ]
    },
    {
     "name": "stderr",
     "output_type": "stream",
     "text": [
      "                                                                                \r"
     ]
    }
   ],
   "source": [
    "fact_status_df.groupBy('status').count().show()"
   ]
  },
  {
   "cell_type": "code",
   "execution_count": 22,
   "id": "41b4a868",
   "metadata": {},
   "outputs": [
    {
     "name": "stderr",
     "output_type": "stream",
     "text": [
      "                                                                                \r"
     ]
    },
    {
     "name": "stdout",
     "output_type": "stream",
     "text": [
      "+------+-------------+\n",
      "|status|    status_id|\n",
      "+------+-------------+\n",
      "|   206| 369367187456|\n",
      "|   500| 463856467968|\n",
      "|   504| 635655159808|\n",
      "|   502| 730144440320|\n",
      "|   301| 867583393792|\n",
      "|   400| 996432412672|\n",
      "|   403|1030792151040|\n",
      "|   404|1073741824000|\n",
      "|   408|1168231104512|\n",
      "|   414|1314259992576|\n",
      "|   200|1331439861760|\n",
      "|   304|1374389534720|\n",
      "|   499|1477468749824|\n",
      "|   302|1563368095744|\n",
      "|   405|1571958030336|\n",
      "|   401|1709396983808|\n",
      "+------+-------------+\n",
      "\n"
     ]
    }
   ],
   "source": [
    "new_status_dim_df.show()"
   ]
  },
  {
   "cell_type": "code",
   "execution_count": 23,
   "id": "9510a1bb",
   "metadata": {},
   "outputs": [
    {
     "name": "stderr",
     "output_type": "stream",
     "text": [
      "                                                                                \r"
     ]
    },
    {
     "name": "stdout",
     "output_type": "stream",
     "text": [
      "+---------------+--------+------+--------------------+-------+------------+\n",
      "|             ip|    size|status|               agent|     OS|   status_id|\n",
      "+---------------+--------+------+--------------------+-------+------------+\n",
      "| 87.107.218.136|    64.0|   206|4.0 (compatible; ...|Windows|369367187456|\n",
      "| 87.107.218.136|    64.0|   206|4.0 (compatible; ...|Windows|369367187456|\n",
      "| 185.118.137.99|202772.0|   206|5.0 (Windows NT 6...|Windows|369367187456|\n",
      "|  54.38.212.174| 33077.0|   500|5.0 (Windows NT 1...|Windows|463856467968|\n",
      "|  134.19.177.20|    31.0|   500|5.0 (Macintosh; I...|       |463856467968|\n",
      "|    5.217.85.37|    31.0|   500|5.0 (Windows NT 1...|Windows|463856467968|\n",
      "|151.239.241.163|   857.0|   500|5.0 (Windows NT 6...|Windows|463856467968|\n",
      "|    91.99.30.32| 34189.0|   500|5.0 (Windows NT 1...|Windows|463856467968|\n",
      "| 178.252.143.10|    31.0|   500|5.0 (Windows NT 1...|Windows|463856467968|\n",
      "|  104.222.32.94| 34093.0|   500|5.0 (Windows NT 1...|Windows|463856467968|\n",
      "|    91.99.30.32| 32826.0|   500|5.0 (Windows NT 1...|Windows|463856467968|\n",
      "|   84.241.11.57|     0.0|   500|5.0 (Windows NT 1...|Windows|463856467968|\n",
      "|151.239.241.163| 35112.0|   500|5.0 (Windows NT 6...|Windows|463856467968|\n",
      "|151.239.241.163|  1086.0|   500|5.0 (Windows NT 6...|Windows|463856467968|\n",
      "|151.239.241.163| 35137.0|   500|5.0 (Windows NT 6...|Windows|463856467968|\n",
      "|151.239.241.163| 35111.0|   500|5.0 (Windows NT 6...|Windows|463856467968|\n",
      "|151.239.241.163| 35108.0|   500|5.0 (Windows NT 6...|Windows|463856467968|\n",
      "|151.239.241.163| 34686.0|   500|5.0 (Windows NT 6...|Windows|463856467968|\n",
      "|   46.224.44.43|    31.0|   500|5.0 (Windows NT 6...|Windows|463856467968|\n",
      "|  85.133.238.88|    31.0|   500|5.0 (Windows NT 1...|Windows|463856467968|\n",
      "+---------------+--------+------+--------------------+-------+------------+\n",
      "only showing top 20 rows\n",
      "\n"
     ]
    }
   ],
   "source": [
    "fact_status_df.show()"
   ]
  },
  {
   "cell_type": "code",
   "execution_count": 24,
   "id": "2d9fa30c",
   "metadata": {},
   "outputs": [
    {
     "name": "stderr",
     "output_type": "stream",
     "text": [
      "                                                                                \r"
     ]
    },
    {
     "data": {
      "text/plain": [
       "10365152"
      ]
     },
     "execution_count": 24,
     "metadata": {},
     "output_type": "execute_result"
    }
   ],
   "source": [
    "fact_status_df.count()"
   ]
  },
  {
   "cell_type": "code",
   "execution_count": 25,
   "id": "28ed71fe",
   "metadata": {},
   "outputs": [],
   "source": [
    "##final_fact_status_df = fact_status_df.drop('status')\n",
    "final_fact_status_df = fact_status_df"
   ]
  },
  {
   "cell_type": "code",
   "execution_count": 26,
   "id": "bd0d88a1",
   "metadata": {},
   "outputs": [],
   "source": [
    "result_join_df = final_fact_status_df.join(new_status_dim_df,on=[final_fact_status_df.status_id == new_status_dim_df.status_id])"
   ]
  },
  {
   "cell_type": "raw",
   "id": "5fef2f71",
   "metadata": {},
   "source": [
    "result_join_df.show()"
   ]
  },
  {
   "cell_type": "raw",
   "id": "1fc330fb",
   "metadata": {},
   "source": [
    "result_join_df.describe().toPandas().transpagente()"
   ]
  },
  {
   "cell_type": "raw",
   "id": "f55af20a",
   "metadata": {},
   "source": [
    "log_df"
   ]
  },
  {
   "cell_type": "markdown",
   "id": "d37673f8",
   "metadata": {},
   "source": [
    "### สร้าง DIM_AGENT"
   ]
  },
  {
   "cell_type": "code",
   "execution_count": 27,
   "id": "25d56aea",
   "metadata": {},
   "outputs": [],
   "source": [
    "# split dataframe into agent Dim\n",
    "agent_dim_df = log_df.select(\"agent\",\"OS\")\\\n",
    ".withColumn('agent',col('agent').cast(StringType())).dropna()\\\n",
    ".withColumn('OS',col('OS').cast(StringType())).dropna()"
   ]
  },
  {
   "cell_type": "code",
   "execution_count": 28,
   "id": "827b89c7",
   "metadata": {},
   "outputs": [
    {
     "name": "stdout",
     "output_type": "stream",
     "text": [
      "root\n",
      " |-- agent: string (nullable = true)\n",
      " |-- OS: string (nullable = true)\n",
      "\n"
     ]
    }
   ],
   "source": [
    "agent_dim_df.printSchema()"
   ]
  },
  {
   "cell_type": "code",
   "execution_count": 29,
   "id": "ded72b86",
   "metadata": {},
   "outputs": [
    {
     "name": "stderr",
     "output_type": "stream",
     "text": [
      "                                                                                \r"
     ]
    },
    {
     "data": {
      "text/plain": [
       "10365152"
      ]
     },
     "execution_count": 29,
     "metadata": {},
     "output_type": "execute_result"
    }
   ],
   "source": [
    "agent_dim_df.count()"
   ]
  },
  {
   "cell_type": "code",
   "execution_count": 30,
   "id": "ee8b05d5",
   "metadata": {},
   "outputs": [
    {
     "name": "stderr",
     "output_type": "stream",
     "text": [
      "[Stage 91:====================================================>   (56 + 4) / 60]\r"
     ]
    },
    {
     "name": "stdout",
     "output_type": "stream",
     "text": [
      "+-------+------------------+--------+\n",
      "|summary|             agent|      OS|\n",
      "+-------+------------------+--------+\n",
      "|  count|          10365152|10365152|\n",
      "|   mean| 5.008038585209003|    null|\n",
      "| stddev|0.0893329807768274|    null|\n",
      "|    min|                  |        |\n",
      "|    max|               6.0|     iOS|\n",
      "+-------+------------------+--------+\n",
      "\n"
     ]
    },
    {
     "name": "stderr",
     "output_type": "stream",
     "text": [
      "                                                                                \r"
     ]
    }
   ],
   "source": [
    "agent_dim_df.describe().show()"
   ]
  },
  {
   "cell_type": "code",
   "execution_count": 31,
   "id": "58b105ef",
   "metadata": {},
   "outputs": [],
   "source": [
    "# add primary key and foreign key to the dataframes\n",
    "new_agent_dim_df = agent_dim_df.distinct().withColumn(\"agent_id\", monotonically_increasing_id())\n",
    "\n",
    "# join dataframes on foreign key and primary key\n",
    "fact_status_agent_df = final_fact_status_df.join(new_agent_dim_df, final_fact_status_df.agent == new_agent_dim_df.agent, \"inner\")\\\n",
    ".select(final_fact_status_df[\"*\"], new_agent_dim_df[\"agent_id\"])"
   ]
  },
  {
   "cell_type": "code",
   "execution_count": 32,
   "id": "d3d096ec",
   "metadata": {},
   "outputs": [
    {
     "name": "stderr",
     "output_type": "stream",
     "text": [
      "                                                                                \r"
     ]
    },
    {
     "data": {
      "text/plain": [
       "15397947"
      ]
     },
     "execution_count": 32,
     "metadata": {},
     "output_type": "execute_result"
    }
   ],
   "source": [
    "fact_status_agent_df.count()"
   ]
  },
  {
   "cell_type": "code",
   "execution_count": 33,
   "id": "73bcdce7",
   "metadata": {},
   "outputs": [
    {
     "name": "stderr",
     "output_type": "stream",
     "text": [
      "[Stage 109:=====================================================> (58 + 2) / 60]\r"
     ]
    },
    {
     "name": "stdout",
     "output_type": "stream",
     "text": [
      "+--------------------+-----+\n",
      "|               agent|count|\n",
      "+--------------------+-----+\n",
      "|5.0 (Android 4.2....|  122|\n",
      "|5.0 (Android 4.4....|   89|\n",
      "|5.0 (Android 4.4....|   12|\n",
      "|5.0 (Android 4.4....| 1287|\n",
      "|5.0 (Android 7.0;...|   27|\n",
      "|5.0 (BB10; Touch)...|    1|\n",
      "|5.0 (Linux; Andro...|  249|\n",
      "|5.0 (Linux; Andro...|    2|\n",
      "|5.0 (Linux; Andro...|   19|\n",
      "|5.0 (Linux; Andro...|   95|\n",
      "|5.0 (Linux; Andro...|    1|\n",
      "|5.0 (Linux; Andro...|   31|\n",
      "|5.0 (Linux; Andro...|   34|\n",
      "|5.0 (Linux; Andro...|    2|\n",
      "|5.0 (Linux; Andro...|    1|\n",
      "|5.0 (Linux; Andro...|   77|\n",
      "|5.0 (Linux; Andro...|    1|\n",
      "|5.0 (Linux; Andro...|   41|\n",
      "|5.0 (Linux; Andro...|   37|\n",
      "|5.0 (Linux; Andro...|   37|\n",
      "+--------------------+-----+\n",
      "only showing top 20 rows\n",
      "\n"
     ]
    },
    {
     "name": "stderr",
     "output_type": "stream",
     "text": [
      "                                                                                \r"
     ]
    }
   ],
   "source": [
    "fact_status_agent_df.groupBy('agent').count().show()"
   ]
  },
  {
   "cell_type": "code",
   "execution_count": 34,
   "id": "9dd60b94",
   "metadata": {},
   "outputs": [
    {
     "name": "stderr",
     "output_type": "stream",
     "text": [
      "[Stage 113:=====================================================> (58 + 2) / 60]\r"
     ]
    },
    {
     "name": "stdout",
     "output_type": "stream",
     "text": [
      "+--------------------+-------+--------+\n",
      "|               agent|     OS|agent_id|\n",
      "+--------------------+-------+--------+\n",
      "|5.0 (Linux; Andro...|  Linux|       0|\n",
      "|5.0 (Linux; Andro...|  Linux|       1|\n",
      "|5.0 (Windows NT 6...|Windows|       2|\n",
      "|5.0 (Linux; Andro...|  Linux|       3|\n",
      "|5.0 (Linux; Andro...|  Linux|       4|\n",
      "|5.0 (Linux; Andro...|  Linux|       5|\n",
      "|5.0 (Linux; U; An...|  Linux|       6|\n",
      "|5.0 (Linux; Andro...|  Linux|       7|\n",
      "|5.0 (Linux; Andro...|  Linux|       8|\n",
      "|5.0 (Linux; Andro...|  Linux|       9|\n",
      "|5.0 (Linux; Andro...|  Linux|      10|\n",
      "|5.0 (Windows NT 6...|Windows|      11|\n",
      "|5.0 (Linux; U; An...|  Linux|      12|\n",
      "|5.0 (Linux; Andro...|  Linux|      13|\n",
      "|5.0 (Linux; Andro...|  Linux|      14|\n",
      "|5.0 (Linux; Andro...|  Linux|      15|\n",
      "|5.0 (Linux; Andro...|  Linux|      16|\n",
      "|5.0 (Linux; Andro...|  Linux|      17|\n",
      "|5.0 (Linux; Andro...|  Linux|      18|\n",
      "|5.0 (Linux; Andro...|  Linux|      19|\n",
      "+--------------------+-------+--------+\n",
      "only showing top 20 rows\n",
      "\n"
     ]
    },
    {
     "name": "stderr",
     "output_type": "stream",
     "text": [
      "                                                                                \r"
     ]
    }
   ],
   "source": [
    "new_agent_dim_df.show()"
   ]
  },
  {
   "cell_type": "code",
   "execution_count": 35,
   "id": "257bd40e",
   "metadata": {},
   "outputs": [
    {
     "name": "stderr",
     "output_type": "stream",
     "text": [
      "[Stage 122:====================================================>(199 + 1) / 200]\r"
     ]
    },
    {
     "name": "stdout",
     "output_type": "stream",
     "text": [
      "+-------------+-------+------+--------------------+-------+-------------+------------+\n",
      "|           ip|   size|status|               agent|     OS|    status_id|    agent_id|\n",
      "+-------------+-------+------+--------------------+-------+-------------+------------+\n",
      "|37.137.254.94|    0.0|   302|5.0 (Android 4.2....|Android|1563368095744|824633720870|\n",
      "|37.137.120.56|28536.0|   200|5.0 (Android 4.2....|Android|1331439861760|824633720870|\n",
      "|37.137.120.56|15753.0|   200|5.0 (Android 4.2....|Android|1331439861760|824633720870|\n",
      "|37.137.254.94|15705.0|   200|5.0 (Android 4.2....|Android|1331439861760|824633720870|\n",
      "|37.137.120.56| 4120.0|   200|5.0 (Android 4.2....|Android|1331439861760|824633720870|\n",
      "|37.137.120.56|13720.0|   200|5.0 (Android 4.2....|Android|1331439861760|824633720870|\n",
      "|37.137.254.94|  133.0|   200|5.0 (Android 4.2....|Android|1331439861760|824633720870|\n",
      "|37.137.254.94| 7713.0|   200|5.0 (Android 4.2....|Android|1331439861760|824633720870|\n",
      "|37.137.120.56| 3924.0|   200|5.0 (Android 4.2....|Android|1331439861760|824633720870|\n",
      "|37.137.120.56| 4401.0|   200|5.0 (Android 4.2....|Android|1331439861760|824633720870|\n",
      "|37.137.120.56| 5384.0|   200|5.0 (Android 4.2....|Android|1331439861760|824633720870|\n",
      "|37.137.120.56| 4120.0|   200|5.0 (Android 4.2....|Android|1331439861760|824633720870|\n",
      "|37.137.254.94| 5807.0|   200|5.0 (Android 4.2....|Android|1331439861760|824633720870|\n",
      "|37.137.120.56| 7663.0|   200|5.0 (Android 4.2....|Android|1331439861760|824633720870|\n",
      "| 93.114.26.83|62894.0|   200|5.0 (Android 4.2....|Android|1331439861760|824633720870|\n",
      "|37.137.120.56| 4156.0|   200|5.0 (Android 4.2....|Android|1331439861760|824633720870|\n",
      "|37.137.120.56| 4120.0|   200|5.0 (Android 4.2....|Android|1331439861760|824633720870|\n",
      "|37.137.120.56|17144.0|   200|5.0 (Android 4.2....|Android|1331439861760|824633720870|\n",
      "|37.137.120.56|15782.0|   200|5.0 (Android 4.2....|Android|1331439861760|824633720870|\n",
      "|37.137.120.56|17477.0|   200|5.0 (Android 4.2....|Android|1331439861760|824633720870|\n",
      "+-------------+-------+------+--------------------+-------+-------------+------------+\n",
      "only showing top 20 rows\n",
      "\n"
     ]
    },
    {
     "name": "stderr",
     "output_type": "stream",
     "text": [
      "                                                                                \r"
     ]
    }
   ],
   "source": [
    "fact_status_agent_df.show()"
   ]
  },
  {
   "cell_type": "code",
   "execution_count": 36,
   "id": "0bc2742a",
   "metadata": {},
   "outputs": [
    {
     "name": "stderr",
     "output_type": "stream",
     "text": [
      "                                                                                \r"
     ]
    },
    {
     "data": {
      "text/plain": [
       "15397947"
      ]
     },
     "execution_count": 36,
     "metadata": {},
     "output_type": "execute_result"
    }
   ],
   "source": [
    "fact_status_agent_df.count()"
   ]
  },
  {
   "cell_type": "code",
   "execution_count": 37,
   "id": "be0665c2",
   "metadata": {},
   "outputs": [],
   "source": [
    "##final_fact_status_agent_df = fact_status_agent_df.drop('agent')\n",
    "final_fact_status_agent_df = fact_status_agent_df"
   ]
  },
  {
   "cell_type": "code",
   "execution_count": 38,
   "id": "327e544a",
   "metadata": {},
   "outputs": [
    {
     "data": {
      "text/plain": [
       "DataFrame[ip: string, size: float, status: int, agent: string, OS: string, status_id: bigint, agent_id: bigint]"
      ]
     },
     "execution_count": 38,
     "metadata": {},
     "output_type": "execute_result"
    }
   ],
   "source": [
    "final_fact_status_agent_df"
   ]
  },
  {
   "cell_type": "code",
   "execution_count": 39,
   "id": "a8981c51",
   "metadata": {},
   "outputs": [
    {
     "data": {
      "text/plain": [
       "DataFrame[agent: string, OS: string, agent_id: bigint]"
      ]
     },
     "execution_count": 39,
     "metadata": {},
     "output_type": "execute_result"
    }
   ],
   "source": [
    "new_agent_dim_df"
   ]
  },
  {
   "cell_type": "code",
   "execution_count": null,
   "id": "67706faf",
   "metadata": {},
   "outputs": [],
   "source": []
  },
  {
   "cell_type": "code",
   "execution_count": 40,
   "id": "c9cdeb9c",
   "metadata": {},
   "outputs": [],
   "source": [
    "result_join_df = final_fact_status_agent_df.join(new_agent_dim_df,on=[final_fact_status_agent_df.agent_id == new_agent_dim_df.agent_id])\\\n",
    ".join(new_status_dim_df,on=[final_fact_status_agent_df.status_id == new_status_dim_df.status_id])"
   ]
  },
  {
   "cell_type": "code",
   "execution_count": 41,
   "id": "1f375bef",
   "metadata": {},
   "outputs": [
    {
     "name": "stderr",
     "output_type": "stream",
     "text": [
      "[Stage 145:====================================================>(199 + 1) / 200]\r"
     ]
    },
    {
     "name": "stdout",
     "output_type": "stream",
     "text": [
      "+---------------+----+------+--------------------+-------+-------------+------------+--------------------+-------+------------+------+-------------+\n",
      "|             ip|size|status|               agent|     OS|    status_id|    agent_id|               agent|     OS|    agent_id|status|    status_id|\n",
      "+---------------+----+------+--------------------+-------+-------------+------------+--------------------+-------+------------+------+-------------+\n",
      "|  5.120.224.223| 0.0|   302|5.0 (Linux; Andro...|  Linux|1563368095744|  8589934658|5.0 (Linux; Andro...|  Linux|  8589934658|   302|1563368095744|\n",
      "|  151.239.48.53| 0.0|   302|5.0 (iPad; CPU OS...|    iOS|1563368095744| 68719476787|5.0 (Linux; Andro...|  Linux| 68719476787|   302|1563368095744|\n",
      "| 151.239.46.207| 0.0|   302|5.0 (iPad; CPU OS...|    iOS|1563368095744| 68719476787|5.0 (Linux; Andro...|  Linux| 68719476787|   302|1563368095744|\n",
      "|   5.116.82.224| 0.0|   302|5.0 (Linux; Andro...|  Linux|1563368095744| 68719476798|5.0 (Linux; Andro...|  Linux| 68719476798|   302|1563368095744|\n",
      "|   5.116.82.224| 0.0|   302|5.0 (Linux; Andro...|  Linux|1563368095744| 68719476798|5.0 (Linux; Andro...|  Linux| 68719476798|   302|1563368095744|\n",
      "|   5.116.82.224| 0.0|   302|5.0 (Linux; Andro...|  Linux|1563368095744| 68719476798|5.0 (Linux; Andro...|  Linux| 68719476798|   302|1563368095744|\n",
      "|   5.116.82.224| 0.0|   302|5.0 (Linux; Andro...|  Linux|1563368095744| 68719476798|5.0 (Linux; Andro...|  Linux| 68719476798|   302|1563368095744|\n",
      "|   5.116.82.224| 0.0|   302|5.0 (Linux; Andro...|  Linux|1563368095744| 68719476798|5.0 (Linux; Andro...|  Linux| 68719476798|   302|1563368095744|\n",
      "|  89.235.91.243| 0.0|   302|5.0 (Linux; Andro...|  Linux|1563368095744| 77309411361|5.0 (Linux; Andro...|  Linux| 77309411361|   302|1563368095744|\n",
      "|149.202.172.132| 0.0|   302|5.0 (Linux; Andro...|  Linux|1563368095744|137438953476|5.0 (Linux; Andro...|  Linux|137438953476|   302|1563368095744|\n",
      "|149.202.172.132| 0.0|   302|5.0 (Linux; Andro...|  Linux|1563368095744|137438953476|5.0 (Linux; Andro...|  Linux|137438953476|   302|1563368095744|\n",
      "|     5.75.96.35| 0.0|   302|5.0 (Windows NT 6...|Windows|1563368095744|146028888066|5.0 (Windows NT 6...|Windows|146028888066|   302|1563368095744|\n",
      "| 151.242.59.201| 0.0|   302|5.0 (Windows NT 6...|Windows|1563368095744|146028888066|5.0 (Windows NT 6...|Windows|146028888066|   302|1563368095744|\n",
      "|    2.176.80.98| 0.0|   302|5.0 (Windows NT 6...|Windows|1563368095744|146028888066|5.0 (Windows NT 6...|Windows|146028888066|   302|1563368095744|\n",
      "|   2.180.238.54| 0.0|   302|5.0 (Windows NT 6...|Windows|1563368095744|146028888066|5.0 (Windows NT 6...|Windows|146028888066|   302|1563368095744|\n",
      "|   5.236.107.22| 0.0|   302|5.0 (Windows NT 6...|Windows|1563368095744|146028888066|5.0 (Windows NT 6...|Windows|146028888066|   302|1563368095744|\n",
      "|   2.179.138.35| 0.0|   302|5.0 (Windows NT 6...|Windows|1563368095744|146028888066|5.0 (Windows NT 6...|Windows|146028888066|   302|1563368095744|\n",
      "|   5.236.107.22| 0.0|   302|5.0 (Windows NT 6...|Windows|1563368095744|146028888066|5.0 (Windows NT 6...|Windows|146028888066|   302|1563368095744|\n",
      "|  5.232.134.194| 0.0|   302|5.0 (Windows NT 6...|Windows|1563368095744|146028888066|5.0 (Windows NT 6...|Windows|146028888066|   302|1563368095744|\n",
      "| 151.242.59.201| 0.0|   302|5.0 (Windows NT 6...|Windows|1563368095744|146028888066|5.0 (Windows NT 6...|Windows|146028888066|   302|1563368095744|\n",
      "+---------------+----+------+--------------------+-------+-------------+------------+--------------------+-------+------------+------+-------------+\n",
      "only showing top 20 rows\n",
      "\n"
     ]
    },
    {
     "name": "stderr",
     "output_type": "stream",
     "text": [
      "                                                                                \r"
     ]
    }
   ],
   "source": [
    "result_join_df.show()"
   ]
  },
  {
   "cell_type": "code",
   "execution_count": 42,
   "id": "1e4b872f",
   "metadata": {},
   "outputs": [
    {
     "name": "stderr",
     "output_type": "stream",
     "text": [
      "                                                                                \r"
     ]
    },
    {
     "data": {
      "text/html": [
       "<div>\n",
       "<style scoped>\n",
       "    .dataframe tbody tr th:only-of-type {\n",
       "        vertical-align: middle;\n",
       "    }\n",
       "\n",
       "    .dataframe tbody tr th {\n",
       "        vertical-align: top;\n",
       "    }\n",
       "\n",
       "    .dataframe thead th {\n",
       "        text-align: right;\n",
       "    }\n",
       "</style>\n",
       "<table border=\"1\" class=\"dataframe\">\n",
       "  <thead>\n",
       "    <tr style=\"text-align: right;\">\n",
       "      <th></th>\n",
       "      <th>0</th>\n",
       "      <th>1</th>\n",
       "      <th>2</th>\n",
       "      <th>3</th>\n",
       "      <th>4</th>\n",
       "    </tr>\n",
       "  </thead>\n",
       "  <tbody>\n",
       "    <tr>\n",
       "      <th>summary</th>\n",
       "      <td>count</td>\n",
       "      <td>mean</td>\n",
       "      <td>stddev</td>\n",
       "      <td>min</td>\n",
       "      <td>max</td>\n",
       "    </tr>\n",
       "    <tr>\n",
       "      <th>ip</th>\n",
       "      <td>15397947</td>\n",
       "      <td>None</td>\n",
       "      <td>None</td>\n",
       "      <td>1.132.107.223</td>\n",
       "      <td>99.99.188.195</td>\n",
       "    </tr>\n",
       "    <tr>\n",
       "      <th>size</th>\n",
       "      <td>15397947</td>\n",
       "      <td>12566.818527820624</td>\n",
       "      <td>27636.460037583496</td>\n",
       "      <td>0.0</td>\n",
       "      <td>1249490.0</td>\n",
       "    </tr>\n",
       "    <tr>\n",
       "      <th>status</th>\n",
       "      <td>15397947</td>\n",
       "      <td>216.61880587067873</td>\n",
       "      <td>47.92632606752844</td>\n",
       "      <td>200</td>\n",
       "      <td>504</td>\n",
       "    </tr>\n",
       "    <tr>\n",
       "      <th>agent</th>\n",
       "      <td>15397947</td>\n",
       "      <td>5.008038585209003</td>\n",
       "      <td>0.08933298077682761</td>\n",
       "      <td></td>\n",
       "      <td>6.0</td>\n",
       "    </tr>\n",
       "    <tr>\n",
       "      <th>OS</th>\n",
       "      <td>15397947</td>\n",
       "      <td>None</td>\n",
       "      <td>None</td>\n",
       "      <td></td>\n",
       "      <td>iOS</td>\n",
       "    </tr>\n",
       "    <tr>\n",
       "      <th>status_id</th>\n",
       "      <td>15397947</td>\n",
       "      <td>1.327651978770148E12</td>\n",
       "      <td>7.905064580893845E10</td>\n",
       "      <td>369367187456</td>\n",
       "      <td>1709396983808</td>\n",
       "    </tr>\n",
       "    <tr>\n",
       "      <th>agent_id</th>\n",
       "      <td>15397947</td>\n",
       "      <td>7.020609533020508E11</td>\n",
       "      <td>5.2277036211666364E11</td>\n",
       "      <td>0</td>\n",
       "      <td>1709396983956</td>\n",
       "    </tr>\n",
       "    <tr>\n",
       "      <th>agent</th>\n",
       "      <td>15397947</td>\n",
       "      <td>5.002900232018561</td>\n",
       "      <td>0.05379125427530267</td>\n",
       "      <td></td>\n",
       "      <td>6.0</td>\n",
       "    </tr>\n",
       "    <tr>\n",
       "      <th>OS</th>\n",
       "      <td>15397947</td>\n",
       "      <td>None</td>\n",
       "      <td>None</td>\n",
       "      <td></td>\n",
       "      <td>iOS</td>\n",
       "    </tr>\n",
       "    <tr>\n",
       "      <th>agent_id</th>\n",
       "      <td>15397947</td>\n",
       "      <td>7.020609533020508E11</td>\n",
       "      <td>5.2277036211666364E11</td>\n",
       "      <td>0</td>\n",
       "      <td>1709396983956</td>\n",
       "    </tr>\n",
       "    <tr>\n",
       "      <th>status</th>\n",
       "      <td>15397947</td>\n",
       "      <td>216.61880587067873</td>\n",
       "      <td>47.92632606752844</td>\n",
       "      <td>200</td>\n",
       "      <td>504</td>\n",
       "    </tr>\n",
       "    <tr>\n",
       "      <th>status_id</th>\n",
       "      <td>15397947</td>\n",
       "      <td>1.327651978770148E12</td>\n",
       "      <td>7.905064580893845E10</td>\n",
       "      <td>369367187456</td>\n",
       "      <td>1709396983808</td>\n",
       "    </tr>\n",
       "  </tbody>\n",
       "</table>\n",
       "</div>"
      ],
      "text/plain": [
       "                  0                     1                      2  \\\n",
       "summary       count                  mean                 stddev   \n",
       "ip         15397947                  None                   None   \n",
       "size       15397947    12566.818527820624     27636.460037583496   \n",
       "status     15397947    216.61880587067873      47.92632606752844   \n",
       "agent      15397947     5.008038585209003    0.08933298077682761   \n",
       "OS         15397947                  None                   None   \n",
       "status_id  15397947  1.327651978770148E12   7.905064580893845E10   \n",
       "agent_id   15397947  7.020609533020508E11  5.2277036211666364E11   \n",
       "agent      15397947     5.002900232018561    0.05379125427530267   \n",
       "OS         15397947                  None                   None   \n",
       "agent_id   15397947  7.020609533020508E11  5.2277036211666364E11   \n",
       "status     15397947    216.61880587067873      47.92632606752844   \n",
       "status_id  15397947  1.327651978770148E12   7.905064580893845E10   \n",
       "\n",
       "                       3              4  \n",
       "summary              min            max  \n",
       "ip         1.132.107.223  99.99.188.195  \n",
       "size                 0.0      1249490.0  \n",
       "status               200            504  \n",
       "agent                               6.0  \n",
       "OS                                  iOS  \n",
       "status_id   369367187456  1709396983808  \n",
       "agent_id               0  1709396983956  \n",
       "agent                               6.0  \n",
       "OS                                  iOS  \n",
       "agent_id               0  1709396983956  \n",
       "status               200            504  \n",
       "status_id   369367187456  1709396983808  "
      ]
     },
     "execution_count": 42,
     "metadata": {},
     "output_type": "execute_result"
    }
   ],
   "source": [
    "result_join_df.describe().toPandas().transpose()"
   ]
  },
  {
   "cell_type": "raw",
   "id": "cb874128",
   "metadata": {},
   "source": [
    "result_join_df.groupBy('agent').count().orderBy('count',ascending=False).show(100, truncate=False)"
   ]
  },
  {
   "cell_type": "raw",
   "id": "8a0b5a8e",
   "metadata": {},
   "source": [
    "log_df.groupBy('agent').count().orderBy('count',ascending=False).show(100, truncate=False)"
   ]
  },
  {
   "cell_type": "raw",
   "id": "07c019c1",
   "metadata": {},
   "source": [
    "agent_dim_df.groupBy('agent').count().orderBy('count',ascending=False).show(100, truncate=False)"
   ]
  },
  {
   "cell_type": "code",
   "execution_count": null,
   "id": "899c239e",
   "metadata": {},
   "outputs": [],
   "source": []
  }
 ],
 "metadata": {
  "kernelspec": {
   "display_name": "Python 3 (ipykernel)",
   "language": "python",
   "name": "python3"
  },
  "language_info": {
   "codemirror_mode": {
    "name": "ipython",
    "version": 3
   },
   "file_extension": ".py",
   "mimetype": "text/x-python",
   "name": "python",
   "nbconvert_exporter": "python",
   "pygments_lexer": "ipython3",
   "version": "3.9.2"
  }
 },
 "nbformat": 4,
 "nbformat_minor": 5
}
