{
 "cells": [
  {
   "cell_type": "raw",
   "id": "9f7e7d0d",
   "metadata": {},
   "source": [
    "from pyspark.sql import SparkSession\n",
    "\n",
    "spark = SparkSession.\\\n",
    "        builder.\\\n",
    "        appName(\"จาก raw data สู่ Disk\").\\\n",
    "        master(\"spark://spark-master:7077\").config('spark.jars.packages', 'com.microsoft.azure:spark-mssql-connector:1.0.2').getOrCreate()"
   ]
  },
  {
   "cell_type": "code",
   "execution_count": 1,
   "id": "4d7dd354",
   "metadata": {},
   "outputs": [
    {
     "name": "stderr",
     "output_type": "stream",
     "text": [
      "Ivy Default Cache set to: /root/.ivy2/cache\n",
      "The jars for the packages stored in: /root/.ivy2/jars\n",
      ":: loading settings :: url = jar:file:/usr/local/lib/python3.9/dist-packages/pyspark/jars/ivy-2.4.0.jar!/org/apache/ivy/core/settings/ivysettings.xml\n",
      "com.microsoft.azure#spark-mssql-connector added as a dependency\n",
      ":: resolving dependencies :: org.apache.spark#spark-submit-parent-49012082-b132-49f0-a730-ba732c7e7847;1.0\n",
      "\tconfs: [default]\n",
      "\tfound com.microsoft.azure#spark-mssql-connector;1.0.2 in central\n",
      "\tfound com.microsoft.sqlserver#mssql-jdbc;8.4.1.jre8 in central\n",
      ":: resolution report :: resolve 109ms :: artifacts dl 2ms\n",
      "\t:: modules in use:\n",
      "\tcom.microsoft.azure#spark-mssql-connector;1.0.2 from central in [default]\n",
      "\tcom.microsoft.sqlserver#mssql-jdbc;8.4.1.jre8 from central in [default]\n",
      "\t---------------------------------------------------------------------\n",
      "\t|                  |            modules            ||   artifacts   |\n",
      "\t|       conf       | number| search|dwnlded|evicted|| number|dwnlded|\n",
      "\t---------------------------------------------------------------------\n",
      "\t|      default     |   2   |   0   |   0   |   0   ||   2   |   0   |\n",
      "\t---------------------------------------------------------------------\n",
      ":: retrieving :: org.apache.spark#spark-submit-parent-49012082-b132-49f0-a730-ba732c7e7847\n",
      "\tconfs: [default]\n",
      "\t0 artifacts copied, 2 already retrieved (0kB/3ms)\n",
      "23/02/02 14:42:10 WARN NativeCodeLoader: Unable to load native-hadoop library for your platform... using builtin-java classes where applicable\n",
      "Using Spark's default log4j profile: org/apache/spark/log4j-defaults.properties\n",
      "Setting default log level to \"WARN\".\n",
      "To adjust logging level use sc.setLogLevel(newLevel). For SparkR, use setLogLevel(newLevel).\n"
     ]
    }
   ],
   "source": [
    "from pyspark.sql import SparkSession\n",
    "\n",
    "spark = SparkSession.\\\n",
    "        builder.\\\n",
    "        appName(\"จาก raw data สู่ Disk\").\\\n",
    "        master(\"spark://spark-master:7077\").\\\n",
    "        config(\"spark.executor.memory\", \"3000m\").\\\n",
    "        config(\"spark.executor.cores\", \"2\").\\\n",
    "        config(\"spark.cores.max\", \"6\").\\\n",
    "        master(\"spark://spark-master:7077\").config('spark.jars.packages', 'com.microsoft.azure:spark-mssql-connector:1.0.2').\\\n",
    "        getOrCreate()"
   ]
  },
  {
   "cell_type": "code",
   "execution_count": 2,
   "id": "d5a52777",
   "metadata": {},
   "outputs": [],
   "source": [
    "# Read the access log file\n",
    "raw_df = spark.read.text(\"access.log\").withColumnRenamed('value','log_text').repartition(60)"
   ]
  },
  {
   "cell_type": "code",
   "execution_count": 3,
   "id": "f19456a9",
   "metadata": {},
   "outputs": [
    {
     "name": "stdout",
     "output_type": "stream",
     "text": [
      "10365152 access.log\n"
     ]
    }
   ],
   "source": [
    "! wc -l access.log"
   ]
  },
  {
   "cell_type": "code",
   "execution_count": 4,
   "id": "b88d06f9",
   "metadata": {},
   "outputs": [
    {
     "name": "stderr",
     "output_type": "stream",
     "text": [
      "                                                                                \r"
     ]
    },
    {
     "data": {
      "text/plain": [
       "10365152"
      ]
     },
     "execution_count": 4,
     "metadata": {},
     "output_type": "execute_result"
    }
   ],
   "source": [
    "raw_df.count()"
   ]
  },
  {
   "cell_type": "code",
   "execution_count": 5,
   "id": "7156afc7",
   "metadata": {},
   "outputs": [
    {
     "data": {
      "text/plain": [
       "60"
      ]
     },
     "execution_count": 5,
     "metadata": {},
     "output_type": "execute_result"
    }
   ],
   "source": [
    "raw_df.rdd.getNumPartitions()"
   ]
  },
  {
   "cell_type": "code",
   "execution_count": 6,
   "id": "fd70e16b",
   "metadata": {},
   "outputs": [],
   "source": [
    "### หลังจากบรรทัดนี้เป็นฝีมือ ChatGPT-3"
   ]
  },
  {
   "cell_type": "code",
   "execution_count": 7,
   "id": "d365dae5",
   "metadata": {},
   "outputs": [],
   "source": [
    "from pyspark.sql.functions import regexp_extract,col,monotonically_increasing_id, when, udf, regexp_replace"
   ]
  },
  {
   "cell_type": "code",
   "execution_count": 8,
   "id": "5097bad5",
   "metadata": {},
   "outputs": [],
   "source": [
    "# Extract feature columns using regular expressions\n",
    "log_df = raw_df.withColumn(\"ip\", regexp_extract(col(\"log_text\"), \"^([\\\\d.]+)\", 1)) \\\n",
    "    .withColumn(\"request_type\", regexp_extract(\"log_text\", r\"\\\"(.*?)\\\"\", 1)) \\\n",
    ".withColumn(\"status\", regexp_extract(\"log_text\", r\"\\\"\\s+(\\d+)\", 1))\\\n",
    ".withColumn(\"size\", regexp_extract(\"log_text\", r\"\\\"\\s+\\d+\\s+(\\d+)\", 1))\\\n",
    "    .withColumn(\"timestamp\", regexp_extract(col(\"log_text\"), r'\\[(.*?)\\+', 1)) \\\n",
    "    .withColumn(\"timezone\", regexp_extract(col(\"log_text\"), \"\\\\[.+?\\\\s(.+?)\\\\]\", 1))\\\n",
    ".withColumn(\"agent\", regexp_extract(col(\"log_text\"), r\"\\\"Mozilla\\/(.*?)\\\"\", 1))\\\n",
    ".withColumn(\"OS\", regexp_extract(col(\"log_text\"), \"(Windows|Linux|MacOS|iOS|Android)\", 1))\n"
   ]
  },
  {
   "cell_type": "raw",
   "id": "56261515",
   "metadata": {},
   "source": [
    "# Extract feature columns using regular expressions\n",
    "log_df = raw_df.withColumn(\"ip\", regexp_extract(col(\"log_text\"), \"^([\\\\d.]+)\", 1)) \\\n",
    "    .withColumn(\"request_type\", regexp_extract(\"log_text\", r\"\\\"(.*?)\\\"\", 1)) \\\n",
    ".withColumn(\"status\", regexp_extract(\"log_text\", r\"\\\"\\s+(\\d+)\", 1))\\\n",
    ".withColumn(\"size\", regexp_extract(\"log_text\", r\"\\\"\\s+\\d+\\s+(\\d+)\", 1))\\\n",
    "    .withColumn(\"timestamp\", regexp_extract(col(\"log_text\"), \"\\\\[(.+?)\\\\]\", 1)) \\\n",
    "    .withColumn(\"timezone\", regexp_extract(col(\"log_text\"), \"\\\\[.+?\\\\s(.+?)\\\\]\", 1))\\\n",
    ".withColumn(\"agent\", regexp_extract(col(\"log_text\"), r\"\\\"Mozilla\\/(.*?)\\\"\", 1))\\\n",
    ".withColumn(\"OS\", regexp_extract(col(\"log_text\"), \"(Windows|Linux|MacOS|iOS|Android)\", 1))\n"
   ]
  },
  {
   "cell_type": "raw",
   "id": "846aee11",
   "metadata": {},
   "source": [
    "log_df.limit(10).toPandas().transpagente()"
   ]
  },
  {
   "cell_type": "code",
   "execution_count": 9,
   "id": "be18a62f",
   "metadata": {},
   "outputs": [
    {
     "name": "stdout",
     "output_type": "stream",
     "text": [
      "root\n",
      " |-- log_text: string (nullable = true)\n",
      " |-- ip: string (nullable = true)\n",
      " |-- request_type: string (nullable = true)\n",
      " |-- status: string (nullable = true)\n",
      " |-- size: string (nullable = true)\n",
      " |-- timestamp: string (nullable = true)\n",
      " |-- timezone: string (nullable = true)\n",
      " |-- agent: string (nullable = true)\n",
      " |-- OS: string (nullable = true)\n",
      "\n"
     ]
    }
   ],
   "source": [
    "log_df.printSchema()"
   ]
  },
  {
   "cell_type": "raw",
   "id": "95ade996",
   "metadata": {},
   "source": [
    "log_df.describe().toPandas().transpagente()"
   ]
  },
  {
   "cell_type": "code",
   "execution_count": 10,
   "id": "f22ae802",
   "metadata": {},
   "outputs": [],
   "source": [
    "from pyspark.sql.types import *"
   ]
  },
  {
   "cell_type": "markdown",
   "id": "ee4ec9a0",
   "metadata": {},
   "source": [
    "### สร้าง FACT"
   ]
  },
  {
   "cell_type": "code",
   "execution_count": 11,
   "id": "4eafeb4a",
   "metadata": {},
   "outputs": [],
   "source": [
    "# split dataframe into 2 dataframes\n",
    "fact_df = log_df.select(\"ip\", \"size\", \"status\",\"agent\",\"OS\",\"timestamp\")\\\n",
    "                .withColumn('size',col('size').cast(FloatType()))\\\n",
    "                .withColumn('status',col('status').cast(IntegerType())).dropna()"
   ]
  },
  {
   "cell_type": "markdown",
   "id": "79a85206",
   "metadata": {},
   "source": [
    "### สร้าง DIM_STATUS"
   ]
  },
  {
   "cell_type": "code",
   "execution_count": 12,
   "id": "d1bb2525",
   "metadata": {},
   "outputs": [],
   "source": [
    "status_dim_df = log_df.select(\"status\").withColumn('status',col('status').cast(IntegerType())).dropna()"
   ]
  },
  {
   "cell_type": "code",
   "execution_count": 13,
   "id": "a88991eb",
   "metadata": {},
   "outputs": [
    {
     "name": "stdout",
     "output_type": "stream",
     "text": [
      "root\n",
      " |-- ip: string (nullable = true)\n",
      " |-- size: float (nullable = true)\n",
      " |-- status: integer (nullable = true)\n",
      " |-- agent: string (nullable = true)\n",
      " |-- OS: string (nullable = true)\n",
      " |-- timestamp: string (nullable = true)\n",
      "\n"
     ]
    }
   ],
   "source": [
    "fact_df.printSchema()"
   ]
  },
  {
   "cell_type": "code",
   "execution_count": 14,
   "id": "e82a22a3",
   "metadata": {},
   "outputs": [
    {
     "name": "stdout",
     "output_type": "stream",
     "text": [
      "root\n",
      " |-- status: integer (nullable = true)\n",
      "\n"
     ]
    }
   ],
   "source": [
    "status_dim_df.printSchema()"
   ]
  },
  {
   "cell_type": "code",
   "execution_count": 15,
   "id": "782c19c0",
   "metadata": {},
   "outputs": [
    {
     "name": "stderr",
     "output_type": "stream",
     "text": [
      "                                                                                \r"
     ]
    },
    {
     "data": {
      "text/plain": [
       "10365152"
      ]
     },
     "execution_count": 15,
     "metadata": {},
     "output_type": "execute_result"
    }
   ],
   "source": [
    "status_dim_df.count()"
   ]
  },
  {
   "cell_type": "code",
   "execution_count": 16,
   "id": "f455d10b",
   "metadata": {},
   "outputs": [
    {
     "name": "stderr",
     "output_type": "stream",
     "text": [
      "                                                                                \r"
     ]
    },
    {
     "data": {
      "text/plain": [
       "10365152"
      ]
     },
     "execution_count": 16,
     "metadata": {},
     "output_type": "execute_result"
    }
   ],
   "source": [
    "fact_df.count()"
   ]
  },
  {
   "cell_type": "code",
   "execution_count": 17,
   "id": "c16af2de",
   "metadata": {},
   "outputs": [
    {
     "name": "stderr",
     "output_type": "stream",
     "text": [
      "[Stage 10:======================================================> (58 + 2) / 60]\r"
     ]
    },
    {
     "name": "stdout",
     "output_type": "stream",
     "text": [
      "+-------+------------------+\n",
      "|summary|            status|\n",
      "+-------+------------------+\n",
      "|  count|          10365152|\n",
      "|   mean|210.14194890726156|\n",
      "| stddev|39.214242396992645|\n",
      "|    min|               200|\n",
      "|    max|               504|\n",
      "+-------+------------------+\n",
      "\n"
     ]
    },
    {
     "name": "stderr",
     "output_type": "stream",
     "text": [
      "                                                                                \r"
     ]
    }
   ],
   "source": [
    "status_dim_df.describe().show()"
   ]
  },
  {
   "cell_type": "code",
   "execution_count": 18,
   "id": "9008b3a5",
   "metadata": {},
   "outputs": [
    {
     "name": "stderr",
     "output_type": "stream",
     "text": [
      "[Stage 13:======================================================> (58 + 2) / 60]\r"
     ]
    },
    {
     "name": "stdout",
     "output_type": "stream",
     "text": [
      "+-------+-------------+------------------+------------------+------------------+--------+--------------------+\n",
      "|summary|           ip|              size|            status|             agent|      OS|           timestamp|\n",
      "+-------+-------------+------------------+------------------+------------------+--------+--------------------+\n",
      "|  count|     10365152|          10365152|          10365152|          10365152|10365152|            10365152|\n",
      "|   mean|         null|12433.109789996326|210.14194890726156| 5.008038585209003|    null|                null|\n",
      "| stddev|         null| 28126.54453953198| 39.21424239699265|0.0893329807768274|    null|                null|\n",
      "|    min|1.132.107.223|               0.0|               200|                  |        |22/Jan/2019:03:56...|\n",
      "|    max|99.99.188.195|         1249490.0|               504|               6.0|     iOS|26/Jan/2019:20:29...|\n",
      "+-------+-------------+------------------+------------------+------------------+--------+--------------------+\n",
      "\n"
     ]
    },
    {
     "name": "stderr",
     "output_type": "stream",
     "text": [
      "                                                                                \r"
     ]
    }
   ],
   "source": [
    "fact_df.describe().show()"
   ]
  },
  {
   "cell_type": "code",
   "execution_count": 19,
   "id": "374de007",
   "metadata": {},
   "outputs": [],
   "source": [
    "# add primary key and foreign key to the dataframes\n",
    "new_status_dim_df = status_dim_df.distinct().withColumn(\"status_id\", monotonically_increasing_id())\n",
    "\n",
    "# join dataframes on foreign key and primary key\n",
    "fact_status_df = fact_df.join(new_status_dim_df, fact_df.status == new_status_dim_df.status, \"inner\")\\\n",
    ".select(fact_df[\"*\"], new_status_dim_df[\"status_id\"])"
   ]
  },
  {
   "cell_type": "code",
   "execution_count": 20,
   "id": "da2669c2",
   "metadata": {},
   "outputs": [
    {
     "name": "stderr",
     "output_type": "stream",
     "text": [
      "                                                                                \r"
     ]
    },
    {
     "data": {
      "text/plain": [
       "10365152"
      ]
     },
     "execution_count": 20,
     "metadata": {},
     "output_type": "execute_result"
    }
   ],
   "source": [
    "fact_status_df.count()"
   ]
  },
  {
   "cell_type": "code",
   "execution_count": 21,
   "id": "075ed63f",
   "metadata": {},
   "outputs": [
    {
     "name": "stderr",
     "output_type": "stream",
     "text": [
      "[Stage 45:=======================================================>(74 + 1) / 75]\r"
     ]
    },
    {
     "name": "stdout",
     "output_type": "stream",
     "text": [
      "+------+-------+\n",
      "|status|  count|\n",
      "+------+-------+\n",
      "|   206|      3|\n",
      "|   500|  14266|\n",
      "|   504|    103|\n",
      "|   502|    798|\n",
      "|   301|  67553|\n",
      "|   400|    586|\n",
      "|   403|   5634|\n",
      "|   404| 105011|\n",
      "|   408|    112|\n",
      "|   414|     17|\n",
      "|   200|9579825|\n",
      "|   304| 340228|\n",
      "|   499|  50852|\n",
      "|   302| 199835|\n",
      "|   405|      6|\n",
      "|   401|    323|\n",
      "+------+-------+\n",
      "\n"
     ]
    },
    {
     "name": "stderr",
     "output_type": "stream",
     "text": [
      "                                                                                \r"
     ]
    }
   ],
   "source": [
    "fact_status_df.groupBy('status').count().show()"
   ]
  },
  {
   "cell_type": "code",
   "execution_count": 22,
   "id": "11a42d86",
   "metadata": {},
   "outputs": [
    {
     "name": "stderr",
     "output_type": "stream",
     "text": [
      "                                                                                \r"
     ]
    },
    {
     "name": "stdout",
     "output_type": "stream",
     "text": [
      "+------+-------------+\n",
      "|status|    status_id|\n",
      "+------+-------------+\n",
      "|   206| 369367187456|\n",
      "|   500| 463856467968|\n",
      "|   504| 635655159808|\n",
      "|   502| 730144440320|\n",
      "|   301| 867583393792|\n",
      "|   400| 996432412672|\n",
      "|   403|1030792151040|\n",
      "|   404|1073741824000|\n",
      "|   408|1168231104512|\n",
      "|   414|1314259992576|\n",
      "|   200|1331439861760|\n",
      "|   304|1374389534720|\n",
      "|   499|1477468749824|\n",
      "|   302|1563368095744|\n",
      "|   405|1571958030336|\n",
      "|   401|1709396983808|\n",
      "+------+-------------+\n",
      "\n"
     ]
    }
   ],
   "source": [
    "new_status_dim_df.show()"
   ]
  },
  {
   "cell_type": "code",
   "execution_count": 23,
   "id": "87c6838f",
   "metadata": {},
   "outputs": [
    {
     "name": "stderr",
     "output_type": "stream",
     "text": [
      "                                                                                \r"
     ]
    },
    {
     "name": "stdout",
     "output_type": "stream",
     "text": [
      "+---------------+--------+------+--------------------+-------+--------------------+------------+\n",
      "|             ip|    size|status|               agent|     OS|           timestamp|   status_id|\n",
      "+---------------+--------+------+--------------------+-------+--------------------+------------+\n",
      "| 87.107.218.136|    64.0|   206|4.0 (compatible; ...|Windows|23/Jan/2019:19:09...|369367187456|\n",
      "| 87.107.218.136|    64.0|   206|4.0 (compatible; ...|Windows|23/Jan/2019:19:09...|369367187456|\n",
      "| 185.118.137.99|202772.0|   206|5.0 (Windows NT 6...|Windows|26/Jan/2019:15:11...|369367187456|\n",
      "|    5.217.85.37|    31.0|   500|5.0 (Windows NT 1...|Windows|22/Jan/2019:11:37...|463856467968|\n",
      "|  2.187.127.247|    31.0|   500|5.0 (Windows NT 6...|Windows|23/Jan/2019:23:24...|463856467968|\n",
      "|151.239.241.163| 35112.0|   500|5.0 (Windows NT 6...|Windows|26/Jan/2019:12:46...|463856467968|\n",
      "|151.239.241.163|  1086.0|   500|5.0 (Windows NT 6...|Windows|26/Jan/2019:11:43...|463856467968|\n",
      "|151.239.241.163| 35137.0|   500|5.0 (Windows NT 6...|Windows|26/Jan/2019:13:03...|463856467968|\n",
      "|151.239.241.163| 35111.0|   500|5.0 (Windows NT 6...|Windows|26/Jan/2019:12:46...|463856467968|\n",
      "|151.239.241.163| 35108.0|   500|5.0 (Windows NT 6...|Windows|26/Jan/2019:12:46...|463856467968|\n",
      "|151.239.241.163| 34686.0|   500|5.0 (Windows NT 6...|Windows|26/Jan/2019:13:03...|463856467968|\n",
      "|   46.224.44.43|    31.0|   500|5.0 (Windows NT 6...|Windows|26/Jan/2019:12:55...|463856467968|\n",
      "|  85.133.238.88|    31.0|   500|5.0 (Windows NT 1...|Windows|26/Jan/2019:12:57...|463856467968|\n",
      "|    91.99.47.57| 33631.0|   500|5.0 (Windows NT 1...|Windows|26/Jan/2019:13:45...|463856467968|\n",
      "|  77.104.102.11|     0.0|   500|5.0 (Windows NT 6...|Windows|26/Jan/2019:13:58...|463856467968|\n",
      "|    91.99.47.57| 35185.0|   500|5.0 (Windows NT 1...|Windows|26/Jan/2019:13:54...|463856467968|\n",
      "|151.239.241.163| 35108.0|   500|5.0 (Windows NT 6...|Windows|26/Jan/2019:13:45...|463856467968|\n",
      "| 46.209.158.174|    31.0|   500|5.0 (Windows NT 6...|Windows|26/Jan/2019:13:11...|463856467968|\n",
      "|151.239.241.163| 32998.0|   500|5.0 (Windows NT 1...|Windows|26/Jan/2019:13:25...|463856467968|\n",
      "|   65.49.68.183| 34988.0|   500|5.0 (Windows NT 1...|Windows|24/Jan/2019:15:19...|463856467968|\n",
      "+---------------+--------+------+--------------------+-------+--------------------+------------+\n",
      "only showing top 20 rows\n",
      "\n"
     ]
    }
   ],
   "source": [
    "fact_status_df.show()"
   ]
  },
  {
   "cell_type": "code",
   "execution_count": 24,
   "id": "69c4b6c3",
   "metadata": {},
   "outputs": [
    {
     "name": "stderr",
     "output_type": "stream",
     "text": [
      "                                                                                \r"
     ]
    },
    {
     "data": {
      "text/plain": [
       "10365152"
      ]
     },
     "execution_count": 24,
     "metadata": {},
     "output_type": "execute_result"
    }
   ],
   "source": [
    "fact_status_df.count()"
   ]
  },
  {
   "cell_type": "code",
   "execution_count": 25,
   "id": "b7c61e33",
   "metadata": {},
   "outputs": [],
   "source": [
    "##final_fact_status_df = fact_status_df.drop('status')\n",
    "final_fact_status_df = fact_status_df"
   ]
  },
  {
   "cell_type": "code",
   "execution_count": 26,
   "id": "f053419c",
   "metadata": {},
   "outputs": [],
   "source": [
    "#result_join_df = final_fact_status_df.join(new_status_dim_df,on=[final_fact_status_df.status_id == new_status_dim_df.status_id])"
   ]
  },
  {
   "cell_type": "raw",
   "id": "0184a044",
   "metadata": {},
   "source": [
    "result_join_df.show()"
   ]
  },
  {
   "cell_type": "raw",
   "id": "d73f7b35",
   "metadata": {},
   "source": [
    "result_join_df.describe().toPandas().transpagente()"
   ]
  },
  {
   "cell_type": "raw",
   "id": "160cb72a",
   "metadata": {},
   "source": [
    "log_df"
   ]
  },
  {
   "cell_type": "markdown",
   "id": "c3a2937c",
   "metadata": {},
   "source": [
    "### สร้าง DIM_AGENT"
   ]
  },
  {
   "cell_type": "code",
   "execution_count": 27,
   "id": "b871ac54",
   "metadata": {},
   "outputs": [],
   "source": [
    "# split dataframe into agent Dim\n",
    "agent_dim_df = log_df.select(\"agent\",\"OS\")\\\n",
    ".withColumn('agent',col('agent').cast(StringType())).dropna()\\\n",
    ".withColumn('OS',col('OS').cast(StringType())).dropna()"
   ]
  },
  {
   "cell_type": "code",
   "execution_count": 28,
   "id": "a550afbc",
   "metadata": {},
   "outputs": [
    {
     "name": "stdout",
     "output_type": "stream",
     "text": [
      "root\n",
      " |-- agent: string (nullable = true)\n",
      " |-- OS: string (nullable = true)\n",
      "\n"
     ]
    }
   ],
   "source": [
    "agent_dim_df.printSchema()"
   ]
  },
  {
   "cell_type": "code",
   "execution_count": 29,
   "id": "894ea886",
   "metadata": {},
   "outputs": [
    {
     "name": "stderr",
     "output_type": "stream",
     "text": [
      "                                                                                \r"
     ]
    },
    {
     "data": {
      "text/plain": [
       "10365152"
      ]
     },
     "execution_count": 29,
     "metadata": {},
     "output_type": "execute_result"
    }
   ],
   "source": [
    "agent_dim_df.count()"
   ]
  },
  {
   "cell_type": "code",
   "execution_count": 30,
   "id": "b7fd3104",
   "metadata": {},
   "outputs": [
    {
     "name": "stderr",
     "output_type": "stream",
     "text": [
      "[Stage 91:======================================================> (58 + 2) / 60]\r"
     ]
    },
    {
     "name": "stdout",
     "output_type": "stream",
     "text": [
      "+-------+-------------------+--------+\n",
      "|summary|              agent|      OS|\n",
      "+-------+-------------------+--------+\n",
      "|  count|           10365152|10365152|\n",
      "|   mean|  5.008038585209003|    null|\n",
      "| stddev|0.08933298077682744|    null|\n",
      "|    min|                   |        |\n",
      "|    max|                6.0|     iOS|\n",
      "+-------+-------------------+--------+\n",
      "\n"
     ]
    },
    {
     "name": "stderr",
     "output_type": "stream",
     "text": [
      "                                                                                \r"
     ]
    }
   ],
   "source": [
    "agent_dim_df.describe().show()"
   ]
  },
  {
   "cell_type": "code",
   "execution_count": 31,
   "id": "adf5606b",
   "metadata": {},
   "outputs": [],
   "source": [
    "# add primary key and foreign key to the dataframes\n",
    "new_agent_dim_df = agent_dim_df.distinct().withColumn(\"agent_id\", monotonically_increasing_id())\n",
    "\n",
    "# join dataframes on foreign key and primary key\n",
    "fact_status_agent_df = final_fact_status_df.join(new_agent_dim_df, final_fact_status_df.agent == new_agent_dim_df.agent, \"inner\")\\\n",
    ".select(final_fact_status_df[\"*\"], new_agent_dim_df[\"agent_id\"])"
   ]
  },
  {
   "cell_type": "code",
   "execution_count": 32,
   "id": "0a4854c3",
   "metadata": {},
   "outputs": [
    {
     "name": "stderr",
     "output_type": "stream",
     "text": [
      "                                                                                \r"
     ]
    },
    {
     "data": {
      "text/plain": [
       "15397947"
      ]
     },
     "execution_count": 32,
     "metadata": {},
     "output_type": "execute_result"
    }
   ],
   "source": [
    "fact_status_agent_df.count()"
   ]
  },
  {
   "cell_type": "code",
   "execution_count": 33,
   "id": "76fbf715",
   "metadata": {},
   "outputs": [
    {
     "name": "stderr",
     "output_type": "stream",
     "text": [
      "[Stage 109:=====================================================> (58 + 2) / 60]\r"
     ]
    },
    {
     "name": "stdout",
     "output_type": "stream",
     "text": [
      "+--------------------+-----+\n",
      "|               agent|count|\n",
      "+--------------------+-----+\n",
      "|5.0 (Android 4.2....|  122|\n",
      "|5.0 (Android 4.4....|   89|\n",
      "|5.0 (Android 4.4....|   12|\n",
      "|5.0 (Android 4.4....| 1287|\n",
      "|5.0 (Android 7.0;...|   27|\n",
      "|5.0 (BB10; Touch)...|    1|\n",
      "|5.0 (Linux; Andro...|  249|\n",
      "|5.0 (Linux; Andro...|    2|\n",
      "|5.0 (Linux; Andro...|   19|\n",
      "|5.0 (Linux; Andro...|   95|\n",
      "|5.0 (Linux; Andro...|    1|\n",
      "|5.0 (Linux; Andro...|   31|\n",
      "|5.0 (Linux; Andro...|   34|\n",
      "|5.0 (Linux; Andro...|    2|\n",
      "|5.0 (Linux; Andro...|    1|\n",
      "|5.0 (Linux; Andro...|   77|\n",
      "|5.0 (Linux; Andro...|    1|\n",
      "|5.0 (Linux; Andro...|   41|\n",
      "|5.0 (Linux; Andro...|   37|\n",
      "|5.0 (Linux; Andro...|   37|\n",
      "+--------------------+-----+\n",
      "only showing top 20 rows\n",
      "\n"
     ]
    },
    {
     "name": "stderr",
     "output_type": "stream",
     "text": [
      "                                                                                \r"
     ]
    }
   ],
   "source": [
    "fact_status_agent_df.groupBy('agent').count().show()"
   ]
  },
  {
   "cell_type": "code",
   "execution_count": 34,
   "id": "d4b49ce3",
   "metadata": {},
   "outputs": [
    {
     "name": "stderr",
     "output_type": "stream",
     "text": [
      "[Stage 113:=====================================================> (58 + 2) / 60]\r"
     ]
    },
    {
     "name": "stdout",
     "output_type": "stream",
     "text": [
      "+--------------------+-------+--------+\n",
      "|               agent|     OS|agent_id|\n",
      "+--------------------+-------+--------+\n",
      "|5.0 (Linux; Andro...|  Linux|       0|\n",
      "|5.0 (Linux; Andro...|  Linux|       1|\n",
      "|5.0 (Linux; U; An...|  Linux|       2|\n",
      "|5.0 (Linux; Andro...|  Linux|       3|\n",
      "|5.0 (X11; Linux x...|  Linux|       4|\n",
      "|5.0 (Linux; U; An...|  Linux|       5|\n",
      "|5.0 (Linux; Andro...|  Linux|       6|\n",
      "|5.0 (Linux; Andro...|  Linux|       7|\n",
      "|5.0 (Linux; U; An...|  Linux|       8|\n",
      "|5.0 (Linux; Andro...|  Linux|       9|\n",
      "|5.0 (Windows NT 1...|Windows|      10|\n",
      "|5.0 (Linux; Andro...|  Linux|      11|\n",
      "|5.0 (Linux; Andro...|  Linux|      12|\n",
      "|5.0 (Linux; Andro...|  Linux|      13|\n",
      "|5.0 (Linux; Andro...|  Linux|      14|\n",
      "|5.0 (Linux; Andro...|  Linux|      15|\n",
      "|5.0 (Windows NT 6...|Windows|      16|\n",
      "|5.0 (Linux; Andro...|  Linux|      17|\n",
      "|5.0 (Linux; Andro...|  Linux|      18|\n",
      "|5.0 (Linux; Andro...|  Linux|      19|\n",
      "+--------------------+-------+--------+\n",
      "only showing top 20 rows\n",
      "\n"
     ]
    },
    {
     "name": "stderr",
     "output_type": "stream",
     "text": [
      "                                                                                \r"
     ]
    }
   ],
   "source": [
    "new_agent_dim_df.show()"
   ]
  },
  {
   "cell_type": "code",
   "execution_count": 35,
   "id": "b028ccdb",
   "metadata": {},
   "outputs": [
    {
     "name": "stderr",
     "output_type": "stream",
     "text": [
      "[Stage 122:==========================================>          (161 + 6) / 200]\r"
     ]
    },
    {
     "name": "stdout",
     "output_type": "stream",
     "text": [
      "+-------------+-------+------+--------------------+-------+--------------------+-------------+------------+\n",
      "|           ip|   size|status|               agent|     OS|           timestamp|    status_id|    agent_id|\n",
      "+-------------+-------+------+--------------------+-------+--------------------+-------------+------------+\n",
      "|37.137.254.94|    0.0|   302|5.0 (Android 4.2....|Android|24/Jan/2019:16:57...|1563368095744|824633720845|\n",
      "|37.137.120.56| 4842.0|   200|5.0 (Android 4.2....|Android|23/Jan/2019:18:02...|1331439861760|824633720845|\n",
      "|37.137.120.56|17046.0|   200|5.0 (Android 4.2....|Android|23/Jan/2019:18:01...|1331439861760|824633720845|\n",
      "|37.137.120.56| 4859.0|   200|5.0 (Android 4.2....|Android|23/Jan/2019:18:02...|1331439861760|824633720845|\n",
      "|37.137.120.56| 4336.0|   200|5.0 (Android 4.2....|Android|23/Jan/2019:18:02...|1331439861760|824633720845|\n",
      "|37.137.120.56|16837.0|   200|5.0 (Android 4.2....|Android|23/Jan/2019:18:01...|1331439861760|824633720845|\n",
      "|37.137.120.56|17009.0|   200|5.0 (Android 4.2....|Android|23/Jan/2019:18:02...|1331439861760|824633720845|\n",
      "|37.137.254.94|62894.0|   200|5.0 (Android 4.2....|Android|24/Jan/2019:16:59...|1331439861760|824633720845|\n",
      "| 93.114.26.83|28536.0|   200|5.0 (Android 4.2....|Android|24/Jan/2019:10:48...|1331439861760|824633720845|\n",
      "|37.137.120.56|28536.0|   200|5.0 (Android 4.2....|Android|23/Jan/2019:18:02...|1331439861760|824633720845|\n",
      "|37.137.120.56| 5299.0|   200|5.0 (Android 4.2....|Android|23/Jan/2019:18:02...|1331439861760|824633720845|\n",
      "|37.137.120.56|28536.0|   200|5.0 (Android 4.2....|Android|23/Jan/2019:18:02...|1331439861760|824633720845|\n",
      "|37.137.120.56|22047.0|   200|5.0 (Android 4.2....|Android|23/Jan/2019:18:02...|1331439861760|824633720845|\n",
      "| 93.114.26.83|16801.0|   200|5.0 (Android 4.2....|Android|24/Jan/2019:10:48...|1331439861760|824633720845|\n",
      "| 93.114.26.83|  133.0|   200|5.0 (Android 4.2....|Android|24/Jan/2019:10:48...|1331439861760|824633720845|\n",
      "|37.137.120.56|65152.0|   200|5.0 (Android 4.2....|Android|23/Jan/2019:18:02...|1331439861760|824633720845|\n",
      "|37.137.120.56|16228.0|   200|5.0 (Android 4.2....|Android|23/Jan/2019:18:01...|1331439861760|824633720845|\n",
      "|37.137.120.56|17326.0|   200|5.0 (Android 4.2....|Android|23/Jan/2019:18:01...|1331439861760|824633720845|\n",
      "|37.137.120.56| 2287.0|   200|5.0 (Android 4.2....|Android|23/Jan/2019:18:02...|1331439861760|824633720845|\n",
      "|37.137.254.94|36455.0|   200|5.0 (Android 4.2....|Android|24/Jan/2019:16:57...|1331439861760|824633720845|\n",
      "+-------------+-------+------+--------------------+-------+--------------------+-------------+------------+\n",
      "only showing top 20 rows\n",
      "\n"
     ]
    },
    {
     "name": "stderr",
     "output_type": "stream",
     "text": [
      "                                                                                \r"
     ]
    }
   ],
   "source": [
    "fact_status_agent_df.show()"
   ]
  },
  {
   "cell_type": "code",
   "execution_count": 36,
   "id": "9f5eff3a",
   "metadata": {},
   "outputs": [
    {
     "name": "stderr",
     "output_type": "stream",
     "text": [
      "                                                                                \r"
     ]
    },
    {
     "data": {
      "text/plain": [
       "15397947"
      ]
     },
     "execution_count": 36,
     "metadata": {},
     "output_type": "execute_result"
    }
   ],
   "source": [
    "fact_status_agent_df.count()"
   ]
  },
  {
   "cell_type": "code",
   "execution_count": 37,
   "id": "89b6f5e0",
   "metadata": {},
   "outputs": [],
   "source": [
    "##final_fact_status_agent_df = fact_status_agent_df.drop('agent')\n",
    "final_fact_status_agent_df = fact_status_agent_df"
   ]
  },
  {
   "cell_type": "code",
   "execution_count": 38,
   "id": "862743b2",
   "metadata": {},
   "outputs": [
    {
     "data": {
      "text/plain": [
       "DataFrame[ip: string, size: float, status: int, agent: string, OS: string, timestamp: string, status_id: bigint, agent_id: bigint]"
      ]
     },
     "execution_count": 38,
     "metadata": {},
     "output_type": "execute_result"
    }
   ],
   "source": [
    "final_fact_status_agent_df"
   ]
  },
  {
   "cell_type": "code",
   "execution_count": null,
   "id": "c8670fcc",
   "metadata": {},
   "outputs": [],
   "source": []
  },
  {
   "cell_type": "raw",
   "id": "906706c9",
   "metadata": {},
   "source": [
    "result_join_df = final_fact_status_agent_df.join(new_agent_dim_df,on=[final_fact_status_agent_df.agent_id == new_agent_dim_df.agent_id])\\\n",
    ".join(new_status_dim_df,on=[final_fact_status_agent_df.status_id == new_status_dim_df.status_id])"
   ]
  },
  {
   "cell_type": "code",
   "execution_count": 39,
   "id": "2f5bb259",
   "metadata": {},
   "outputs": [],
   "source": [
    "#result_join_df.show()"
   ]
  },
  {
   "cell_type": "code",
   "execution_count": 40,
   "id": "06c31f8e",
   "metadata": {},
   "outputs": [],
   "source": [
    "#result_join_df.describe().toPandas().transpose()"
   ]
  },
  {
   "cell_type": "raw",
   "id": "6eaad261",
   "metadata": {},
   "source": [
    "result_join_df.groupBy('agent').count().orderBy('count',ascending=False).show(100, truncate=False)"
   ]
  },
  {
   "cell_type": "raw",
   "id": "5bfef3c0",
   "metadata": {},
   "source": [
    "log_df.groupBy('agent').count().orderBy('count',ascending=False).show(100, truncate=False)"
   ]
  },
  {
   "cell_type": "raw",
   "id": "d65894ab",
   "metadata": {},
   "source": [
    "agent_dim_df.groupBy('agent').count().orderBy('count',ascending=False).show(100, truncate=False)"
   ]
  },
  {
   "cell_type": "code",
   "execution_count": null,
   "id": "f666f7f8",
   "metadata": {},
   "outputs": [],
   "source": []
  },
  {
   "cell_type": "code",
   "execution_count": null,
   "id": "d4a8c103",
   "metadata": {},
   "outputs": [],
   "source": []
  },
  {
   "cell_type": "code",
   "execution_count": null,
   "id": "8b7d84b6",
   "metadata": {},
   "outputs": [],
   "source": []
  },
  {
   "cell_type": "markdown",
   "id": "6c90616d",
   "metadata": {},
   "source": [
    "### สร้าง DIM_TIME"
   ]
  },
  {
   "cell_type": "code",
   "execution_count": 41,
   "id": "d6329270",
   "metadata": {},
   "outputs": [],
   "source": [
    "from pyspark.sql import functions as sparkf"
   ]
  },
  {
   "cell_type": "code",
   "execution_count": 42,
   "id": "ca87d819",
   "metadata": {},
   "outputs": [],
   "source": [
    "# split dataframe into agent Dim\n",
    "time_dim_df = log_df.select(\"timestamp\",\"timezone\")\\\n",
    ".withColumn(\"new_timestamp\",regexp_replace(regexp_replace(col('timestamp'),\"(.*)(:)(.*:.*:\\S*)\",'$1 $3'),\"/\",\"-\"))\\\n",
    ".withColumn(\"new_timestamp\",sparkf.to_timestamp(\"new_timestamp\",\"dd-MMM-yyyy HH:mm:ss \")).dropna()"
   ]
  },
  {
   "cell_type": "code",
   "execution_count": 43,
   "id": "90357ee0",
   "metadata": {},
   "outputs": [
    {
     "name": "stdout",
     "output_type": "stream",
     "text": [
      "root\n",
      " |-- timestamp: string (nullable = true)\n",
      " |-- timezone: string (nullable = true)\n",
      " |-- new_timestamp: timestamp (nullable = true)\n",
      "\n"
     ]
    }
   ],
   "source": [
    "time_dim_df.printSchema()"
   ]
  },
  {
   "cell_type": "code",
   "execution_count": 44,
   "id": "bcf1e3ce",
   "metadata": {},
   "outputs": [
    {
     "name": "stderr",
     "output_type": "stream",
     "text": [
      "                                                                                \r"
     ]
    },
    {
     "data": {
      "text/plain": [
       "[Row(timestamp='22/Jan/2019:13:40:56 ', timezone='+0330', new_timestamp=datetime.datetime(2019, 1, 22, 13, 40, 56))]"
      ]
     },
     "execution_count": 44,
     "metadata": {},
     "output_type": "execute_result"
    }
   ],
   "source": [
    "time_dim_df.select(\"timestamp\",\"timezone\",\"new_timestamp\").take(1)"
   ]
  },
  {
   "cell_type": "code",
   "execution_count": 45,
   "id": "21e0838a",
   "metadata": {},
   "outputs": [
    {
     "name": "stderr",
     "output_type": "stream",
     "text": [
      "                                                                                \r"
     ]
    },
    {
     "data": {
      "text/plain": [
       "10365152"
      ]
     },
     "execution_count": 45,
     "metadata": {},
     "output_type": "execute_result"
    }
   ],
   "source": [
    "time_dim_df.count()"
   ]
  },
  {
   "cell_type": "code",
   "execution_count": 46,
   "id": "d01d98ea",
   "metadata": {},
   "outputs": [
    {
     "data": {
      "text/plain": [
       "DataFrame[timestamp: string, timezone: string, new_timestamp: timestamp]"
      ]
     },
     "execution_count": 46,
     "metadata": {},
     "output_type": "execute_result"
    }
   ],
   "source": [
    "time_dim_df"
   ]
  },
  {
   "cell_type": "code",
   "execution_count": null,
   "id": "8ea5949b",
   "metadata": {},
   "outputs": [],
   "source": []
  },
  {
   "cell_type": "code",
   "execution_count": 47,
   "id": "4f612f2c",
   "metadata": {},
   "outputs": [],
   "source": [
    "# add primary key and foreign key to the dataframes\n",
    "new_time_dim_df = time_dim_df.distinct().withColumn(\"time_id\", monotonically_increasing_id())\n",
    "\n",
    "# join dataframes on foreign key and primary key\n",
    "fact_status_agent_time_df = final_fact_status_agent_df.join(new_time_dim_df, final_fact_status_agent_df.timestamp == new_time_dim_df.timestamp, \"inner\")\\\n",
    ".select(final_fact_status_agent_df[\"*\"], new_time_dim_df[\"time_id\"])"
   ]
  },
  {
   "cell_type": "code",
   "execution_count": 48,
   "id": "29944bca",
   "metadata": {},
   "outputs": [
    {
     "name": "stderr",
     "output_type": "stream",
     "text": [
      "                                                                                \r"
     ]
    },
    {
     "data": {
      "text/plain": [
       "15397947"
      ]
     },
     "execution_count": 48,
     "metadata": {},
     "output_type": "execute_result"
    }
   ],
   "source": [
    "fact_status_agent_df.count()"
   ]
  },
  {
   "cell_type": "code",
   "execution_count": 49,
   "id": "e60412f2",
   "metadata": {},
   "outputs": [
    {
     "name": "stderr",
     "output_type": "stream",
     "text": [
      "                                                                                \r"
     ]
    },
    {
     "data": {
      "text/plain": [
       "15397947"
      ]
     },
     "execution_count": 49,
     "metadata": {},
     "output_type": "execute_result"
    }
   ],
   "source": [
    "fact_status_agent_time_df.count()"
   ]
  },
  {
   "cell_type": "code",
   "execution_count": null,
   "id": "022dd62c",
   "metadata": {},
   "outputs": [],
   "source": []
  },
  {
   "cell_type": "code",
   "execution_count": 50,
   "id": "7e16c519",
   "metadata": {},
   "outputs": [],
   "source": [
    "##final_fact_status_agent_time_df = fact_status_agent_time_df.drop('agent')\n",
    "final_fact_status_agent_time_df = fact_status_agent_time_df"
   ]
  },
  {
   "cell_type": "code",
   "execution_count": 51,
   "id": "8f6ad884",
   "metadata": {},
   "outputs": [
    {
     "data": {
      "text/plain": [
       "DataFrame[ip: string, size: float, status: int, agent: string, OS: string, timestamp: string, status_id: bigint, agent_id: bigint, time_id: bigint]"
      ]
     },
     "execution_count": 51,
     "metadata": {},
     "output_type": "execute_result"
    }
   ],
   "source": [
    "final_fact_status_agent_time_df"
   ]
  },
  {
   "cell_type": "code",
   "execution_count": null,
   "id": "61b69e45",
   "metadata": {},
   "outputs": [],
   "source": []
  },
  {
   "cell_type": "code",
   "execution_count": 52,
   "id": "a64dde5c",
   "metadata": {},
   "outputs": [],
   "source": [
    "result_join_df = final_fact_status_agent_time_df.join(new_agent_dim_df,on=[final_fact_status_agent_time_df.agent_id == new_agent_dim_df.agent_id])\\\n",
    ".join(new_status_dim_df,on=[final_fact_status_agent_time_df.status_id == new_status_dim_df.status_id])\\\n",
    ".join(new_time_dim_df,on=[final_fact_status_agent_time_df.time_id == new_time_dim_df.time_id])"
   ]
  },
  {
   "cell_type": "code",
   "execution_count": null,
   "id": "d039cc7e",
   "metadata": {},
   "outputs": [],
   "source": []
  },
  {
   "cell_type": "code",
   "execution_count": 53,
   "id": "173b99ca",
   "metadata": {},
   "outputs": [
    {
     "name": "stderr",
     "output_type": "stream",
     "text": [
      "[Stage 175:==================================================>  (190 + 2) / 200]\r"
     ]
    },
    {
     "name": "stdout",
     "output_type": "stream",
     "text": [
      "+--------------------+-----+\n",
      "|           timestamp|count|\n",
      "+--------------------+-----+\n",
      "|25/Jan/2019:05:09...|  779|\n",
      "|26/Jan/2019:19:07...|  515|\n",
      "|25/Jan/2019:19:34...|  502|\n",
      "|25/Jan/2019:19:34...|  459|\n",
      "|26/Jan/2019:19:05...|  439|\n",
      "|26/Jan/2019:17:18...|  439|\n",
      "|26/Jan/2019:16:06...|  432|\n",
      "|26/Jan/2019:14:49...|  432|\n",
      "|22/Jan/2019:18:49...|  427|\n",
      "|23/Jan/2019:17:10...|  424|\n",
      "|23/Jan/2019:17:22...|  414|\n",
      "|26/Jan/2019:19:03...|  410|\n",
      "|24/Jan/2019:16:54...|  403|\n",
      "|26/Jan/2019:12:59...|  397|\n",
      "|26/Jan/2019:12:39...|  392|\n",
      "|26/Jan/2019:14:32...|  388|\n",
      "|22/Jan/2019:10:05...|  386|\n",
      "|26/Jan/2019:10:36...|  386|\n",
      "|24/Jan/2019:12:16...|  384|\n",
      "|23/Jan/2019:14:14...|  383|\n",
      "+--------------------+-----+\n",
      "only showing top 20 rows\n",
      "\n"
     ]
    },
    {
     "name": "stderr",
     "output_type": "stream",
     "text": [
      "                                                                                \r"
     ]
    }
   ],
   "source": [
    "fact_status_agent_time_df.groupBy('timestamp').count()\\\n",
    ".orderBy('count',ascending=False).show()"
   ]
  },
  {
   "cell_type": "code",
   "execution_count": 54,
   "id": "7e47025f",
   "metadata": {},
   "outputs": [
    {
     "name": "stderr",
     "output_type": "stream",
     "text": [
      "                                                                                \r"
     ]
    },
    {
     "data": {
      "text/plain": [
       "15397947"
      ]
     },
     "execution_count": 54,
     "metadata": {},
     "output_type": "execute_result"
    }
   ],
   "source": [
    "result_join_df.count()"
   ]
  },
  {
   "cell_type": "code",
   "execution_count": 55,
   "id": "8988d030",
   "metadata": {},
   "outputs": [
    {
     "name": "stderr",
     "output_type": "stream",
     "text": [
      "[Stage 212:====================================================>(199 + 1) / 200]\r"
     ]
    },
    {
     "name": "stdout",
     "output_type": "stream",
     "text": [
      "+--------------+------+-------+-------+\n",
      "|            ip|status|     OS|   size|\n",
      "+--------------+------+-------+-------+\n",
      "|  195.181.1.90|   302|Windows|    0.0|\n",
      "|   2.178.8.199|   499|  Linux|    0.0|\n",
      "|  5.116.29.188|   200|       | 6975.0|\n",
      "|  5.114.244.90|   200|       | 3294.0|\n",
      "| 40.77.167.170|   200|  Linux|38995.0|\n",
      "| 91.98.141.154|   200|  Linux| 2376.0|\n",
      "| 91.98.141.154|   200|  Linux| 2885.0|\n",
      "|  31.47.52.122|   200|  Linux|  323.0|\n",
      "| 91.98.141.154|   200|  Linux|  258.0|\n",
      "|  93.119.72.10|   200|  Linux|28536.0|\n",
      "|  93.119.72.10|   200|  Linux|26607.0|\n",
      "|  93.119.72.10|   200|  Linux| 4120.0|\n",
      "|85.133.184.242|   200|Windows|10628.0|\n",
      "|85.133.184.242|   200|Windows| 1214.0|\n",
      "|85.133.184.242|   200|Windows|46772.0|\n",
      "|  5.116.29.188|   200|Android| 6975.0|\n",
      "|  5.114.244.90|   200|Android| 3294.0|\n",
      "| 91.98.141.154|   200|Windows| 2376.0|\n",
      "| 91.98.141.154|   200|Windows| 2885.0|\n",
      "|  31.47.52.122|   200|Windows|  323.0|\n",
      "+--------------+------+-------+-------+\n",
      "only showing top 20 rows\n",
      "\n"
     ]
    },
    {
     "name": "stderr",
     "output_type": "stream",
     "text": [
      "                                                                                \r"
     ]
    }
   ],
   "source": [
    "result_join_df.select(final_fact_status_agent_time_df.ip,new_status_dim_df.status,new_agent_dim_df.OS,final_fact_status_agent_time_df.size).show()"
   ]
  },
  {
   "cell_type": "code",
   "execution_count": 56,
   "id": "372e4288",
   "metadata": {},
   "outputs": [
    {
     "name": "stdout",
     "output_type": "stream",
     "text": [
      "root\n",
      " |-- ip: string (nullable = true)\n",
      " |-- size: float (nullable = true)\n",
      " |-- status: integer (nullable = true)\n",
      " |-- agent: string (nullable = true)\n",
      " |-- OS: string (nullable = true)\n",
      " |-- timestamp: string (nullable = true)\n",
      " |-- status_id: long (nullable = false)\n",
      " |-- agent_id: long (nullable = false)\n",
      " |-- time_id: long (nullable = false)\n",
      " |-- agent: string (nullable = true)\n",
      " |-- OS: string (nullable = true)\n",
      " |-- agent_id: long (nullable = false)\n",
      " |-- status: integer (nullable = true)\n",
      " |-- status_id: long (nullable = false)\n",
      " |-- timestamp: string (nullable = true)\n",
      " |-- timezone: string (nullable = true)\n",
      " |-- new_timestamp: timestamp (nullable = true)\n",
      " |-- time_id: long (nullable = false)\n",
      "\n"
     ]
    }
   ],
   "source": [
    "result_join_df.printSchema()"
   ]
  },
  {
   "cell_type": "markdown",
   "id": "710cf8c4",
   "metadata": {},
   "source": [
    "# MSSQL Connection and Write dataframe into tables"
   ]
  },
  {
   "cell_type": "code",
   "execution_count": 57,
   "id": "537c52b5",
   "metadata": {},
   "outputs": [],
   "source": [
    "server_name = \"jdbc:sqlserver://35.209.118.36\"\n",
    "database_name = \"demostarschema\"\n",
    "url = server_name + \";\" + \"databaseName=\" + database_name + \";\"\n",
    "\n",
    "table_name = \"Inventory\"\n",
    "username = \"SA\"\n",
    "password = \"Passw0rd123456\" # Please specify password here"
   ]
  },
  {
   "cell_type": "code",
   "execution_count": null,
   "id": "a26f10d3",
   "metadata": {},
   "outputs": [
    {
     "name": "stderr",
     "output_type": "stream",
     "text": [
      "[Stage 227:====================>                                 (76 + 6) / 200]\r"
     ]
    }
   ],
   "source": [
    "final_fact_status_agent_time_df.write.mode('overwrite').format(\"jdbc\")\\\n",
    "        .option(\"url\", url) \\\n",
    "        .option(\"dbtable\", \"fact_ip_size\") \\\n",
    "        .option(\"user\", username) \\\n",
    "        .option(\"password\", password)\\\n",
    "        .option(\"driver\", \"com.microsoft.sqlserver.jdbc.SQLServerDriver\").save()"
   ]
  },
  {
   "cell_type": "code",
   "execution_count": null,
   "id": "88e4722c",
   "metadata": {},
   "outputs": [],
   "source": [
    "new.write.mode('overwrite').format(\"jdbc\")\\\n",
    "        .option(\"url\", url) \\\n",
    "        .option(\"dbtable\", \"fact_ip_size\") \\\n",
    "        .option(\"user\", username) \\\n",
    "        .option(\"password\", password)\\\n",
    "        .option(\"driver\", \"com.microsoft.sqlserver.jdbc.SQLServerDriver\").save()"
   ]
  }
 ],
 "metadata": {
  "kernelspec": {
   "display_name": "Python 3 (ipykernel)",
   "language": "python",
   "name": "python3"
  },
  "language_info": {
   "codemirror_mode": {
    "name": "ipython",
    "version": 3
   },
   "file_extension": ".py",
   "mimetype": "text/x-python",
   "name": "python",
   "nbconvert_exporter": "python",
   "pygments_lexer": "ipython3",
   "version": "3.9.2"
  }
 },
 "nbformat": 4,
 "nbformat_minor": 5
}
